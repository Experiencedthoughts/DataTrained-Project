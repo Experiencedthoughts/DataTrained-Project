{
 "cells": [
  {
   "cell_type": "markdown",
   "id": "9dc0b42c",
   "metadata": {},
   "source": [
    "# Flight Price Prediction"
   ]
  },
  {
   "cell_type": "markdown",
   "id": "3b082ec1",
   "metadata": {},
   "source": [
    "# Problem Statement"
   ]
  },
  {
   "cell_type": "markdown",
   "id": "b2459b42",
   "metadata": {},
   "source": [
    "Flight ticket prices can be something hard to guess, today we might see a price, check out the price of the same flight tomorrow, it will be a different story. We might have often heard travellers saying that flight ticket prices are so unpredictable. Here you will be provided with prices of flight tickets for various airlines between the months of March and June of 2019 and between various cities."
   ]
  },
  {
   "cell_type": "markdown",
   "id": "4509ec94",
   "metadata": {},
   "source": [
    "# Importing Required Libraries"
   ]
  },
  {
   "cell_type": "code",
   "execution_count": 1,
   "id": "891bdf76",
   "metadata": {},
   "outputs": [],
   "source": [
    "import pandas as pd\n",
    "import numpy as np\n",
    "import sklearn\n",
    "import seaborn as sns\n",
    "import matplotlib.pyplot as plt\n",
    "import warnings\n",
    "warnings.filterwarnings('ignore')"
   ]
  },
  {
   "cell_type": "markdown",
   "id": "4bf2ef4b",
   "metadata": {},
   "source": [
    "# Loading the dataset"
   ]
  },
  {
   "cell_type": "code",
   "execution_count": 2,
   "id": "0bc279c1",
   "metadata": {},
   "outputs": [],
   "source": [
    "df_train1=pd.read_csv('flight_train.csv')"
   ]
  },
  {
   "cell_type": "code",
   "execution_count": 3,
   "id": "d5809dc0",
   "metadata": {},
   "outputs": [
    {
     "data": {
      "text/html": [
       "<div>\n",
       "<style scoped>\n",
       "    .dataframe tbody tr th:only-of-type {\n",
       "        vertical-align: middle;\n",
       "    }\n",
       "\n",
       "    .dataframe tbody tr th {\n",
       "        vertical-align: top;\n",
       "    }\n",
       "\n",
       "    .dataframe thead th {\n",
       "        text-align: right;\n",
       "    }\n",
       "</style>\n",
       "<table border=\"1\" class=\"dataframe\">\n",
       "  <thead>\n",
       "    <tr style=\"text-align: right;\">\n",
       "      <th></th>\n",
       "      <th>Airline</th>\n",
       "      <th>Date_of_Journey</th>\n",
       "      <th>Source</th>\n",
       "      <th>Destination</th>\n",
       "      <th>Route</th>\n",
       "      <th>Dep_Time</th>\n",
       "      <th>Arrival_Time</th>\n",
       "      <th>Duration</th>\n",
       "      <th>Total_Stops</th>\n",
       "      <th>Additional_Info</th>\n",
       "      <th>Price</th>\n",
       "    </tr>\n",
       "  </thead>\n",
       "  <tbody>\n",
       "    <tr>\n",
       "      <th>6758</th>\n",
       "      <td>Jet Airways</td>\n",
       "      <td>9/05/2019</td>\n",
       "      <td>Delhi</td>\n",
       "      <td>Cochin</td>\n",
       "      <td>DEL ? JAI ? BOM ? COK</td>\n",
       "      <td>09:40</td>\n",
       "      <td>04:25 10 May</td>\n",
       "      <td>18h 45m</td>\n",
       "      <td>2 stops</td>\n",
       "      <td>No info</td>\n",
       "      <td>15129</td>\n",
       "    </tr>\n",
       "  </tbody>\n",
       "</table>\n",
       "</div>"
      ],
      "text/plain": [
       "          Airline Date_of_Journey Source Destination                  Route  \\\n",
       "6758  Jet Airways       9/05/2019  Delhi      Cochin  DEL ? JAI ? BOM ? COK   \n",
       "\n",
       "     Dep_Time  Arrival_Time Duration Total_Stops Additional_Info  Price  \n",
       "6758    09:40  04:25 10 May  18h 45m     2 stops         No info  15129  "
      ]
     },
     "execution_count": 3,
     "metadata": {},
     "output_type": "execute_result"
    }
   ],
   "source": [
    "df_train1.sample()"
   ]
  },
  {
   "cell_type": "code",
   "execution_count": 4,
   "id": "81ed17a1",
   "metadata": {},
   "outputs": [
    {
     "data": {
      "text/html": [
       "<div>\n",
       "<style scoped>\n",
       "    .dataframe tbody tr th:only-of-type {\n",
       "        vertical-align: middle;\n",
       "    }\n",
       "\n",
       "    .dataframe tbody tr th {\n",
       "        vertical-align: top;\n",
       "    }\n",
       "\n",
       "    .dataframe thead th {\n",
       "        text-align: right;\n",
       "    }\n",
       "</style>\n",
       "<table border=\"1\" class=\"dataframe\">\n",
       "  <thead>\n",
       "    <tr style=\"text-align: right;\">\n",
       "      <th></th>\n",
       "      <th>Airline</th>\n",
       "      <th>Date_of_Journey</th>\n",
       "      <th>Source</th>\n",
       "      <th>Destination</th>\n",
       "      <th>Route</th>\n",
       "      <th>Dep_Time</th>\n",
       "      <th>Arrival_Time</th>\n",
       "      <th>Duration</th>\n",
       "      <th>Total_Stops</th>\n",
       "      <th>Additional_Info</th>\n",
       "      <th>Price</th>\n",
       "    </tr>\n",
       "  </thead>\n",
       "  <tbody>\n",
       "    <tr>\n",
       "      <th>0</th>\n",
       "      <td>IndiGo</td>\n",
       "      <td>24/03/2019</td>\n",
       "      <td>Banglore</td>\n",
       "      <td>New Delhi</td>\n",
       "      <td>BLR ? DEL</td>\n",
       "      <td>22:20</td>\n",
       "      <td>01:10 22 Mar</td>\n",
       "      <td>2h 50m</td>\n",
       "      <td>non-stop</td>\n",
       "      <td>No info</td>\n",
       "      <td>3897</td>\n",
       "    </tr>\n",
       "    <tr>\n",
       "      <th>1</th>\n",
       "      <td>Air India</td>\n",
       "      <td>1/05/2019</td>\n",
       "      <td>Kolkata</td>\n",
       "      <td>Banglore</td>\n",
       "      <td>CCU ? IXR ? BBI ? BLR</td>\n",
       "      <td>05:50</td>\n",
       "      <td>13:15</td>\n",
       "      <td>7h 25m</td>\n",
       "      <td>2 stops</td>\n",
       "      <td>No info</td>\n",
       "      <td>7662</td>\n",
       "    </tr>\n",
       "    <tr>\n",
       "      <th>2</th>\n",
       "      <td>Jet Airways</td>\n",
       "      <td>9/06/2019</td>\n",
       "      <td>Delhi</td>\n",
       "      <td>Cochin</td>\n",
       "      <td>DEL ? LKO ? BOM ? COK</td>\n",
       "      <td>09:25</td>\n",
       "      <td>04:25 10 Jun</td>\n",
       "      <td>19h</td>\n",
       "      <td>2 stops</td>\n",
       "      <td>No info</td>\n",
       "      <td>13882</td>\n",
       "    </tr>\n",
       "    <tr>\n",
       "      <th>3</th>\n",
       "      <td>IndiGo</td>\n",
       "      <td>12/05/2019</td>\n",
       "      <td>Kolkata</td>\n",
       "      <td>Banglore</td>\n",
       "      <td>CCU ? NAG ? BLR</td>\n",
       "      <td>18:05</td>\n",
       "      <td>23:30</td>\n",
       "      <td>5h 25m</td>\n",
       "      <td>1 stop</td>\n",
       "      <td>No info</td>\n",
       "      <td>6218</td>\n",
       "    </tr>\n",
       "    <tr>\n",
       "      <th>4</th>\n",
       "      <td>IndiGo</td>\n",
       "      <td>01/03/2019</td>\n",
       "      <td>Banglore</td>\n",
       "      <td>New Delhi</td>\n",
       "      <td>BLR ? NAG ? DEL</td>\n",
       "      <td>16:50</td>\n",
       "      <td>21:35</td>\n",
       "      <td>4h 45m</td>\n",
       "      <td>1 stop</td>\n",
       "      <td>No info</td>\n",
       "      <td>13302</td>\n",
       "    </tr>\n",
       "  </tbody>\n",
       "</table>\n",
       "</div>"
      ],
      "text/plain": [
       "       Airline Date_of_Journey    Source Destination                  Route  \\\n",
       "0       IndiGo      24/03/2019  Banglore   New Delhi              BLR ? DEL   \n",
       "1    Air India       1/05/2019   Kolkata    Banglore  CCU ? IXR ? BBI ? BLR   \n",
       "2  Jet Airways       9/06/2019     Delhi      Cochin  DEL ? LKO ? BOM ? COK   \n",
       "3       IndiGo      12/05/2019   Kolkata    Banglore        CCU ? NAG ? BLR   \n",
       "4       IndiGo      01/03/2019  Banglore   New Delhi        BLR ? NAG ? DEL   \n",
       "\n",
       "  Dep_Time  Arrival_Time Duration Total_Stops Additional_Info  Price  \n",
       "0    22:20  01:10 22 Mar   2h 50m    non-stop         No info   3897  \n",
       "1    05:50         13:15   7h 25m     2 stops         No info   7662  \n",
       "2    09:25  04:25 10 Jun      19h     2 stops         No info  13882  \n",
       "3    18:05         23:30   5h 25m      1 stop         No info   6218  \n",
       "4    16:50         21:35   4h 45m      1 stop         No info  13302  "
      ]
     },
     "execution_count": 4,
     "metadata": {},
     "output_type": "execute_result"
    }
   ],
   "source": [
    "df_train1.head()"
   ]
  },
  {
   "cell_type": "code",
   "execution_count": 5,
   "id": "587d3698",
   "metadata": {},
   "outputs": [
    {
     "data": {
      "text/html": [
       "<div>\n",
       "<style scoped>\n",
       "    .dataframe tbody tr th:only-of-type {\n",
       "        vertical-align: middle;\n",
       "    }\n",
       "\n",
       "    .dataframe tbody tr th {\n",
       "        vertical-align: top;\n",
       "    }\n",
       "\n",
       "    .dataframe thead th {\n",
       "        text-align: right;\n",
       "    }\n",
       "</style>\n",
       "<table border=\"1\" class=\"dataframe\">\n",
       "  <thead>\n",
       "    <tr style=\"text-align: right;\">\n",
       "      <th></th>\n",
       "      <th>Airline</th>\n",
       "      <th>Date_of_Journey</th>\n",
       "      <th>Source</th>\n",
       "      <th>Destination</th>\n",
       "      <th>Route</th>\n",
       "      <th>Dep_Time</th>\n",
       "      <th>Arrival_Time</th>\n",
       "      <th>Duration</th>\n",
       "      <th>Total_Stops</th>\n",
       "      <th>Additional_Info</th>\n",
       "      <th>Price</th>\n",
       "    </tr>\n",
       "  </thead>\n",
       "  <tbody>\n",
       "    <tr>\n",
       "      <th>10678</th>\n",
       "      <td>Air Asia</td>\n",
       "      <td>9/04/2019</td>\n",
       "      <td>Kolkata</td>\n",
       "      <td>Banglore</td>\n",
       "      <td>CCU ? BLR</td>\n",
       "      <td>19:55</td>\n",
       "      <td>22:25</td>\n",
       "      <td>2h 30m</td>\n",
       "      <td>non-stop</td>\n",
       "      <td>No info</td>\n",
       "      <td>4107</td>\n",
       "    </tr>\n",
       "    <tr>\n",
       "      <th>10679</th>\n",
       "      <td>Air India</td>\n",
       "      <td>27/04/2019</td>\n",
       "      <td>Kolkata</td>\n",
       "      <td>Banglore</td>\n",
       "      <td>CCU ? BLR</td>\n",
       "      <td>20:45</td>\n",
       "      <td>23:20</td>\n",
       "      <td>2h 35m</td>\n",
       "      <td>non-stop</td>\n",
       "      <td>No info</td>\n",
       "      <td>4145</td>\n",
       "    </tr>\n",
       "    <tr>\n",
       "      <th>10680</th>\n",
       "      <td>Jet Airways</td>\n",
       "      <td>27/04/2019</td>\n",
       "      <td>Banglore</td>\n",
       "      <td>Delhi</td>\n",
       "      <td>BLR ? DEL</td>\n",
       "      <td>08:20</td>\n",
       "      <td>11:20</td>\n",
       "      <td>3h</td>\n",
       "      <td>non-stop</td>\n",
       "      <td>No info</td>\n",
       "      <td>7229</td>\n",
       "    </tr>\n",
       "    <tr>\n",
       "      <th>10681</th>\n",
       "      <td>Vistara</td>\n",
       "      <td>01/03/2019</td>\n",
       "      <td>Banglore</td>\n",
       "      <td>New Delhi</td>\n",
       "      <td>BLR ? DEL</td>\n",
       "      <td>11:30</td>\n",
       "      <td>14:10</td>\n",
       "      <td>2h 40m</td>\n",
       "      <td>non-stop</td>\n",
       "      <td>No info</td>\n",
       "      <td>12648</td>\n",
       "    </tr>\n",
       "    <tr>\n",
       "      <th>10682</th>\n",
       "      <td>Air India</td>\n",
       "      <td>9/05/2019</td>\n",
       "      <td>Delhi</td>\n",
       "      <td>Cochin</td>\n",
       "      <td>DEL ? GOI ? BOM ? COK</td>\n",
       "      <td>10:55</td>\n",
       "      <td>19:15</td>\n",
       "      <td>8h 20m</td>\n",
       "      <td>2 stops</td>\n",
       "      <td>No info</td>\n",
       "      <td>11753</td>\n",
       "    </tr>\n",
       "  </tbody>\n",
       "</table>\n",
       "</div>"
      ],
      "text/plain": [
       "           Airline Date_of_Journey    Source Destination  \\\n",
       "10678     Air Asia       9/04/2019   Kolkata    Banglore   \n",
       "10679    Air India      27/04/2019   Kolkata    Banglore   \n",
       "10680  Jet Airways      27/04/2019  Banglore       Delhi   \n",
       "10681      Vistara      01/03/2019  Banglore   New Delhi   \n",
       "10682    Air India       9/05/2019     Delhi      Cochin   \n",
       "\n",
       "                       Route Dep_Time Arrival_Time Duration Total_Stops  \\\n",
       "10678              CCU ? BLR    19:55        22:25   2h 30m    non-stop   \n",
       "10679              CCU ? BLR    20:45        23:20   2h 35m    non-stop   \n",
       "10680              BLR ? DEL    08:20        11:20       3h    non-stop   \n",
       "10681              BLR ? DEL    11:30        14:10   2h 40m    non-stop   \n",
       "10682  DEL ? GOI ? BOM ? COK    10:55        19:15   8h 20m     2 stops   \n",
       "\n",
       "      Additional_Info  Price  \n",
       "10678         No info   4107  \n",
       "10679         No info   4145  \n",
       "10680         No info   7229  \n",
       "10681         No info  12648  \n",
       "10682         No info  11753  "
      ]
     },
     "execution_count": 5,
     "metadata": {},
     "output_type": "execute_result"
    }
   ],
   "source": [
    "df_train1.tail()"
   ]
  },
  {
   "cell_type": "code",
   "execution_count": 6,
   "id": "d8a14317",
   "metadata": {},
   "outputs": [
    {
     "data": {
      "text/plain": [
       "(10683, 11)"
      ]
     },
     "execution_count": 6,
     "metadata": {},
     "output_type": "execute_result"
    }
   ],
   "source": [
    "df_train1.shape"
   ]
  },
  {
   "cell_type": "code",
   "execution_count": 7,
   "id": "f0a5f79c",
   "metadata": {},
   "outputs": [
    {
     "data": {
      "text/plain": [
       "Index(['Airline', 'Date_of_Journey', 'Source', 'Destination', 'Route',\n",
       "       'Dep_Time', 'Arrival_Time', 'Duration', 'Total_Stops',\n",
       "       'Additional_Info', 'Price'],\n",
       "      dtype='object')"
      ]
     },
     "execution_count": 7,
     "metadata": {},
     "output_type": "execute_result"
    }
   ],
   "source": [
    "df_train1.columns"
   ]
  },
  {
   "cell_type": "code",
   "execution_count": 8,
   "id": "09baeec8",
   "metadata": {},
   "outputs": [
    {
     "name": "stdout",
     "output_type": "stream",
     "text": [
      "<class 'pandas.core.frame.DataFrame'>\n",
      "RangeIndex: 10683 entries, 0 to 10682\n",
      "Data columns (total 11 columns):\n",
      " #   Column           Non-Null Count  Dtype \n",
      "---  ------           --------------  ----- \n",
      " 0   Airline          10683 non-null  object\n",
      " 1   Date_of_Journey  10683 non-null  object\n",
      " 2   Source           10683 non-null  object\n",
      " 3   Destination      10683 non-null  object\n",
      " 4   Route            10682 non-null  object\n",
      " 5   Dep_Time         10683 non-null  object\n",
      " 6   Arrival_Time     10683 non-null  object\n",
      " 7   Duration         10683 non-null  object\n",
      " 8   Total_Stops      10682 non-null  object\n",
      " 9   Additional_Info  10683 non-null  object\n",
      " 10  Price            10683 non-null  int64 \n",
      "dtypes: int64(1), object(10)\n",
      "memory usage: 918.2+ KB\n"
     ]
    }
   ],
   "source": [
    "df_train1.info()"
   ]
  },
  {
   "cell_type": "markdown",
   "id": "9a926d60",
   "metadata": {},
   "source": [
    "info() function shows us that there are 10 columns of object variables and 1 column of integer variable.So now we are going to remove the unneccessary column and to convert the object to integer columns wherever it is required"
   ]
  },
  {
   "cell_type": "code",
   "execution_count": 9,
   "id": "f46bc6ed",
   "metadata": {},
   "outputs": [
    {
     "data": {
      "image/png": "[encoded data removed]",
      "text/plain": [
       "<Figure size 432x288 with 1 Axes>"
      ]
     },
     "metadata": {
      "needs_background": "light"
     },
     "output_type": "display_data"
    }
   ],
   "source": [
    "df_train1['Airline'].hist(grid=False)\n",
    "plt.title('Rock vs Mine')\n",
    "plt.show()"
   ]
  },
  {
   "cell_type": "code",
   "execution_count": 10,
   "id": "659189bb",
   "metadata": {},
   "outputs": [
    {
     "data": {
      "text/plain": [
       "Jet Airways                          3849\n",
       "IndiGo                               2053\n",
       "Air India                            1752\n",
       "Multiple carriers                    1196\n",
       "SpiceJet                              818\n",
       "Vistara                               479\n",
       "Air Asia                              319\n",
       "GoAir                                 194\n",
       "Multiple carriers Premium economy      13\n",
       "Jet Airways Business                    6\n",
       "Vistara Premium economy                 3\n",
       "Trujet                                  1\n",
       "Name: Airline, dtype: int64"
      ]
     },
     "execution_count": 10,
     "metadata": {},
     "output_type": "execute_result"
    }
   ],
   "source": [
    "df_train1['Airline'].value_counts()"
   ]
  },
  {
   "cell_type": "code",
   "execution_count": 11,
   "id": "187ebd2e",
   "metadata": {},
   "outputs": [],
   "source": [
    "df_train=df_train1.drop(['Additional_Info','Total_Stops','Arrival_Time','Dep_Time','Route','Destination','Source'\n",
    "               ,'Date_of_Journey'],axis=1)"
   ]
  },
  {
   "cell_type": "code",
   "execution_count": 12,
   "id": "27ffeb21",
   "metadata": {},
   "outputs": [],
   "source": [
    "df_train['Duration2']=(pd.to_timedelta(df_train['Duration']).dt.seconds // 60).astype(str) + 'm'"
   ]
  },
  {
   "cell_type": "code",
   "execution_count": 13,
   "id": "2c892935",
   "metadata": {},
   "outputs": [
    {
     "data": {
      "text/html": [
       "<div>\n",
       "<style scoped>\n",
       "    .dataframe tbody tr th:only-of-type {\n",
       "        vertical-align: middle;\n",
       "    }\n",
       "\n",
       "    .dataframe tbody tr th {\n",
       "        vertical-align: top;\n",
       "    }\n",
       "\n",
       "    .dataframe thead th {\n",
       "        text-align: right;\n",
       "    }\n",
       "</style>\n",
       "<table border=\"1\" class=\"dataframe\">\n",
       "  <thead>\n",
       "    <tr style=\"text-align: right;\">\n",
       "      <th></th>\n",
       "      <th>Airline</th>\n",
       "      <th>Duration</th>\n",
       "      <th>Price</th>\n",
       "      <th>Duration2</th>\n",
       "    </tr>\n",
       "  </thead>\n",
       "  <tbody>\n",
       "    <tr>\n",
       "      <th>0</th>\n",
       "      <td>IndiGo</td>\n",
       "      <td>2h 50m</td>\n",
       "      <td>3897</td>\n",
       "      <td>170m</td>\n",
       "    </tr>\n",
       "    <tr>\n",
       "      <th>1</th>\n",
       "      <td>Air India</td>\n",
       "      <td>7h 25m</td>\n",
       "      <td>7662</td>\n",
       "      <td>445m</td>\n",
       "    </tr>\n",
       "    <tr>\n",
       "      <th>2</th>\n",
       "      <td>Jet Airways</td>\n",
       "      <td>19h</td>\n",
       "      <td>13882</td>\n",
       "      <td>1140m</td>\n",
       "    </tr>\n",
       "    <tr>\n",
       "      <th>3</th>\n",
       "      <td>IndiGo</td>\n",
       "      <td>5h 25m</td>\n",
       "      <td>6218</td>\n",
       "      <td>325m</td>\n",
       "    </tr>\n",
       "    <tr>\n",
       "      <th>4</th>\n",
       "      <td>IndiGo</td>\n",
       "      <td>4h 45m</td>\n",
       "      <td>13302</td>\n",
       "      <td>285m</td>\n",
       "    </tr>\n",
       "  </tbody>\n",
       "</table>\n",
       "</div>"
      ],
      "text/plain": [
       "       Airline Duration  Price Duration2\n",
       "0       IndiGo   2h 50m   3897      170m\n",
       "1    Air India   7h 25m   7662      445m\n",
       "2  Jet Airways      19h  13882     1140m\n",
       "3       IndiGo   5h 25m   6218      325m\n",
       "4       IndiGo   4h 45m  13302      285m"
      ]
     },
     "execution_count": 13,
     "metadata": {},
     "output_type": "execute_result"
    }
   ],
   "source": [
    "df_train.head()"
   ]
  },
  {
   "cell_type": "code",
   "execution_count": 14,
   "id": "dda53333",
   "metadata": {},
   "outputs": [],
   "source": [
    "df=df_train.drop('Duration',axis=1)"
   ]
  },
  {
   "cell_type": "code",
   "execution_count": 15,
   "id": "3f0826c0",
   "metadata": {},
   "outputs": [
    {
     "data": {
      "text/html": [
       "<div>\n",
       "<style scoped>\n",
       "    .dataframe tbody tr th:only-of-type {\n",
       "        vertical-align: middle;\n",
       "    }\n",
       "\n",
       "    .dataframe tbody tr th {\n",
       "        vertical-align: top;\n",
       "    }\n",
       "\n",
       "    .dataframe thead th {\n",
       "        text-align: right;\n",
       "    }\n",
       "</style>\n",
       "<table border=\"1\" class=\"dataframe\">\n",
       "  <thead>\n",
       "    <tr style=\"text-align: right;\">\n",
       "      <th></th>\n",
       "      <th>Airline</th>\n",
       "      <th>Price</th>\n",
       "      <th>Duration2</th>\n",
       "    </tr>\n",
       "  </thead>\n",
       "  <tbody>\n",
       "    <tr>\n",
       "      <th>0</th>\n",
       "      <td>IndiGo</td>\n",
       "      <td>3897</td>\n",
       "      <td>170m</td>\n",
       "    </tr>\n",
       "    <tr>\n",
       "      <th>1</th>\n",
       "      <td>Air India</td>\n",
       "      <td>7662</td>\n",
       "      <td>445m</td>\n",
       "    </tr>\n",
       "    <tr>\n",
       "      <th>2</th>\n",
       "      <td>Jet Airways</td>\n",
       "      <td>13882</td>\n",
       "      <td>1140m</td>\n",
       "    </tr>\n",
       "    <tr>\n",
       "      <th>3</th>\n",
       "      <td>IndiGo</td>\n",
       "      <td>6218</td>\n",
       "      <td>325m</td>\n",
       "    </tr>\n",
       "    <tr>\n",
       "      <th>4</th>\n",
       "      <td>IndiGo</td>\n",
       "      <td>13302</td>\n",
       "      <td>285m</td>\n",
       "    </tr>\n",
       "    <tr>\n",
       "      <th>...</th>\n",
       "      <td>...</td>\n",
       "      <td>...</td>\n",
       "      <td>...</td>\n",
       "    </tr>\n",
       "    <tr>\n",
       "      <th>10678</th>\n",
       "      <td>Air Asia</td>\n",
       "      <td>4107</td>\n",
       "      <td>150m</td>\n",
       "    </tr>\n",
       "    <tr>\n",
       "      <th>10679</th>\n",
       "      <td>Air India</td>\n",
       "      <td>4145</td>\n",
       "      <td>155m</td>\n",
       "    </tr>\n",
       "    <tr>\n",
       "      <th>10680</th>\n",
       "      <td>Jet Airways</td>\n",
       "      <td>7229</td>\n",
       "      <td>180m</td>\n",
       "    </tr>\n",
       "    <tr>\n",
       "      <th>10681</th>\n",
       "      <td>Vistara</td>\n",
       "      <td>12648</td>\n",
       "      <td>160m</td>\n",
       "    </tr>\n",
       "    <tr>\n",
       "      <th>10682</th>\n",
       "      <td>Air India</td>\n",
       "      <td>11753</td>\n",
       "      <td>500m</td>\n",
       "    </tr>\n",
       "  </tbody>\n",
       "</table>\n",
       "<p>10683 rows × 3 columns</p>\n",
       "</div>"
      ],
      "text/plain": [
       "           Airline  Price Duration2\n",
       "0           IndiGo   3897      170m\n",
       "1        Air India   7662      445m\n",
       "2      Jet Airways  13882     1140m\n",
       "3           IndiGo   6218      325m\n",
       "4           IndiGo  13302      285m\n",
       "...            ...    ...       ...\n",
       "10678     Air Asia   4107      150m\n",
       "10679    Air India   4145      155m\n",
       "10680  Jet Airways   7229      180m\n",
       "10681      Vistara  12648      160m\n",
       "10682    Air India  11753      500m\n",
       "\n",
       "[10683 rows x 3 columns]"
      ]
     },
     "execution_count": 15,
     "metadata": {},
     "output_type": "execute_result"
    }
   ],
   "source": [
    "df"
   ]
  },
  {
   "cell_type": "code",
   "execution_count": 16,
   "id": "71605568",
   "metadata": {},
   "outputs": [
    {
     "name": "stdout",
     "output_type": "stream",
     "text": [
      "<class 'pandas.core.frame.DataFrame'>\n",
      "RangeIndex: 10683 entries, 0 to 10682\n",
      "Data columns (total 3 columns):\n",
      " #   Column     Non-Null Count  Dtype \n",
      "---  ------     --------------  ----- \n",
      " 0   Airline    10683 non-null  object\n",
      " 1   Price      10683 non-null  int64 \n",
      " 2   Duration2  10683 non-null  object\n",
      "dtypes: int64(1), object(2)\n",
      "memory usage: 250.5+ KB\n"
     ]
    }
   ],
   "source": [
    "df.info()"
   ]
  },
  {
   "cell_type": "code",
   "execution_count": 17,
   "id": "595b8caf",
   "metadata": {},
   "outputs": [
    {
     "data": {
      "text/plain": [
       "Airline      object\n",
       "Price         int64\n",
       "Duration2    object\n",
       "dtype: object"
      ]
     },
     "execution_count": 17,
     "metadata": {},
     "output_type": "execute_result"
    }
   ],
   "source": [
    "df.dtypes"
   ]
  },
  {
   "cell_type": "code",
   "execution_count": 18,
   "id": "fe2c1888",
   "metadata": {},
   "outputs": [
    {
     "data": {
      "text/plain": [
       "Airline      object\n",
       "Price         int64\n",
       "Duration2    object\n",
       "dtype: object"
      ]
     },
     "execution_count": 18,
     "metadata": {},
     "output_type": "execute_result"
    }
   ],
   "source": [
    "df.dtypes"
   ]
  },
  {
   "cell_type": "markdown",
   "id": "7201bd84",
   "metadata": {},
   "source": [
    "It will make so complicated when we work for data outliers.Therefore lets  remove"
   ]
  },
  {
   "cell_type": "code",
   "execution_count": 19,
   "id": "47f059d9",
   "metadata": {},
   "outputs": [
    {
     "data": {
      "text/plain": [
       "Airline      object\n",
       "Price         int64\n",
       "Duration2    object\n",
       "dtype: object"
      ]
     },
     "execution_count": 19,
     "metadata": {},
     "output_type": "execute_result"
    }
   ],
   "source": [
    "df.dtypes"
   ]
  },
  {
   "cell_type": "code",
   "execution_count": 20,
   "id": "32da523b",
   "metadata": {},
   "outputs": [
    {
     "data": {
      "text/html": [
       "<div>\n",
       "<style scoped>\n",
       "    .dataframe tbody tr th:only-of-type {\n",
       "        vertical-align: middle;\n",
       "    }\n",
       "\n",
       "    .dataframe tbody tr th {\n",
       "        vertical-align: top;\n",
       "    }\n",
       "\n",
       "    .dataframe thead th {\n",
       "        text-align: right;\n",
       "    }\n",
       "</style>\n",
       "<table border=\"1\" class=\"dataframe\">\n",
       "  <thead>\n",
       "    <tr style=\"text-align: right;\">\n",
       "      <th></th>\n",
       "      <th>Airline</th>\n",
       "      <th>Price</th>\n",
       "      <th>Duration2</th>\n",
       "    </tr>\n",
       "  </thead>\n",
       "  <tbody>\n",
       "    <tr>\n",
       "      <th>0</th>\n",
       "      <td>IndiGo</td>\n",
       "      <td>3897</td>\n",
       "      <td>170m</td>\n",
       "    </tr>\n",
       "    <tr>\n",
       "      <th>1</th>\n",
       "      <td>Air India</td>\n",
       "      <td>7662</td>\n",
       "      <td>445m</td>\n",
       "    </tr>\n",
       "    <tr>\n",
       "      <th>2</th>\n",
       "      <td>Jet Airways</td>\n",
       "      <td>13882</td>\n",
       "      <td>1140m</td>\n",
       "    </tr>\n",
       "    <tr>\n",
       "      <th>3</th>\n",
       "      <td>IndiGo</td>\n",
       "      <td>6218</td>\n",
       "      <td>325m</td>\n",
       "    </tr>\n",
       "    <tr>\n",
       "      <th>4</th>\n",
       "      <td>IndiGo</td>\n",
       "      <td>13302</td>\n",
       "      <td>285m</td>\n",
       "    </tr>\n",
       "    <tr>\n",
       "      <th>...</th>\n",
       "      <td>...</td>\n",
       "      <td>...</td>\n",
       "      <td>...</td>\n",
       "    </tr>\n",
       "    <tr>\n",
       "      <th>10678</th>\n",
       "      <td>Air Asia</td>\n",
       "      <td>4107</td>\n",
       "      <td>150m</td>\n",
       "    </tr>\n",
       "    <tr>\n",
       "      <th>10679</th>\n",
       "      <td>Air India</td>\n",
       "      <td>4145</td>\n",
       "      <td>155m</td>\n",
       "    </tr>\n",
       "    <tr>\n",
       "      <th>10680</th>\n",
       "      <td>Jet Airways</td>\n",
       "      <td>7229</td>\n",
       "      <td>180m</td>\n",
       "    </tr>\n",
       "    <tr>\n",
       "      <th>10681</th>\n",
       "      <td>Vistara</td>\n",
       "      <td>12648</td>\n",
       "      <td>160m</td>\n",
       "    </tr>\n",
       "    <tr>\n",
       "      <th>10682</th>\n",
       "      <td>Air India</td>\n",
       "      <td>11753</td>\n",
       "      <td>500m</td>\n",
       "    </tr>\n",
       "  </tbody>\n",
       "</table>\n",
       "<p>10683 rows × 3 columns</p>\n",
       "</div>"
      ],
      "text/plain": [
       "           Airline  Price Duration2\n",
       "0           IndiGo   3897      170m\n",
       "1        Air India   7662      445m\n",
       "2      Jet Airways  13882     1140m\n",
       "3           IndiGo   6218      325m\n",
       "4           IndiGo  13302      285m\n",
       "...            ...    ...       ...\n",
       "10678     Air Asia   4107      150m\n",
       "10679    Air India   4145      155m\n",
       "10680  Jet Airways   7229      180m\n",
       "10681      Vistara  12648      160m\n",
       "10682    Air India  11753      500m\n",
       "\n",
       "[10683 rows x 3 columns]"
      ]
     },
     "execution_count": 20,
     "metadata": {},
     "output_type": "execute_result"
    }
   ],
   "source": [
    "df"
   ]
  },
  {
   "cell_type": "markdown",
   "id": "0e59af3d",
   "metadata": {},
   "source": [
    " Label Encoder"
   ]
  },
  {
   "cell_type": "code",
   "execution_count": 21,
   "id": "0ac46a25",
   "metadata": {},
   "outputs": [],
   "source": [
    "from sklearn.preprocessing import LabelEncoder"
   ]
  },
  {
   "cell_type": "code",
   "execution_count": 22,
   "id": "a1ab6648",
   "metadata": {},
   "outputs": [],
   "source": [
    "le=LabelEncoder()\n",
    "df['Airline']=le.fit_transform(df['Airline'])\n"
   ]
  },
  {
   "cell_type": "code",
   "execution_count": 23,
   "id": "7f9bc653",
   "metadata": {},
   "outputs": [
    {
     "data": {
      "text/plain": [
       "4     3849\n",
       "3     2053\n",
       "1     1752\n",
       "6     1196\n",
       "8      818\n",
       "10     479\n",
       "0      319\n",
       "2      194\n",
       "7       13\n",
       "5        6\n",
       "11       3\n",
       "9        1\n",
       "Name: Airline, dtype: int64"
      ]
     },
     "execution_count": 23,
     "metadata": {},
     "output_type": "execute_result"
    }
   ],
   "source": [
    "df['Airline'].value_counts()"
   ]
  },
  {
   "cell_type": "code",
   "execution_count": 24,
   "id": "15691452",
   "metadata": {},
   "outputs": [
    {
     "data": {
      "text/plain": [
       "array(['Air Asia', 'Air India', 'GoAir', 'IndiGo', 'Jet Airways',\n",
       "       'Jet Airways Business', 'Multiple carriers',\n",
       "       'Multiple carriers Premium economy', 'SpiceJet', 'Trujet',\n",
       "       'Vistara', 'Vistara Premium economy'], dtype=object)"
      ]
     },
     "execution_count": 24,
     "metadata": {},
     "output_type": "execute_result"
    }
   ],
   "source": [
    "le.inverse_transform([0,1,2,3,4,5,6,7,8,9,10,11])"
   ]
  },
  {
   "cell_type": "code",
   "execution_count": 25,
   "id": "7931b5a2",
   "metadata": {},
   "outputs": [],
   "source": [
    "df['Duration2']=df['Duration2'].str.replace('m','')"
   ]
  },
  {
   "cell_type": "code",
   "execution_count": 26,
   "id": "d34b0e9a",
   "metadata": {},
   "outputs": [
    {
     "data": {
      "text/html": [
       "<div>\n",
       "<style scoped>\n",
       "    .dataframe tbody tr th:only-of-type {\n",
       "        vertical-align: middle;\n",
       "    }\n",
       "\n",
       "    .dataframe tbody tr th {\n",
       "        vertical-align: top;\n",
       "    }\n",
       "\n",
       "    .dataframe thead th {\n",
       "        text-align: right;\n",
       "    }\n",
       "</style>\n",
       "<table border=\"1\" class=\"dataframe\">\n",
       "  <thead>\n",
       "    <tr style=\"text-align: right;\">\n",
       "      <th></th>\n",
       "      <th>Airline</th>\n",
       "      <th>Price</th>\n",
       "      <th>Duration2</th>\n",
       "    </tr>\n",
       "  </thead>\n",
       "  <tbody>\n",
       "    <tr>\n",
       "      <th>0</th>\n",
       "      <td>3</td>\n",
       "      <td>3897</td>\n",
       "      <td>170</td>\n",
       "    </tr>\n",
       "    <tr>\n",
       "      <th>1</th>\n",
       "      <td>1</td>\n",
       "      <td>7662</td>\n",
       "      <td>445</td>\n",
       "    </tr>\n",
       "    <tr>\n",
       "      <th>2</th>\n",
       "      <td>4</td>\n",
       "      <td>13882</td>\n",
       "      <td>1140</td>\n",
       "    </tr>\n",
       "    <tr>\n",
       "      <th>3</th>\n",
       "      <td>3</td>\n",
       "      <td>6218</td>\n",
       "      <td>325</td>\n",
       "    </tr>\n",
       "    <tr>\n",
       "      <th>4</th>\n",
       "      <td>3</td>\n",
       "      <td>13302</td>\n",
       "      <td>285</td>\n",
       "    </tr>\n",
       "    <tr>\n",
       "      <th>...</th>\n",
       "      <td>...</td>\n",
       "      <td>...</td>\n",
       "      <td>...</td>\n",
       "    </tr>\n",
       "    <tr>\n",
       "      <th>10678</th>\n",
       "      <td>0</td>\n",
       "      <td>4107</td>\n",
       "      <td>150</td>\n",
       "    </tr>\n",
       "    <tr>\n",
       "      <th>10679</th>\n",
       "      <td>1</td>\n",
       "      <td>4145</td>\n",
       "      <td>155</td>\n",
       "    </tr>\n",
       "    <tr>\n",
       "      <th>10680</th>\n",
       "      <td>4</td>\n",
       "      <td>7229</td>\n",
       "      <td>180</td>\n",
       "    </tr>\n",
       "    <tr>\n",
       "      <th>10681</th>\n",
       "      <td>10</td>\n",
       "      <td>12648</td>\n",
       "      <td>160</td>\n",
       "    </tr>\n",
       "    <tr>\n",
       "      <th>10682</th>\n",
       "      <td>1</td>\n",
       "      <td>11753</td>\n",
       "      <td>500</td>\n",
       "    </tr>\n",
       "  </tbody>\n",
       "</table>\n",
       "<p>10683 rows × 3 columns</p>\n",
       "</div>"
      ],
      "text/plain": [
       "       Airline  Price Duration2\n",
       "0            3   3897       170\n",
       "1            1   7662       445\n",
       "2            4  13882      1140\n",
       "3            3   6218       325\n",
       "4            3  13302       285\n",
       "...        ...    ...       ...\n",
       "10678        0   4107       150\n",
       "10679        1   4145       155\n",
       "10680        4   7229       180\n",
       "10681       10  12648       160\n",
       "10682        1  11753       500\n",
       "\n",
       "[10683 rows x 3 columns]"
      ]
     },
     "execution_count": 26,
     "metadata": {},
     "output_type": "execute_result"
    }
   ],
   "source": [
    "df"
   ]
  },
  {
   "cell_type": "code",
   "execution_count": 27,
   "id": "3d772294",
   "metadata": {},
   "outputs": [
    {
     "data": {
      "text/plain": [
       "Airline       int32\n",
       "Price         int64\n",
       "Duration2    object\n",
       "dtype: object"
      ]
     },
     "execution_count": 27,
     "metadata": {},
     "output_type": "execute_result"
    }
   ],
   "source": [
    "df.dtypes"
   ]
  },
  {
   "cell_type": "code",
   "execution_count": 28,
   "id": "f197e299",
   "metadata": {},
   "outputs": [],
   "source": [
    "df['Duration2']=df['Duration2'].astype('int')"
   ]
  },
  {
   "cell_type": "code",
   "execution_count": 29,
   "id": "5eee90a2",
   "metadata": {},
   "outputs": [
    {
     "data": {
      "text/plain": [
       "Airline      int32\n",
       "Price        int64\n",
       "Duration2    int32\n",
       "dtype: object"
      ]
     },
     "execution_count": 29,
     "metadata": {},
     "output_type": "execute_result"
    }
   ],
   "source": [
    "df.dtypes"
   ]
  },
  {
   "cell_type": "markdown",
   "id": "ed613840",
   "metadata": {},
   "source": [
    "Therefore all the columns has been treated and converted from object to integer column.now we can proceed with further steps"
   ]
  },
  {
   "cell_type": "code",
   "execution_count": 30,
   "id": "ee1b5b83",
   "metadata": {},
   "outputs": [],
   "source": [
    "df.rename(columns={'Duration2':'Duration(mins)'},inplace=True)"
   ]
  },
  {
   "cell_type": "code",
   "execution_count": 31,
   "id": "3942fe55",
   "metadata": {},
   "outputs": [
    {
     "data": {
      "text/html": [
       "<div>\n",
       "<style scoped>\n",
       "    .dataframe tbody tr th:only-of-type {\n",
       "        vertical-align: middle;\n",
       "    }\n",
       "\n",
       "    .dataframe tbody tr th {\n",
       "        vertical-align: top;\n",
       "    }\n",
       "\n",
       "    .dataframe thead th {\n",
       "        text-align: right;\n",
       "    }\n",
       "</style>\n",
       "<table border=\"1\" class=\"dataframe\">\n",
       "  <thead>\n",
       "    <tr style=\"text-align: right;\">\n",
       "      <th></th>\n",
       "      <th>Airline</th>\n",
       "      <th>Price</th>\n",
       "      <th>Duration(mins)</th>\n",
       "    </tr>\n",
       "  </thead>\n",
       "  <tbody>\n",
       "    <tr>\n",
       "      <th>0</th>\n",
       "      <td>3</td>\n",
       "      <td>3897</td>\n",
       "      <td>170</td>\n",
       "    </tr>\n",
       "    <tr>\n",
       "      <th>1</th>\n",
       "      <td>1</td>\n",
       "      <td>7662</td>\n",
       "      <td>445</td>\n",
       "    </tr>\n",
       "    <tr>\n",
       "      <th>2</th>\n",
       "      <td>4</td>\n",
       "      <td>13882</td>\n",
       "      <td>1140</td>\n",
       "    </tr>\n",
       "    <tr>\n",
       "      <th>3</th>\n",
       "      <td>3</td>\n",
       "      <td>6218</td>\n",
       "      <td>325</td>\n",
       "    </tr>\n",
       "    <tr>\n",
       "      <th>4</th>\n",
       "      <td>3</td>\n",
       "      <td>13302</td>\n",
       "      <td>285</td>\n",
       "    </tr>\n",
       "    <tr>\n",
       "      <th>...</th>\n",
       "      <td>...</td>\n",
       "      <td>...</td>\n",
       "      <td>...</td>\n",
       "    </tr>\n",
       "    <tr>\n",
       "      <th>10678</th>\n",
       "      <td>0</td>\n",
       "      <td>4107</td>\n",
       "      <td>150</td>\n",
       "    </tr>\n",
       "    <tr>\n",
       "      <th>10679</th>\n",
       "      <td>1</td>\n",
       "      <td>4145</td>\n",
       "      <td>155</td>\n",
       "    </tr>\n",
       "    <tr>\n",
       "      <th>10680</th>\n",
       "      <td>4</td>\n",
       "      <td>7229</td>\n",
       "      <td>180</td>\n",
       "    </tr>\n",
       "    <tr>\n",
       "      <th>10681</th>\n",
       "      <td>10</td>\n",
       "      <td>12648</td>\n",
       "      <td>160</td>\n",
       "    </tr>\n",
       "    <tr>\n",
       "      <th>10682</th>\n",
       "      <td>1</td>\n",
       "      <td>11753</td>\n",
       "      <td>500</td>\n",
       "    </tr>\n",
       "  </tbody>\n",
       "</table>\n",
       "<p>10683 rows × 3 columns</p>\n",
       "</div>"
      ],
      "text/plain": [
       "       Airline  Price  Duration(mins)\n",
       "0            3   3897             170\n",
       "1            1   7662             445\n",
       "2            4  13882            1140\n",
       "3            3   6218             325\n",
       "4            3  13302             285\n",
       "...        ...    ...             ...\n",
       "10678        0   4107             150\n",
       "10679        1   4145             155\n",
       "10680        4   7229             180\n",
       "10681       10  12648             160\n",
       "10682        1  11753             500\n",
       "\n",
       "[10683 rows x 3 columns]"
      ]
     },
     "execution_count": 31,
     "metadata": {},
     "output_type": "execute_result"
    }
   ],
   "source": [
    "df"
   ]
  },
  {
   "cell_type": "markdown",
   "id": "6ce4255b",
   "metadata": {},
   "source": [
    "# Visualization"
   ]
  },
  {
   "cell_type": "code",
   "execution_count": 37,
   "id": "3bded05f",
   "metadata": {},
   "outputs": [],
   "source": [
    "%matplotlib inline"
   ]
  },
  {
   "cell_type": "code",
   "execution_count": 33,
   "id": "cfa714d5",
   "metadata": {},
   "outputs": [
    {
     "data": {
      "text/plain": [
       "(0.0, 83399.65)"
      ]
     },
     "execution_count": 33,
     "metadata": {},
     "output_type": "execute_result"
    },
    {
     "data": {
      "image/png": "[encoded data removed]",
      "text/plain": [
       "<Figure size 432x288 with 1 Axes>"
      ]
     },
     "metadata": {
      "needs_background": "light"
     },
     "output_type": "display_data"
    }
   ],
   "source": [
    "sns.regplot(x='Duration(mins)',y='Price',data=df)\n",
    "plt.ylim(0,)"
   ]
  },
  {
   "cell_type": "code",
   "execution_count": 34,
   "id": "5aebeab3",
   "metadata": {},
   "outputs": [
    {
     "data": {
      "text/plain": [
       "(0.0, 83399.65)"
      ]
     },
     "execution_count": 34,
     "metadata": {},
     "output_type": "execute_result"
    },
    {
     "data": {
      "image/png": "[encoded data removed]",
      "text/plain": [
       "<Figure size 432x288 with 1 Axes>"
      ]
     },
     "metadata": {
      "needs_background": "light"
     },
     "output_type": "display_data"
    }
   ],
   "source": [
    "sns.regplot(x='Airline',y='Price',data=df)\n",
    "plt.ylim(0,)"
   ]
  },
  {
   "cell_type": "code",
   "execution_count": 36,
   "id": "85ec91b8",
   "metadata": {},
   "outputs": [
    {
     "data": {
      "text/plain": [
       "Text(0, 0.5, 'Price')"
      ]
     },
     "execution_count": 36,
     "metadata": {},
     "output_type": "execute_result"
    },
    {
     "data": {
      "image/png": "[encoded data removed]",
      "text/plain": [
       "<Figure size 432x288 with 1 Axes>"
      ]
     },
     "metadata": {
      "needs_background": "light"
     },
     "output_type": "display_data"
    }
   ],
   "source": [
    "x=df['Duration(mins)']\n",
    "y=df['Price']\n",
    "plt.scatter(x,y)\n",
    "plt.title('Duration vs Price')\n",
    "plt.xlabel('Duration in mins')\n",
    "plt.ylabel('Price')"
   ]
  },
  {
   "cell_type": "markdown",
   "id": "33d4b7cc",
   "metadata": {},
   "source": [
    "There is an increase in price between the duration 200 mins to 600 mins"
   ]
  },
  {
   "cell_type": "code",
   "execution_count": 38,
   "id": "e441709f",
   "metadata": {},
   "outputs": [
    {
     "data": {
      "text/plain": [
       "<AxesSubplot:xlabel='Airline', ylabel='Price'>"
      ]
     },
     "execution_count": 38,
     "metadata": {},
     "output_type": "execute_result"
    },
    {
     "data": {
      "image/png": "[encoded data removed]",
      "text/plain": [
       "<Figure size 432x288 with 1 Axes>"
      ]
     },
     "metadata": {
      "needs_background": "light"
     },
     "output_type": "display_data"
    }
   ],
   "source": [
    "sns.barplot(x='Airline',y='Price',data=df)"
   ]
  },
  {
   "cell_type": "markdown",
   "id": "d34a8b55",
   "metadata": {},
   "source": [
    "Which shows that number 5 which is 'Jet Airways business flight' costs more for the passenger than the other flights"
   ]
  },
  {
   "cell_type": "code",
   "execution_count": 43,
   "id": "42c99750",
   "metadata": {},
   "outputs": [
    {
     "data": {
      "text/plain": [
       "<AxesSubplot:xlabel='Airline', ylabel='Price'>"
      ]
     },
     "execution_count": 43,
     "metadata": {},
     "output_type": "execute_result"
    },
    {
     "data": {
      "image/png": "[encoded data removed]",
      "text/plain": [
       "<Figure size 432x288 with 1 Axes>"
      ]
     },
     "metadata": {
      "needs_background": "light"
     },
     "output_type": "display_data"
    }
   ],
   "source": [
    "sns.violinplot(x='Airline',y='Price',data=df)"
   ]
  },
  {
   "cell_type": "code",
   "execution_count": 44,
   "id": "90a5420b",
   "metadata": {},
   "outputs": [
    {
     "data": {
      "text/plain": [
       "<AxesSubplot:xlabel='Duration(mins)', ylabel='Price'>"
      ]
     },
     "execution_count": 44,
     "metadata": {},
     "output_type": "execute_result"
    },
    {
     "data": {
      "image/png": "[encoded data removed]",
      "text/plain": [
       "<Figure size 432x288 with 1 Axes>"
      ]
     },
     "metadata": {
      "needs_background": "light"
     },
     "output_type": "display_data"
    }
   ],
   "source": [
    "sns.violinplot(x='Duration(mins)',y='Price',data=df)"
   ]
  },
  {
   "cell_type": "code",
   "execution_count": 48,
   "id": "13696042",
   "metadata": {},
   "outputs": [
    {
     "data": {
      "text/html": [
       "<div>\n",
       "<style scoped>\n",
       "    .dataframe tbody tr th:only-of-type {\n",
       "        vertical-align: middle;\n",
       "    }\n",
       "\n",
       "    .dataframe tbody tr th {\n",
       "        vertical-align: top;\n",
       "    }\n",
       "\n",
       "    .dataframe thead th {\n",
       "        text-align: right;\n",
       "    }\n",
       "</style>\n",
       "<table border=\"1\" class=\"dataframe\">\n",
       "  <thead>\n",
       "    <tr style=\"text-align: right;\">\n",
       "      <th></th>\n",
       "      <th>Airline</th>\n",
       "      <th>Price</th>\n",
       "      <th>Duration(mins)</th>\n",
       "    </tr>\n",
       "  </thead>\n",
       "  <tbody>\n",
       "    <tr>\n",
       "      <th>count</th>\n",
       "      <td>10683.000000</td>\n",
       "      <td>10683.000000</td>\n",
       "      <td>10683.000000</td>\n",
       "    </tr>\n",
       "    <tr>\n",
       "      <th>mean</th>\n",
       "      <td>3.965927</td>\n",
       "      <td>9087.064121</td>\n",
       "      <td>492.124403</td>\n",
       "    </tr>\n",
       "    <tr>\n",
       "      <th>std</th>\n",
       "      <td>2.352155</td>\n",
       "      <td>4611.359167</td>\n",
       "      <td>383.070347</td>\n",
       "    </tr>\n",
       "    <tr>\n",
       "      <th>min</th>\n",
       "      <td>0.000000</td>\n",
       "      <td>1759.000000</td>\n",
       "      <td>0.000000</td>\n",
       "    </tr>\n",
       "    <tr>\n",
       "      <th>25%</th>\n",
       "      <td>3.000000</td>\n",
       "      <td>5277.000000</td>\n",
       "      <td>165.000000</td>\n",
       "    </tr>\n",
       "    <tr>\n",
       "      <th>50%</th>\n",
       "      <td>4.000000</td>\n",
       "      <td>8372.000000</td>\n",
       "      <td>380.000000</td>\n",
       "    </tr>\n",
       "    <tr>\n",
       "      <th>75%</th>\n",
       "      <td>4.000000</td>\n",
       "      <td>12373.000000</td>\n",
       "      <td>755.000000</td>\n",
       "    </tr>\n",
       "    <tr>\n",
       "      <th>max</th>\n",
       "      <td>11.000000</td>\n",
       "      <td>79512.000000</td>\n",
       "      <td>1435.000000</td>\n",
       "    </tr>\n",
       "  </tbody>\n",
       "</table>\n",
       "</div>"
      ],
      "text/plain": [
       "            Airline         Price  Duration(mins)\n",
       "count  10683.000000  10683.000000    10683.000000\n",
       "mean       3.965927   9087.064121      492.124403\n",
       "std        2.352155   4611.359167      383.070347\n",
       "min        0.000000   1759.000000        0.000000\n",
       "25%        3.000000   5277.000000      165.000000\n",
       "50%        4.000000   8372.000000      380.000000\n",
       "75%        4.000000  12373.000000      755.000000\n",
       "max       11.000000  79512.000000     1435.000000"
      ]
     },
     "execution_count": 48,
     "metadata": {},
     "output_type": "execute_result"
    }
   ],
   "source": [
    "#Statistical Summary\n",
    "df.describe()"
   ]
  },
  {
   "cell_type": "markdown",
   "id": "6129626f",
   "metadata": {},
   "source": [
    "We can see that total number of counts is 10683 and mean is 9087 for price column and 492 for duration\n",
    "columns. Minimum price value is 1759 and minimum duration the passenger has travelled is 383 minutes\n",
    "Maximum duration the passenger travelled is 1435 and Maximum price that passenger had levied by airline is 79512 "
   ]
  },
  {
   "cell_type": "code",
   "execution_count": 49,
   "id": "e1f8b503",
   "metadata": {},
   "outputs": [
    {
     "data": {
      "image/png": "[encoded data removed]",
      "text/plain": [
       "<Figure size 432x288 with 2 Axes>"
      ]
     },
     "metadata": {
      "needs_background": "light"
     },
     "output_type": "display_data"
    }
   ],
   "source": [
    "sns.heatmap(df.isnull())\n",
    "plt.title('Null Values')\n",
    "plt.show()"
   ]
  },
  {
   "cell_type": "code",
   "execution_count": 50,
   "id": "58e95315",
   "metadata": {},
   "outputs": [
    {
     "data": {
      "text/plain": [
       "0"
      ]
     },
     "execution_count": 50,
     "metadata": {},
     "output_type": "execute_result"
    }
   ],
   "source": [
    "# Checking The NULL values in the dataset\n",
    "df.isnull().sum().sum()"
   ]
  },
  {
   "cell_type": "markdown",
   "id": "cc87f532",
   "metadata": {},
   "source": [
    "Therefore there is no null values in the dataset"
   ]
  },
  {
   "cell_type": "markdown",
   "id": "301df06d",
   "metadata": {},
   "source": [
    "Checking  Correlation"
   ]
  },
  {
   "cell_type": "code",
   "execution_count": 51,
   "id": "02e4204c",
   "metadata": {},
   "outputs": [
    {
     "data": {
      "text/html": [
       "<div>\n",
       "<style scoped>\n",
       "    .dataframe tbody tr th:only-of-type {\n",
       "        vertical-align: middle;\n",
       "    }\n",
       "\n",
       "    .dataframe tbody tr th {\n",
       "        vertical-align: top;\n",
       "    }\n",
       "\n",
       "    .dataframe thead th {\n",
       "        text-align: right;\n",
       "    }\n",
       "</style>\n",
       "<table border=\"1\" class=\"dataframe\">\n",
       "  <thead>\n",
       "    <tr style=\"text-align: right;\">\n",
       "      <th></th>\n",
       "      <th>Airline</th>\n",
       "      <th>Price</th>\n",
       "      <th>Duration(mins)</th>\n",
       "    </tr>\n",
       "  </thead>\n",
       "  <tbody>\n",
       "    <tr>\n",
       "      <th>Airline</th>\n",
       "      <td>1.000000</td>\n",
       "      <td>-0.039520</td>\n",
       "      <td>-0.090101</td>\n",
       "    </tr>\n",
       "    <tr>\n",
       "      <th>Price</th>\n",
       "      <td>-0.039520</td>\n",
       "      <td>1.000000</td>\n",
       "      <td>0.449471</td>\n",
       "    </tr>\n",
       "    <tr>\n",
       "      <th>Duration(mins)</th>\n",
       "      <td>-0.090101</td>\n",
       "      <td>0.449471</td>\n",
       "      <td>1.000000</td>\n",
       "    </tr>\n",
       "  </tbody>\n",
       "</table>\n",
       "</div>"
      ],
      "text/plain": [
       "                 Airline     Price  Duration(mins)\n",
       "Airline         1.000000 -0.039520       -0.090101\n",
       "Price          -0.039520  1.000000        0.449471\n",
       "Duration(mins) -0.090101  0.449471        1.000000"
      ]
     },
     "execution_count": 51,
     "metadata": {},
     "output_type": "execute_result"
    }
   ],
   "source": [
    "df.corr()"
   ]
  },
  {
   "cell_type": "code",
   "execution_count": 52,
   "id": "eee5f4f5",
   "metadata": {},
   "outputs": [
    {
     "data": {
      "image/png": "[encoded data removed]",
      "text/plain": [
       "<Figure size 5760x5760 with 2 Axes>"
      ]
     },
     "metadata": {
      "needs_background": "light"
     },
     "output_type": "display_data"
    }
   ],
   "source": [
    "corr_mat=df.corr()\n",
    "# Size of the canvas\n",
    "plt.figure(figsize=[80,80])\n",
    "# Plot the correlation matrix\n",
    "sns.heatmap(corr_mat,annot=True)\n",
    "plt.title('Correlation Matrix')\n",
    "plt.savefig('Flight Price correlation matrix.jpg')\n",
    "plt.show()"
   ]
  },
  {
   "cell_type": "code",
   "execution_count": 54,
   "id": "444279d0",
   "metadata": {},
   "outputs": [],
   "source": [
    "corr_matrix=df.corr()"
   ]
  },
  {
   "cell_type": "code",
   "execution_count": 55,
   "id": "d0b4fdce",
   "metadata": {},
   "outputs": [
    {
     "data": {
      "text/plain": [
       "pandas.core.frame.DataFrame"
      ]
     },
     "execution_count": 55,
     "metadata": {},
     "output_type": "execute_result"
    }
   ],
   "source": [
    "type(corr_matrix)"
   ]
  },
  {
   "cell_type": "code",
   "execution_count": 56,
   "id": "98c1be66",
   "metadata": {},
   "outputs": [
    {
     "data": {
      "text/plain": [
       "Price             1.000000\n",
       "Duration(mins)    0.449471\n",
       "Airline          -0.039520\n",
       "Name: Price, dtype: float64"
      ]
     },
     "execution_count": 56,
     "metadata": {},
     "output_type": "execute_result"
    }
   ],
   "source": [
    "corr_matrix=df.corr()\n",
    "corr_matrix['Price'].sort_values(ascending=False)"
   ]
  },
  {
   "cell_type": "markdown",
   "id": "edeeb973",
   "metadata": {},
   "source": [
    "There is a strong positive correlation between Duration and Price and weak correlation between Airline and Price"
   ]
  },
  {
   "cell_type": "markdown",
   "id": "e5b584bf",
   "metadata": {},
   "source": [
    "Let's Check the data distribution among the columns"
   ]
  },
  {
   "cell_type": "code",
   "execution_count": 57,
   "id": "f37dd938",
   "metadata": {},
   "outputs": [
    {
     "data": {
      "image/png": "[encoded data removed]",
      "text/plain": [
       "<Figure size 1296x864 with 66 Axes>"
      ]
     },
     "metadata": {
      "needs_background": "light"
     },
     "output_type": "display_data"
    }
   ],
   "source": [
    "df.plot(kind='density',subplots=True,layout=(6,11),sharex=False,legend=False,fontsize=1,figsize=(18,12))\n",
    "plt.show()"
   ]
  },
  {
   "cell_type": "markdown",
   "id": "9da73f6d",
   "metadata": {},
   "source": [
    "We can see skewness in data for multiple columns will handle the skewness in further steps"
   ]
  },
  {
   "cell_type": "markdown",
   "id": "d6222098",
   "metadata": {},
   "source": [
    "Splitting the independent and target variables in x and y before remooving the skewness"
   ]
  },
  {
   "cell_type": "code",
   "execution_count": 58,
   "id": "9da7a751",
   "metadata": {},
   "outputs": [],
   "source": [
    "x=df.drop('Price',axis=1)\n",
    "y=df['Price']"
   ]
  },
  {
   "cell_type": "code",
   "execution_count": 59,
   "id": "3c03b0d3",
   "metadata": {},
   "outputs": [
    {
     "data": {
      "text/plain": [
       "((10683, 2), (10683,))"
      ]
     },
     "execution_count": 59,
     "metadata": {},
     "output_type": "execute_result"
    }
   ],
   "source": [
    "x.shape , y.shape"
   ]
  },
  {
   "cell_type": "code",
   "execution_count": 60,
   "id": "25c7064b",
   "metadata": {},
   "outputs": [
    {
     "data": {
      "text/plain": [
       "Duration(mins)    0.830148\n",
       "Airline           0.731095\n",
       "dtype: float64"
      ]
     },
     "execution_count": 60,
     "metadata": {},
     "output_type": "execute_result"
    }
   ],
   "source": [
    "# Checking Skewness\n",
    "x.skew().sort_values(ascending=False)"
   ]
  },
  {
   "cell_type": "code",
   "execution_count": 62,
   "id": "beb102a5",
   "metadata": {},
   "outputs": [],
   "source": [
    "from sklearn.preprocessing import power_transform"
   ]
  },
  {
   "cell_type": "code",
   "execution_count": 63,
   "id": "dfaebe54",
   "metadata": {},
   "outputs": [],
   "source": [
    "x_new=power_transform(x)"
   ]
  },
  {
   "cell_type": "code",
   "execution_count": 64,
   "id": "1d290808",
   "metadata": {},
   "outputs": [
    {
     "data": {
      "text/plain": [
       "0   -0.015312\n",
       "1   -0.037173\n",
       "dtype: float64"
      ]
     },
     "execution_count": 64,
     "metadata": {},
     "output_type": "execute_result"
    }
   ],
   "source": [
    "pd.DataFrame(x_new).skew().sort_values(ascending=False)"
   ]
  },
  {
   "cell_type": "code",
   "execution_count": 65,
   "id": "a378bb1d",
   "metadata": {},
   "outputs": [
    {
     "data": {
      "text/plain": [
       "numpy.ndarray"
      ]
     },
     "execution_count": 65,
     "metadata": {},
     "output_type": "execute_result"
    }
   ],
   "source": [
    "type(x_new)"
   ]
  },
  {
   "cell_type": "code",
   "execution_count": 66,
   "id": "5b8854cd",
   "metadata": {},
   "outputs": [
    {
     "data": {
      "text/plain": [
       "Index(['Airline', 'Duration(mins)'], dtype='object')"
      ]
     },
     "execution_count": 66,
     "metadata": {},
     "output_type": "execute_result"
    }
   ],
   "source": [
    "x.columns"
   ]
  },
  {
   "cell_type": "code",
   "execution_count": 67,
   "id": "d25c7d49",
   "metadata": {},
   "outputs": [],
   "source": [
    "x=pd.DataFrame(x_new,columns=x.columns)"
   ]
  },
  {
   "cell_type": "code",
   "execution_count": 68,
   "id": "6b79e256",
   "metadata": {},
   "outputs": [
    {
     "data": {
      "text/html": [
       "<div>\n",
       "<style scoped>\n",
       "    .dataframe tbody tr th:only-of-type {\n",
       "        vertical-align: middle;\n",
       "    }\n",
       "\n",
       "    .dataframe tbody tr th {\n",
       "        vertical-align: top;\n",
       "    }\n",
       "\n",
       "    .dataframe thead th {\n",
       "        text-align: right;\n",
       "    }\n",
       "</style>\n",
       "<table border=\"1\" class=\"dataframe\">\n",
       "  <thead>\n",
       "    <tr style=\"text-align: right;\">\n",
       "      <th></th>\n",
       "      <th>Airline</th>\n",
       "      <th>Duration(mins)</th>\n",
       "    </tr>\n",
       "  </thead>\n",
       "  <tbody>\n",
       "    <tr>\n",
       "      <th>0</th>\n",
       "      <td>-0.295500</td>\n",
       "      <td>-0.830511</td>\n",
       "    </tr>\n",
       "    <tr>\n",
       "      <th>1</th>\n",
       "      <td>-1.420300</td>\n",
       "      <td>0.187783</td>\n",
       "    </tr>\n",
       "    <tr>\n",
       "      <th>2</th>\n",
       "      <td>0.147745</td>\n",
       "      <td>1.432383</td>\n",
       "    </tr>\n",
       "    <tr>\n",
       "      <th>3</th>\n",
       "      <td>-0.295500</td>\n",
       "      <td>-0.170462</td>\n",
       "    </tr>\n",
       "    <tr>\n",
       "      <th>4</th>\n",
       "      <td>-0.295500</td>\n",
       "      <td>-0.312514</td>\n",
       "    </tr>\n",
       "    <tr>\n",
       "      <th>...</th>\n",
       "      <td>...</td>\n",
       "      <td>...</td>\n",
       "    </tr>\n",
       "    <tr>\n",
       "      <th>10678</th>\n",
       "      <td>-2.244150</td>\n",
       "      <td>-0.946733</td>\n",
       "    </tr>\n",
       "    <tr>\n",
       "      <th>10679</th>\n",
       "      <td>-1.420300</td>\n",
       "      <td>-0.916619</td>\n",
       "    </tr>\n",
       "    <tr>\n",
       "      <th>10680</th>\n",
       "      <td>0.147745</td>\n",
       "      <td>-0.776275</td>\n",
       "    </tr>\n",
       "    <tr>\n",
       "      <th>10681</th>\n",
       "      <td>2.122896</td>\n",
       "      <td>-0.887237</td>\n",
       "    </tr>\n",
       "    <tr>\n",
       "      <th>10682</th>\n",
       "      <td>-1.420300</td>\n",
       "      <td>0.327498</td>\n",
       "    </tr>\n",
       "  </tbody>\n",
       "</table>\n",
       "<p>10683 rows × 2 columns</p>\n",
       "</div>"
      ],
      "text/plain": [
       "        Airline  Duration(mins)\n",
       "0     -0.295500       -0.830511\n",
       "1     -1.420300        0.187783\n",
       "2      0.147745        1.432383\n",
       "3     -0.295500       -0.170462\n",
       "4     -0.295500       -0.312514\n",
       "...         ...             ...\n",
       "10678 -2.244150       -0.946733\n",
       "10679 -1.420300       -0.916619\n",
       "10680  0.147745       -0.776275\n",
       "10681  2.122896       -0.887237\n",
       "10682 -1.420300        0.327498\n",
       "\n",
       "[10683 rows x 2 columns]"
      ]
     },
     "execution_count": 68,
     "metadata": {},
     "output_type": "execute_result"
    }
   ],
   "source": [
    "x"
   ]
  },
  {
   "cell_type": "code",
   "execution_count": 69,
   "id": "98a5b52c",
   "metadata": {},
   "outputs": [
    {
     "data": {
      "text/plain": [
       "Airline          -0.015312\n",
       "Duration(mins)   -0.037173\n",
       "dtype: float64"
      ]
     },
     "execution_count": 69,
     "metadata": {},
     "output_type": "execute_result"
    }
   ],
   "source": [
    "x.skew().sort_values(ascending=False)"
   ]
  },
  {
   "cell_type": "code",
   "execution_count": 70,
   "id": "6e47a8dc",
   "metadata": {},
   "outputs": [],
   "source": [
    "sk=x.skew()"
   ]
  },
  {
   "cell_type": "code",
   "execution_count": 71,
   "id": "5de3d673",
   "metadata": {},
   "outputs": [
    {
     "data": {
      "text/plain": [
       "Airline          -0.015312\n",
       "Duration(mins)   -0.037173\n",
       "dtype: float64"
      ]
     },
     "execution_count": 71,
     "metadata": {},
     "output_type": "execute_result"
    }
   ],
   "source": [
    "sk"
   ]
  },
  {
   "cell_type": "code",
   "execution_count": 72,
   "id": "a8fb0aeb",
   "metadata": {},
   "outputs": [
    {
     "data": {
      "text/plain": [
       "True"
      ]
     },
     "execution_count": 72,
     "metadata": {},
     "output_type": "execute_result"
    }
   ],
   "source": [
    "sk[np.abs(sk)>0.5].all()"
   ]
  },
  {
   "cell_type": "code",
   "execution_count": 73,
   "id": "47dc5678",
   "metadata": {},
   "outputs": [
    {
     "data": {
      "text/plain": [
       "Series([], dtype: float64)"
      ]
     },
     "execution_count": 73,
     "metadata": {},
     "output_type": "execute_result"
    }
   ],
   "source": [
    "sk[np.abs(sk)>0.5]"
   ]
  },
  {
   "cell_type": "code",
   "execution_count": 74,
   "id": "7650bd1c",
   "metadata": {},
   "outputs": [
    {
     "data": {
      "text/plain": [
       "True"
      ]
     },
     "execution_count": 74,
     "metadata": {},
     "output_type": "execute_result"
    }
   ],
   "source": [
    "x.skew()[np.abs(x.skew())<0.25].all()"
   ]
  },
  {
   "cell_type": "markdown",
   "id": "7ba2730b",
   "metadata": {},
   "source": [
    "Skewness has been removed,now we can proceed with further steps"
   ]
  },
  {
   "cell_type": "markdown",
   "id": "a1622898",
   "metadata": {},
   "source": [
    "# Checking Outliers"
   ]
  },
  {
   "cell_type": "code",
   "execution_count": 75,
   "id": "4d1b342a",
   "metadata": {},
   "outputs": [
    {
     "data": {
      "image/png": "[encoded data removed]",
      "text/plain": [
       "<Figure size 1440x576 with 1 Axes>"
      ]
     },
     "metadata": {
      "needs_background": "light"
     },
     "output_type": "display_data"
    }
   ],
   "source": [
    "x.iloc[:,0:3].boxplot(figsize=[20,8])\n",
    "plt.subplots_adjust(bottom=0.25)\n",
    "plt.show()"
   ]
  },
  {
   "cell_type": "code",
   "execution_count": 76,
   "id": "788e2003",
   "metadata": {},
   "outputs": [
    {
     "data": {
      "text/plain": [
       "Airline            True\n",
       "Duration(mins)    False\n",
       "dtype: bool"
      ]
     },
     "execution_count": 76,
     "metadata": {},
     "output_type": "execute_result"
    }
   ],
   "source": [
    "from scipy.stats import zscore\n",
    "(np.abs(zscore(x))<3).all()"
   ]
  },
  {
   "cell_type": "markdown",
   "id": "9f3a9ee5",
   "metadata": {},
   "source": [
    "Remove Outliers"
   ]
  },
  {
   "cell_type": "code",
   "execution_count": 78,
   "id": "d77bb62a",
   "metadata": {},
   "outputs": [],
   "source": [
    "feature=['Airline', 'Duration(mins)']"
   ]
  },
  {
   "cell_type": "code",
   "execution_count": 77,
   "id": "2470f8a6",
   "metadata": {},
   "outputs": [],
   "source": [
    "def outliers(df,ft):\n",
    "    q1=df[ft].quantile(0.25)\n",
    "    q3=df[ft].quantile(0.75)\n",
    "    iqr=q3-q1\n",
    "    lower_limit=q1-1.5*iqr\n",
    "    upper_limit=q3+1.5*iqr\n",
    "    ls=df.index[(df[ft]<lower_limit) | (df[ft]>upper_limit)]\n",
    "    return ls"
   ]
  },
  {
   "cell_type": "code",
   "execution_count": 79,
   "id": "ab67bd4c",
   "metadata": {},
   "outputs": [],
   "source": [
    "index_list=[]\n",
    "for i in feature:\n",
    "    index_list.extend(outliers(df,i))"
   ]
  },
  {
   "cell_type": "code",
   "execution_count": 80,
   "id": "88d147d6",
   "metadata": {},
   "outputs": [
    {
     "data": {
      "text/plain": [
       "[1,\n",
       " 5,\n",
       " 9,\n",
       " 10,\n",
       " 12,\n",
       " 15,\n",
       " 16,\n",
       " 18,\n",
       " 21,\n",
       " 28,\n",
       " 29,\n",
       " 30,\n",
       " 31,\n",
       " 36,\n",
       " 37,\n",
       " 40,\n",
       " 41,\n",
       " 43,\n",
       " 44,\n",
       " 45,\n",
       " 47,\n",
       " 48,\n",
       " 54,\n",
       " 56,\n",
       " 57,\n",
       " 58,\n",
       " 59,\n",
       " 60,\n",
       " 61,\n",
       " 62,\n",
       " 64,\n",
       " 66,\n",
       " 67,\n",
       " 68,\n",
       " 72,\n",
       " 75,\n",
       " 79,\n",
       " 84,\n",
       " 90,\n",
       " 91,\n",
       " 93,\n",
       " 94,\n",
       " 96,\n",
       " 103,\n",
       " 104,\n",
       " 106,\n",
       " 107,\n",
       " 108,\n",
       " 112,\n",
       " 115,\n",
       " 116,\n",
       " 117,\n",
       " 118,\n",
       " 120,\n",
       " 121,\n",
       " 123,\n",
       " 125,\n",
       " 130,\n",
       " 132,\n",
       " 134,\n",
       " 137,\n",
       " 140,\n",
       " 144,\n",
       " 147,\n",
       " 149,\n",
       " 150,\n",
       " 155,\n",
       " 162,\n",
       " 164,\n",
       " 166,\n",
       " 167,\n",
       " 171,\n",
       " 173,\n",
       " 177,\n",
       " 179,\n",
       " 182,\n",
       " 185,\n",
       " 189,\n",
       " 191,\n",
       " 195,\n",
       " 198,\n",
       " 199,\n",
       " 201,\n",
       " 203,\n",
       " 204,\n",
       " 207,\n",
       " 211,\n",
       " 212,\n",
       " 213,\n",
       " 216,\n",
       " 219,\n",
       " 220,\n",
       " 221,\n",
       " 223,\n",
       " 225,\n",
       " 228,\n",
       " 230,\n",
       " 231,\n",
       " 232,\n",
       " 235,\n",
       " 237,\n",
       " 239,\n",
       " 242,\n",
       " 243,\n",
       " 244,\n",
       " 248,\n",
       " 249,\n",
       " 250,\n",
       " 251,\n",
       " 253,\n",
       " 254,\n",
       " 255,\n",
       " 256,\n",
       " 264,\n",
       " 265,\n",
       " 267,\n",
       " 268,\n",
       " 271,\n",
       " 272,\n",
       " 273,\n",
       " 274,\n",
       " 276,\n",
       " 277,\n",
       " 278,\n",
       " 281,\n",
       " 285,\n",
       " 289,\n",
       " 291,\n",
       " 293,\n",
       " 297,\n",
       " 298,\n",
       " 299,\n",
       " 301,\n",
       " 302,\n",
       " 307,\n",
       " 308,\n",
       " 309,\n",
       " 315,\n",
       " 316,\n",
       " 317,\n",
       " 322,\n",
       " 327,\n",
       " 329,\n",
       " 330,\n",
       " 334,\n",
       " 335,\n",
       " 338,\n",
       " 341,\n",
       " 343,\n",
       " 344,\n",
       " 348,\n",
       " 353,\n",
       " 357,\n",
       " 361,\n",
       " 362,\n",
       " 363,\n",
       " 365,\n",
       " 366,\n",
       " 368,\n",
       " 370,\n",
       " 371,\n",
       " 373,\n",
       " 375,\n",
       " 376,\n",
       " 378,\n",
       " 380,\n",
       " 383,\n",
       " 384,\n",
       " 385,\n",
       " 387,\n",
       " 391,\n",
       " 392,\n",
       " 395,\n",
       " 396,\n",
       " 398,\n",
       " 399,\n",
       " 402,\n",
       " 404,\n",
       " 406,\n",
       " 408,\n",
       " 409,\n",
       " 410,\n",
       " 415,\n",
       " 418,\n",
       " 424,\n",
       " 426,\n",
       " 427,\n",
       " 428,\n",
       " 429,\n",
       " 430,\n",
       " 431,\n",
       " 432,\n",
       " 434,\n",
       " 436,\n",
       " 437,\n",
       " 438,\n",
       " 439,\n",
       " 440,\n",
       " 443,\n",
       " 446,\n",
       " 447,\n",
       " 451,\n",
       " 455,\n",
       " 459,\n",
       " 460,\n",
       " 462,\n",
       " 464,\n",
       " 467,\n",
       " 468,\n",
       " 469,\n",
       " 471,\n",
       " 474,\n",
       " 476,\n",
       " 479,\n",
       " 481,\n",
       " 482,\n",
       " 483,\n",
       " 484,\n",
       " 489,\n",
       " 490,\n",
       " 492,\n",
       " 494,\n",
       " 498,\n",
       " 503,\n",
       " 505,\n",
       " 508,\n",
       " 511,\n",
       " 514,\n",
       " 515,\n",
       " 516,\n",
       " 517,\n",
       " 518,\n",
       " 521,\n",
       " 522,\n",
       " 523,\n",
       " 525,\n",
       " 529,\n",
       " 530,\n",
       " 531,\n",
       " 537,\n",
       " 541,\n",
       " 542,\n",
       " 544,\n",
       " 547,\n",
       " 549,\n",
       " 552,\n",
       " 553,\n",
       " 555,\n",
       " 556,\n",
       " 557,\n",
       " 562,\n",
       " 565,\n",
       " 566,\n",
       " 571,\n",
       " 572,\n",
       " 575,\n",
       " 576,\n",
       " 577,\n",
       " 581,\n",
       " 582,\n",
       " 583,\n",
       " 586,\n",
       " 593,\n",
       " 596,\n",
       " 597,\n",
       " 599,\n",
       " 600,\n",
       " 601,\n",
       " 602,\n",
       " 605,\n",
       " 607,\n",
       " 610,\n",
       " 611,\n",
       " 614,\n",
       " 618,\n",
       " 619,\n",
       " 620,\n",
       " 621,\n",
       " 622,\n",
       " 630,\n",
       " 632,\n",
       " 634,\n",
       " 637,\n",
       " 639,\n",
       " 641,\n",
       " 644,\n",
       " 646,\n",
       " 649,\n",
       " 651,\n",
       " 655,\n",
       " 656,\n",
       " 658,\n",
       " 659,\n",
       " 663,\n",
       " 664,\n",
       " 665,\n",
       " 666,\n",
       " 667,\n",
       " 671,\n",
       " 672,\n",
       " 673,\n",
       " 687,\n",
       " 688,\n",
       " 691,\n",
       " 692,\n",
       " 696,\n",
       " 698,\n",
       " 700,\n",
       " 701,\n",
       " 705,\n",
       " 708,\n",
       " 709,\n",
       " 711,\n",
       " 717,\n",
       " 719,\n",
       " 721,\n",
       " 730,\n",
       " 732,\n",
       " 733,\n",
       " 736,\n",
       " 737,\n",
       " 738,\n",
       " 747,\n",
       " 751,\n",
       " 753,\n",
       " 754,\n",
       " 756,\n",
       " 762,\n",
       " 763,\n",
       " 765,\n",
       " 766,\n",
       " 768,\n",
       " 769,\n",
       " 771,\n",
       " 772,\n",
       " 773,\n",
       " 774,\n",
       " 776,\n",
       " 779,\n",
       " 780,\n",
       " 781,\n",
       " 785,\n",
       " 786,\n",
       " 787,\n",
       " 790,\n",
       " 793,\n",
       " 797,\n",
       " 798,\n",
       " 799,\n",
       " 800,\n",
       " 802,\n",
       " 803,\n",
       " 804,\n",
       " 805,\n",
       " 806,\n",
       " 807,\n",
       " 808,\n",
       " 813,\n",
       " 816,\n",
       " 818,\n",
       " 824,\n",
       " 829,\n",
       " 830,\n",
       " 831,\n",
       " 832,\n",
       " 833,\n",
       " 836,\n",
       " 840,\n",
       " 844,\n",
       " 845,\n",
       " 848,\n",
       " 849,\n",
       " 850,\n",
       " 854,\n",
       " 856,\n",
       " 862,\n",
       " 864,\n",
       " 865,\n",
       " 866,\n",
       " 870,\n",
       " 871,\n",
       " 874,\n",
       " 875,\n",
       " 877,\n",
       " 878,\n",
       " 879,\n",
       " 881,\n",
       " 884,\n",
       " 885,\n",
       " 887,\n",
       " 890,\n",
       " 892,\n",
       " 893,\n",
       " 894,\n",
       " 898,\n",
       " 902,\n",
       " 906,\n",
       " 908,\n",
       " 910,\n",
       " 911,\n",
       " 914,\n",
       " 916,\n",
       " 917,\n",
       " 919,\n",
       " 920,\n",
       " 921,\n",
       " 922,\n",
       " 923,\n",
       " 926,\n",
       " 927,\n",
       " 932,\n",
       " 933,\n",
       " 938,\n",
       " 957,\n",
       " 958,\n",
       " 960,\n",
       " 962,\n",
       " 964,\n",
       " 965,\n",
       " 966,\n",
       " 967,\n",
       " 969,\n",
       " 970,\n",
       " 971,\n",
       " 973,\n",
       " 978,\n",
       " 980,\n",
       " 981,\n",
       " 983,\n",
       " 985,\n",
       " 986,\n",
       " 990,\n",
       " 991,\n",
       " 992,\n",
       " 994,\n",
       " 995,\n",
       " 997,\n",
       " 998,\n",
       " 1001,\n",
       " 1003,\n",
       " 1006,\n",
       " 1009,\n",
       " 1010,\n",
       " 1011,\n",
       " 1013,\n",
       " 1014,\n",
       " 1015,\n",
       " 1019,\n",
       " 1020,\n",
       " 1021,\n",
       " 1025,\n",
       " 1030,\n",
       " 1032,\n",
       " 1033,\n",
       " 1034,\n",
       " 1035,\n",
       " 1036,\n",
       " 1039,\n",
       " 1040,\n",
       " 1041,\n",
       " 1042,\n",
       " 1043,\n",
       " 1045,\n",
       " 1049,\n",
       " 1050,\n",
       " 1051,\n",
       " 1052,\n",
       " 1054,\n",
       " 1058,\n",
       " 1059,\n",
       " 1061,\n",
       " 1065,\n",
       " 1066,\n",
       " 1069,\n",
       " 1071,\n",
       " 1072,\n",
       " 1073,\n",
       " 1077,\n",
       " 1078,\n",
       " 1079,\n",
       " 1082,\n",
       " 1085,\n",
       " 1092,\n",
       " 1095,\n",
       " 1096,\n",
       " 1097,\n",
       " 1099,\n",
       " 1100,\n",
       " 1104,\n",
       " 1107,\n",
       " 1109,\n",
       " 1110,\n",
       " 1111,\n",
       " 1114,\n",
       " 1115,\n",
       " 1117,\n",
       " 1118,\n",
       " 1120,\n",
       " 1123,\n",
       " 1124,\n",
       " 1125,\n",
       " 1126,\n",
       " 1127,\n",
       " 1130,\n",
       " 1135,\n",
       " 1136,\n",
       " 1138,\n",
       " 1149,\n",
       " 1150,\n",
       " 1151,\n",
       " 1153,\n",
       " 1157,\n",
       " 1158,\n",
       " 1159,\n",
       " 1160,\n",
       " 1161,\n",
       " 1173,\n",
       " 1183,\n",
       " 1185,\n",
       " 1188,\n",
       " 1193,\n",
       " 1194,\n",
       " 1196,\n",
       " 1197,\n",
       " 1198,\n",
       " 1199,\n",
       " 1200,\n",
       " 1201,\n",
       " 1203,\n",
       " 1204,\n",
       " 1206,\n",
       " 1209,\n",
       " 1210,\n",
       " 1211,\n",
       " 1212,\n",
       " 1213,\n",
       " 1214,\n",
       " 1218,\n",
       " 1220,\n",
       " 1221,\n",
       " 1224,\n",
       " 1226,\n",
       " 1228,\n",
       " 1229,\n",
       " 1230,\n",
       " 1235,\n",
       " 1236,\n",
       " 1238,\n",
       " 1240,\n",
       " 1243,\n",
       " 1244,\n",
       " 1252,\n",
       " 1253,\n",
       " 1257,\n",
       " 1259,\n",
       " 1260,\n",
       " 1262,\n",
       " 1264,\n",
       " 1266,\n",
       " 1267,\n",
       " 1270,\n",
       " 1271,\n",
       " 1274,\n",
       " 1275,\n",
       " 1278,\n",
       " 1280,\n",
       " 1281,\n",
       " 1285,\n",
       " 1286,\n",
       " 1287,\n",
       " 1289,\n",
       " 1290,\n",
       " 1291,\n",
       " 1293,\n",
       " 1294,\n",
       " 1300,\n",
       " 1301,\n",
       " 1305,\n",
       " 1308,\n",
       " 1310,\n",
       " 1313,\n",
       " 1314,\n",
       " 1316,\n",
       " 1317,\n",
       " 1318,\n",
       " 1321,\n",
       " 1322,\n",
       " 1323,\n",
       " 1327,\n",
       " 1333,\n",
       " 1334,\n",
       " 1336,\n",
       " 1339,\n",
       " 1341,\n",
       " 1345,\n",
       " 1346,\n",
       " 1347,\n",
       " 1348,\n",
       " 1352,\n",
       " 1353,\n",
       " 1357,\n",
       " 1359,\n",
       " 1363,\n",
       " 1367,\n",
       " 1368,\n",
       " 1369,\n",
       " 1371,\n",
       " 1373,\n",
       " 1374,\n",
       " 1376,\n",
       " 1378,\n",
       " 1380,\n",
       " 1384,\n",
       " 1386,\n",
       " 1388,\n",
       " 1392,\n",
       " 1394,\n",
       " 1395,\n",
       " 1397,\n",
       " 1398,\n",
       " 1405,\n",
       " 1406,\n",
       " 1409,\n",
       " 1416,\n",
       " 1417,\n",
       " 1421,\n",
       " 1423,\n",
       " 1425,\n",
       " 1426,\n",
       " 1427,\n",
       " 1429,\n",
       " 1434,\n",
       " 1435,\n",
       " 1440,\n",
       " 1442,\n",
       " 1443,\n",
       " 1448,\n",
       " 1453,\n",
       " 1459,\n",
       " 1464,\n",
       " 1467,\n",
       " 1470,\n",
       " 1471,\n",
       " 1472,\n",
       " 1481,\n",
       " 1483,\n",
       " 1485,\n",
       " 1487,\n",
       " 1492,\n",
       " 1494,\n",
       " 1495,\n",
       " 1496,\n",
       " 1498,\n",
       " 1499,\n",
       " 1500,\n",
       " 1501,\n",
       " 1505,\n",
       " 1506,\n",
       " 1511,\n",
       " 1512,\n",
       " 1518,\n",
       " 1519,\n",
       " 1520,\n",
       " 1526,\n",
       " 1535,\n",
       " 1538,\n",
       " 1544,\n",
       " 1545,\n",
       " 1547,\n",
       " 1548,\n",
       " 1549,\n",
       " 1555,\n",
       " 1556,\n",
       " 1557,\n",
       " 1559,\n",
       " 1560,\n",
       " 1562,\n",
       " 1567,\n",
       " 1569,\n",
       " 1570,\n",
       " 1571,\n",
       " 1572,\n",
       " 1573,\n",
       " 1574,\n",
       " 1576,\n",
       " 1577,\n",
       " 1579,\n",
       " 1580,\n",
       " 1588,\n",
       " 1589,\n",
       " 1590,\n",
       " 1591,\n",
       " 1595,\n",
       " 1596,\n",
       " 1597,\n",
       " 1600,\n",
       " 1605,\n",
       " 1606,\n",
       " 1607,\n",
       " 1608,\n",
       " 1609,\n",
       " 1611,\n",
       " 1616,\n",
       " 1617,\n",
       " 1618,\n",
       " 1621,\n",
       " 1625,\n",
       " 1627,\n",
       " 1628,\n",
       " 1629,\n",
       " 1630,\n",
       " 1633,\n",
       " 1636,\n",
       " 1637,\n",
       " 1641,\n",
       " 1648,\n",
       " 1651,\n",
       " 1652,\n",
       " 1653,\n",
       " 1655,\n",
       " 1656,\n",
       " 1657,\n",
       " 1658,\n",
       " 1661,\n",
       " 1665,\n",
       " 1669,\n",
       " 1672,\n",
       " 1679,\n",
       " 1680,\n",
       " 1684,\n",
       " 1688,\n",
       " 1696,\n",
       " 1700,\n",
       " 1705,\n",
       " 1710,\n",
       " 1712,\n",
       " 1713,\n",
       " 1714,\n",
       " 1718,\n",
       " 1719,\n",
       " 1721,\n",
       " 1722,\n",
       " 1725,\n",
       " 1730,\n",
       " 1733,\n",
       " 1735,\n",
       " 1738,\n",
       " 1740,\n",
       " 1742,\n",
       " 1744,\n",
       " 1748,\n",
       " 1754,\n",
       " 1756,\n",
       " 1760,\n",
       " 1762,\n",
       " 1763,\n",
       " 1768,\n",
       " 1769,\n",
       " 1770,\n",
       " 1772,\n",
       " 1778,\n",
       " 1781,\n",
       " 1784,\n",
       " 1786,\n",
       " 1791,\n",
       " 1798,\n",
       " 1799,\n",
       " 1801,\n",
       " 1804,\n",
       " 1805,\n",
       " 1806,\n",
       " 1811,\n",
       " 1812,\n",
       " 1815,\n",
       " 1820,\n",
       " 1822,\n",
       " 1824,\n",
       " 1825,\n",
       " 1837,\n",
       " 1842,\n",
       " 1843,\n",
       " 1848,\n",
       " 1850,\n",
       " 1852,\n",
       " 1856,\n",
       " 1857,\n",
       " 1861,\n",
       " 1862,\n",
       " 1863,\n",
       " 1864,\n",
       " 1865,\n",
       " 1866,\n",
       " 1867,\n",
       " 1868,\n",
       " 1870,\n",
       " 1873,\n",
       " 1876,\n",
       " 1880,\n",
       " 1881,\n",
       " 1883,\n",
       " 1884,\n",
       " 1890,\n",
       " 1892,\n",
       " 1894,\n",
       " 1895,\n",
       " 1896,\n",
       " 1898,\n",
       " 1899,\n",
       " 1907,\n",
       " 1916,\n",
       " 1921,\n",
       " 1926,\n",
       " 1928,\n",
       " 1932,\n",
       " 1933,\n",
       " 1934,\n",
       " 1938,\n",
       " 1939,\n",
       " 1943,\n",
       " 1944,\n",
       " 1945,\n",
       " 1948,\n",
       " 1949,\n",
       " 1953,\n",
       " 1956,\n",
       " 1957,\n",
       " 1958,\n",
       " 1964,\n",
       " 1965,\n",
       " 1966,\n",
       " 1968,\n",
       " 1969,\n",
       " 1972,\n",
       " 1973,\n",
       " 1975,\n",
       " 1977,\n",
       " 1979,\n",
       " 1980,\n",
       " 1982,\n",
       " 1983,\n",
       " 1984,\n",
       " 1987,\n",
       " 1988,\n",
       " 1992,\n",
       " 1993,\n",
       " 1996,\n",
       " 2002,\n",
       " 2006,\n",
       " 2007,\n",
       " 2015,\n",
       " 2016,\n",
       " 2017,\n",
       " 2022,\n",
       " 2023,\n",
       " 2028,\n",
       " 2030,\n",
       " 2032,\n",
       " 2033,\n",
       " 2035,\n",
       " 2037,\n",
       " 2039,\n",
       " 2040,\n",
       " 2042,\n",
       " 2045,\n",
       " 2047,\n",
       " 2050,\n",
       " 2054,\n",
       " 2055,\n",
       " 2056,\n",
       " 2059,\n",
       " 2066,\n",
       " 2070,\n",
       " 2072,\n",
       " 2074,\n",
       " 2079,\n",
       " 2080,\n",
       " 2082,\n",
       " 2083,\n",
       " 2084,\n",
       " 2091,\n",
       " 2094,\n",
       " 2096,\n",
       " 2101,\n",
       " 2102,\n",
       " 2103,\n",
       " 2105,\n",
       " 2106,\n",
       " 2110,\n",
       " 2111,\n",
       " 2113,\n",
       " 2115,\n",
       " 2119,\n",
       " 2123,\n",
       " 2128,\n",
       " 2129,\n",
       " 2132,\n",
       " 2136,\n",
       " 2138,\n",
       " 2143,\n",
       " 2145,\n",
       " 2147,\n",
       " 2148,\n",
       " 2151,\n",
       " 2152,\n",
       " 2155,\n",
       " 2159,\n",
       " 2164,\n",
       " 2171,\n",
       " 2172,\n",
       " 2182,\n",
       " 2183,\n",
       " 2184,\n",
       " 2186,\n",
       " 2189,\n",
       " 2190,\n",
       " 2192,\n",
       " 2193,\n",
       " 2196,\n",
       " 2197,\n",
       " 2198,\n",
       " 2202,\n",
       " 2206,\n",
       " 2209,\n",
       " 2210,\n",
       " 2213,\n",
       " 2218,\n",
       " 2219,\n",
       " 2221,\n",
       " 2224,\n",
       " 2226,\n",
       " 2227,\n",
       " 2229,\n",
       " 2231,\n",
       " 2235,\n",
       " 2236,\n",
       " 2238,\n",
       " 2240,\n",
       " 2244,\n",
       " 2247,\n",
       " 2248,\n",
       " 2249,\n",
       " 2251,\n",
       " 2253,\n",
       " 2255,\n",
       " 2259,\n",
       " 2263,\n",
       " 2266,\n",
       " 2267,\n",
       " 2268,\n",
       " 2271,\n",
       " 2272,\n",
       " 2273,\n",
       " 2274,\n",
       " 2275,\n",
       " 2276,\n",
       " 2280,\n",
       " 2281,\n",
       " 2284,\n",
       " 2286,\n",
       " 2289,\n",
       " 2290,\n",
       " 2293,\n",
       " 2295,\n",
       " 2296,\n",
       " 2300,\n",
       " 2305,\n",
       " 2307,\n",
       " 2308,\n",
       " 2310,\n",
       " 2314,\n",
       " 2315,\n",
       " 2317,\n",
       " 2320,\n",
       " 2321,\n",
       " 2326,\n",
       " 2328,\n",
       " 2332,\n",
       " 2334,\n",
       " 2336,\n",
       " 2340,\n",
       " 2341,\n",
       " 2343,\n",
       " 2345,\n",
       " 2347,\n",
       " 2352,\n",
       " 2354,\n",
       " 2356,\n",
       " 2359,\n",
       " 2363,\n",
       " 2365,\n",
       " 2368,\n",
       " 2369,\n",
       " 2371,\n",
       " 2372,\n",
       " 2373,\n",
       " 2374,\n",
       " 2377,\n",
       " 2380,\n",
       " 2381,\n",
       " 2382,\n",
       " ...]"
      ]
     },
     "execution_count": 80,
     "metadata": {},
     "output_type": "execute_result"
    }
   ],
   "source": [
    "index_list"
   ]
  },
  {
   "cell_type": "code",
   "execution_count": 81,
   "id": "60438dc7",
   "metadata": {},
   "outputs": [],
   "source": [
    "def remove(df,ls):\n",
    "    ls=sorted(set(ls))\n",
    "    df=df.drop(ls)\n",
    "    return df"
   ]
  },
  {
   "cell_type": "code",
   "execution_count": 82,
   "id": "f2d28e39",
   "metadata": {},
   "outputs": [],
   "source": [
    "df_cleaned=remove(df,index_list)"
   ]
  },
  {
   "cell_type": "code",
   "execution_count": 83,
   "id": "18fb380e",
   "metadata": {},
   "outputs": [
    {
     "data": {
      "text/plain": [
       "(6102, 3)"
      ]
     },
     "execution_count": 83,
     "metadata": {},
     "output_type": "execute_result"
    }
   ],
   "source": [
    "df_cleaned.shape"
   ]
  },
  {
   "cell_type": "markdown",
   "id": "9d4c9a0f",
   "metadata": {},
   "source": [
    "Now we are splitting x and y from df_cleaned"
   ]
  },
  {
   "cell_type": "code",
   "execution_count": 85,
   "id": "16c05aa6",
   "metadata": {},
   "outputs": [],
   "source": [
    "x=df_cleaned.drop('Price',axis=1)\n",
    "y=df_cleaned['Price']"
   ]
  },
  {
   "cell_type": "code",
   "execution_count": 86,
   "id": "f94968c7",
   "metadata": {},
   "outputs": [
    {
     "data": {
      "text/plain": [
       "Airline           True\n",
       "Duration(mins)    True\n",
       "dtype: bool"
      ]
     },
     "execution_count": 86,
     "metadata": {},
     "output_type": "execute_result"
    }
   ],
   "source": [
    "from scipy.stats import zscore\n",
    "(np.abs(zscore(x))<3).all()"
   ]
  },
  {
   "cell_type": "markdown",
   "id": "1b7b8ea1",
   "metadata": {},
   "source": [
    "Therefore we removed outliers successfully"
   ]
  },
  {
   "cell_type": "markdown",
   "id": "f53321fa",
   "metadata": {},
   "source": [
    "Feature Scaling"
   ]
  },
  {
   "cell_type": "code",
   "execution_count": 100,
   "id": "bc0aa1f1",
   "metadata": {},
   "outputs": [],
   "source": [
    "y=y.values.reshape(-1,1)"
   ]
  },
  {
   "cell_type": "code",
   "execution_count": 101,
   "id": "aa486d5c",
   "metadata": {},
   "outputs": [],
   "source": [
    "from sklearn.preprocessing import StandardScaler\n",
    "scaler_x=StandardScaler()\n",
    "scaler_y=StandardScaler()\n",
    "x=scaler_x.fit_transform(x)\n",
    "y=scaler_y.fit_transform(y.reshape(-1,1))"
   ]
  },
  {
   "cell_type": "code",
   "execution_count": 103,
   "id": "61d747f2",
   "metadata": {},
   "outputs": [],
   "source": [
    "df2=pd.DataFrame(data=x,columns=['Airline','Duration(mins)'])"
   ]
  },
  {
   "cell_type": "code",
   "execution_count": 104,
   "id": "e5d553be",
   "metadata": {},
   "outputs": [],
   "source": [
    "df3=pd.DataFrame(data=y,columns=['Price'])"
   ]
  },
  {
   "cell_type": "code",
   "execution_count": 105,
   "id": "1651edad",
   "metadata": {},
   "outputs": [],
   "source": [
    "df_new=pd.concat([df2,df3],axis=1)"
   ]
  },
  {
   "cell_type": "code",
   "execution_count": 106,
   "id": "52d045c7",
   "metadata": {},
   "outputs": [
    {
     "data": {
      "text/html": [
       "<div>\n",
       "<style scoped>\n",
       "    .dataframe tbody tr th:only-of-type {\n",
       "        vertical-align: middle;\n",
       "    }\n",
       "\n",
       "    .dataframe tbody tr th {\n",
       "        vertical-align: top;\n",
       "    }\n",
       "\n",
       "    .dataframe thead th {\n",
       "        text-align: right;\n",
       "    }\n",
       "</style>\n",
       "<table border=\"1\" class=\"dataframe\">\n",
       "  <thead>\n",
       "    <tr style=\"text-align: right;\">\n",
       "      <th></th>\n",
       "      <th>Airline</th>\n",
       "      <th>Duration(mins)</th>\n",
       "      <th>Price</th>\n",
       "    </tr>\n",
       "  </thead>\n",
       "  <tbody>\n",
       "    <tr>\n",
       "      <th>0</th>\n",
       "      <td>-1.087506</td>\n",
       "      <td>-0.838346</td>\n",
       "      <td>-1.140826</td>\n",
       "    </tr>\n",
       "    <tr>\n",
       "      <th>1</th>\n",
       "      <td>0.722137</td>\n",
       "      <td>1.600924</td>\n",
       "      <td>0.893186</td>\n",
       "    </tr>\n",
       "    <tr>\n",
       "      <th>2</th>\n",
       "      <td>-1.087506</td>\n",
       "      <td>-0.448566</td>\n",
       "      <td>-0.668023</td>\n",
       "    </tr>\n",
       "    <tr>\n",
       "      <th>3</th>\n",
       "      <td>-1.087506</td>\n",
       "      <td>-0.549155</td>\n",
       "      <td>0.775036</td>\n",
       "    </tr>\n",
       "    <tr>\n",
       "      <th>4</th>\n",
       "      <td>0.722137</td>\n",
       "      <td>1.072834</td>\n",
       "      <td>0.323826</td>\n",
       "    </tr>\n",
       "    <tr>\n",
       "      <th>...</th>\n",
       "      <td>...</td>\n",
       "      <td>...</td>\n",
       "      <td>...</td>\n",
       "    </tr>\n",
       "    <tr>\n",
       "      <th>6097</th>\n",
       "      <td>0.722137</td>\n",
       "      <td>-0.159374</td>\n",
       "      <td>2.387783</td>\n",
       "    </tr>\n",
       "    <tr>\n",
       "      <th>6098</th>\n",
       "      <td>0.722137</td>\n",
       "      <td>1.739233</td>\n",
       "      <td>0.336659</td>\n",
       "    </tr>\n",
       "    <tr>\n",
       "      <th>6099</th>\n",
       "      <td>0.722137</td>\n",
       "      <td>0.997393</td>\n",
       "      <td>1.468047</td>\n",
       "    </tr>\n",
       "    <tr>\n",
       "      <th>6100</th>\n",
       "      <td>0.722137</td>\n",
       "      <td>-1.152685</td>\n",
       "      <td>0.323826</td>\n",
       "    </tr>\n",
       "    <tr>\n",
       "      <th>6101</th>\n",
       "      <td>0.722137</td>\n",
       "      <td>-0.813199</td>\n",
       "      <td>-0.462075</td>\n",
       "    </tr>\n",
       "  </tbody>\n",
       "</table>\n",
       "<p>6102 rows × 3 columns</p>\n",
       "</div>"
      ],
      "text/plain": [
       "       Airline  Duration(mins)     Price\n",
       "0    -1.087506       -0.838346 -1.140826\n",
       "1     0.722137        1.600924  0.893186\n",
       "2    -1.087506       -0.448566 -0.668023\n",
       "3    -1.087506       -0.549155  0.775036\n",
       "4     0.722137        1.072834  0.323826\n",
       "...        ...             ...       ...\n",
       "6097  0.722137       -0.159374  2.387783\n",
       "6098  0.722137        1.739233  0.336659\n",
       "6099  0.722137        0.997393  1.468047\n",
       "6100  0.722137       -1.152685  0.323826\n",
       "6101  0.722137       -0.813199 -0.462075\n",
       "\n",
       "[6102 rows x 3 columns]"
      ]
     },
     "execution_count": 106,
     "metadata": {},
     "output_type": "execute_result"
    }
   ],
   "source": [
    "df_new"
   ]
  },
  {
   "cell_type": "code",
   "execution_count": 107,
   "id": "7bb00b9d",
   "metadata": {},
   "outputs": [],
   "source": [
    "x=df_new.drop('Price',axis=1)\n",
    "y=df_new['Price']"
   ]
  },
  {
   "cell_type": "markdown",
   "id": "8d2d669b",
   "metadata": {},
   "source": [
    "# Training Process begin"
   ]
  },
  {
   "cell_type": "code",
   "execution_count": 108,
   "id": "cdad468f",
   "metadata": {},
   "outputs": [],
   "source": [
    "from sklearn.model_selection import train_test_split\n",
    "from sklearn.linear_model import LinearRegression\n",
    "from sklearn.metrics import mean_squared_error,mean_absolute_error,r2_score"
   ]
  },
  {
   "cell_type": "code",
   "execution_count": 109,
   "id": "cd4b542e",
   "metadata": {},
   "outputs": [],
   "source": [
    "x_train,x_test,y_train,y_test=train_test_split(x,y,test_size=0.20,random_state=1)"
   ]
  },
  {
   "cell_type": "code",
   "execution_count": 110,
   "id": "4c21497c",
   "metadata": {},
   "outputs": [
    {
     "data": {
      "text/plain": [
       "((4881, 2), (1221, 2))"
      ]
     },
     "execution_count": 110,
     "metadata": {},
     "output_type": "execute_result"
    }
   ],
   "source": [
    "x_train.shape , x_test.shape"
   ]
  },
  {
   "cell_type": "code",
   "execution_count": 111,
   "id": "343331dc",
   "metadata": {},
   "outputs": [
    {
     "data": {
      "text/plain": [
       "((4881,), (1221,))"
      ]
     },
     "execution_count": 111,
     "metadata": {},
     "output_type": "execute_result"
    }
   ],
   "source": [
    "y_train.shape , y_test.shape"
   ]
  },
  {
   "cell_type": "code",
   "execution_count": 112,
   "id": "bf3cdd28",
   "metadata": {},
   "outputs": [],
   "source": [
    "lr=LinearRegression()"
   ]
  },
  {
   "cell_type": "code",
   "execution_count": 113,
   "id": "11dbae51",
   "metadata": {},
   "outputs": [
    {
     "data": {
      "text/plain": [
       "LinearRegression()"
      ]
     },
     "execution_count": 113,
     "metadata": {},
     "output_type": "execute_result"
    }
   ],
   "source": [
    "lr.fit(x_train,y_train)"
   ]
  },
  {
   "cell_type": "code",
   "execution_count": 114,
   "id": "59096e5b",
   "metadata": {},
   "outputs": [
    {
     "data": {
      "text/html": [
       "<div>\n",
       "<style scoped>\n",
       "    .dataframe tbody tr th:only-of-type {\n",
       "        vertical-align: middle;\n",
       "    }\n",
       "\n",
       "    .dataframe tbody tr th {\n",
       "        vertical-align: top;\n",
       "    }\n",
       "\n",
       "    .dataframe thead th {\n",
       "        text-align: right;\n",
       "    }\n",
       "</style>\n",
       "<table border=\"1\" class=\"dataframe\">\n",
       "  <thead>\n",
       "    <tr style=\"text-align: right;\">\n",
       "      <th></th>\n",
       "      <th>Coefficient</th>\n",
       "    </tr>\n",
       "  </thead>\n",
       "  <tbody>\n",
       "    <tr>\n",
       "      <th>Airline</th>\n",
       "      <td>0.465957</td>\n",
       "    </tr>\n",
       "    <tr>\n",
       "      <th>Duration(mins)</th>\n",
       "      <td>0.262416</td>\n",
       "    </tr>\n",
       "  </tbody>\n",
       "</table>\n",
       "</div>"
      ],
      "text/plain": [
       "                Coefficient\n",
       "Airline            0.465957\n",
       "Duration(mins)     0.262416"
      ]
     },
     "execution_count": 114,
     "metadata": {},
     "output_type": "execute_result"
    }
   ],
   "source": [
    "coeff_df=pd.DataFrame(lr.coef_,x.columns,columns=['Coefficient'])\n",
    "coeff_df"
   ]
  },
  {
   "cell_type": "code",
   "execution_count": 115,
   "id": "b07bac88",
   "metadata": {},
   "outputs": [
    {
     "data": {
      "text/plain": [
       "-0.007512004131685247"
      ]
     },
     "execution_count": 115,
     "metadata": {},
     "output_type": "execute_result"
    }
   ],
   "source": [
    "lr.intercept_"
   ]
  },
  {
   "cell_type": "markdown",
   "id": "be55db5a",
   "metadata": {},
   "source": [
    "To make Predictions on test data"
   ]
  },
  {
   "cell_type": "code",
   "execution_count": 120,
   "id": "48838a76",
   "metadata": {},
   "outputs": [],
   "source": [
    "y_pred1=lr.predict(x_test)"
   ]
  },
  {
   "cell_type": "code",
   "execution_count": 123,
   "id": "f469eed8",
   "metadata": {},
   "outputs": [],
   "source": [
    "comp_df=pd.DataFrame({'Actual Price':y_test,'Predicted Sales':y_pred1})"
   ]
  },
  {
   "cell_type": "code",
   "execution_count": 124,
   "id": "d94a52d8",
   "metadata": {},
   "outputs": [
    {
     "data": {
      "text/html": [
       "<div>\n",
       "<style scoped>\n",
       "    .dataframe tbody tr th:only-of-type {\n",
       "        vertical-align: middle;\n",
       "    }\n",
       "\n",
       "    .dataframe tbody tr th {\n",
       "        vertical-align: top;\n",
       "    }\n",
       "\n",
       "    .dataframe thead th {\n",
       "        text-align: right;\n",
       "    }\n",
       "</style>\n",
       "<table border=\"1\" class=\"dataframe\">\n",
       "  <thead>\n",
       "    <tr style=\"text-align: right;\">\n",
       "      <th></th>\n",
       "      <th>Actual Price</th>\n",
       "      <th>Predicted Sales</th>\n",
       "    </tr>\n",
       "  </thead>\n",
       "  <tbody>\n",
       "    <tr>\n",
       "      <th>1242</th>\n",
       "      <td>-0.757246</td>\n",
       "      <td>-0.737538</td>\n",
       "    </tr>\n",
       "    <tr>\n",
       "      <th>2941</th>\n",
       "      <td>-0.859711</td>\n",
       "      <td>-0.754036</td>\n",
       "    </tr>\n",
       "    <tr>\n",
       "      <th>3803</th>\n",
       "      <td>-1.225772</td>\n",
       "      <td>-0.671548</td>\n",
       "    </tr>\n",
       "    <tr>\n",
       "      <th>1513</th>\n",
       "      <td>-0.759487</td>\n",
       "      <td>0.115577</td>\n",
       "    </tr>\n",
       "    <tr>\n",
       "      <th>3502</th>\n",
       "      <td>0.809055</td>\n",
       "      <td>0.524715</td>\n",
       "    </tr>\n",
       "    <tr>\n",
       "      <th>...</th>\n",
       "      <td>...</td>\n",
       "      <td>...</td>\n",
       "    </tr>\n",
       "    <tr>\n",
       "      <th>5568</th>\n",
       "      <td>0.879945</td>\n",
       "      <td>0.610502</td>\n",
       "    </tr>\n",
       "    <tr>\n",
       "      <th>1102</th>\n",
       "      <td>0.996262</td>\n",
       "      <td>0.033089</td>\n",
       "    </tr>\n",
       "    <tr>\n",
       "      <th>329</th>\n",
       "      <td>-0.462075</td>\n",
       "      <td>0.115577</td>\n",
       "    </tr>\n",
       "    <tr>\n",
       "      <th>3862</th>\n",
       "      <td>0.947983</td>\n",
       "      <td>0.257455</td>\n",
       "    </tr>\n",
       "    <tr>\n",
       "      <th>4540</th>\n",
       "      <td>1.062670</td>\n",
       "      <td>0.293750</td>\n",
       "    </tr>\n",
       "  </tbody>\n",
       "</table>\n",
       "<p>1221 rows × 2 columns</p>\n",
       "</div>"
      ],
      "text/plain": [
       "      Actual Price  Predicted Sales\n",
       "1242     -0.757246        -0.737538\n",
       "2941     -0.859711        -0.754036\n",
       "3803     -1.225772        -0.671548\n",
       "1513     -0.759487         0.115577\n",
       "3502      0.809055         0.524715\n",
       "...            ...              ...\n",
       "5568      0.879945         0.610502\n",
       "1102      0.996262         0.033089\n",
       "329      -0.462075         0.115577\n",
       "3862      0.947983         0.257455\n",
       "4540      1.062670         0.293750\n",
       "\n",
       "[1221 rows x 2 columns]"
      ]
     },
     "execution_count": 124,
     "metadata": {},
     "output_type": "execute_result"
    }
   ],
   "source": [
    "comp_df"
   ]
  },
  {
   "cell_type": "code",
   "execution_count": 125,
   "id": "5257b2be",
   "metadata": {},
   "outputs": [
    {
     "name": "stdout",
     "output_type": "stream",
     "text": [
      "Errors:\n",
      "Mean Squared Error : 0.7019380002085817\n",
      "Mean Absolute Error : 0.5375098941804062\n",
      "Root Mean Squared Error: 0.8378174026651521\n"
     ]
    }
   ],
   "source": [
    "print('Errors:')\n",
    "print('Mean Squared Error :',mean_squared_error(y_test,y_pred))\n",
    "print('Mean Absolute Error :',mean_absolute_error(y_test,y_pred))\n",
    "print('Root Mean Squared Error:',np.sqrt(mean_squared_error(y_test,y_pred)))"
   ]
  },
  {
   "cell_type": "markdown",
   "id": "e88dc61e",
   "metadata": {},
   "source": [
    "Random Forest Regressor Model"
   ]
  },
  {
   "cell_type": "code",
   "execution_count": 127,
   "id": "9d4058d1",
   "metadata": {},
   "outputs": [],
   "source": [
    "from sklearn.ensemble import RandomForestRegressor"
   ]
  },
  {
   "cell_type": "code",
   "execution_count": 128,
   "id": "f96f4c80",
   "metadata": {},
   "outputs": [],
   "source": [
    "rf=RandomForestRegressor()\n",
    "rf.fit(x_train,y_train)\n",
    "y_pred2=rf.predict(x_test)"
   ]
  },
  {
   "cell_type": "code",
   "execution_count": 130,
   "id": "0d5ece8c",
   "metadata": {},
   "outputs": [
    {
     "data": {
      "text/plain": [
       "array([-0.99180052, -1.03705551, -0.98732395, ..., -0.43596847,\n",
       "        0.77890973,  0.54467363])"
      ]
     },
     "execution_count": 130,
     "metadata": {},
     "output_type": "execute_result"
    }
   ],
   "source": [
    "y_pred2"
   ]
  },
  {
   "cell_type": "code",
   "execution_count": 131,
   "id": "22c67a5b",
   "metadata": {},
   "outputs": [
    {
     "name": "stdout",
     "output_type": "stream",
     "text": [
      "Errors:\n",
      "Mean Squared Error : 0.4305150973195652\n",
      "Mean Absolute Error : 0.4187958484545945\n",
      "Root Mean Squared Error: 0.6561364929033937\n"
     ]
    }
   ],
   "source": [
    "print('Errors:')\n",
    "print('Mean Squared Error :',mean_squared_error(y_test,y_pred2))\n",
    "print('Mean Absolute Error :',mean_absolute_error(y_test,y_pred2))\n",
    "print('Root Mean Squared Error:',np.sqrt(mean_squared_error(y_test,y_pred2)))"
   ]
  },
  {
   "cell_type": "code",
   "execution_count": 132,
   "id": "3a5f80dc",
   "metadata": {},
   "outputs": [],
   "source": [
    "from sklearn.tree import DecisionTreeRegressor"
   ]
  },
  {
   "cell_type": "code",
   "execution_count": 133,
   "id": "b10d2c10",
   "metadata": {},
   "outputs": [],
   "source": [
    "dt=DecisionTreeRegressor(max_depth=4,min_samples_leaf=0.1,random_state=1)"
   ]
  },
  {
   "cell_type": "code",
   "execution_count": 134,
   "id": "fd91de8c",
   "metadata": {},
   "outputs": [
    {
     "data": {
      "text/plain": [
       "DecisionTreeRegressor(max_depth=4, min_samples_leaf=0.1, random_state=1)"
      ]
     },
     "execution_count": 134,
     "metadata": {},
     "output_type": "execute_result"
    }
   ],
   "source": [
    "dt.fit(x_train,y_train)"
   ]
  },
  {
   "cell_type": "code",
   "execution_count": 135,
   "id": "a7724b03",
   "metadata": {},
   "outputs": [],
   "source": [
    "y_pred3=dt.predict(x_test)"
   ]
  },
  {
   "cell_type": "code",
   "execution_count": 136,
   "id": "2fa582ec",
   "metadata": {},
   "outputs": [
    {
     "name": "stdout",
     "output_type": "stream",
     "text": [
      "Errors:\n",
      "Mean Squared Error : 0.6345560596553789\n",
      "Mean Absolute Error : 0.47305007495532825\n",
      "Root Mean Squared Error: 0.7965902708766778\n"
     ]
    }
   ],
   "source": [
    "print('Errors:')\n",
    "print('Mean Squared Error :',mean_squared_error(y_test,y_pred3))\n",
    "print('Mean Absolute Error :',mean_absolute_error(y_test,y_pred3))\n",
    "print('Root Mean Squared Error:',np.sqrt(mean_squared_error(y_test,y_pred3)))"
   ]
  },
  {
   "cell_type": "code",
   "execution_count": 137,
   "id": "0de0e1c2",
   "metadata": {},
   "outputs": [],
   "source": [
    "from sklearn.svm import SVR"
   ]
  },
  {
   "cell_type": "code",
   "execution_count": 138,
   "id": "d8a5e846",
   "metadata": {},
   "outputs": [],
   "source": [
    "svr=SVR()"
   ]
  },
  {
   "cell_type": "code",
   "execution_count": 139,
   "id": "0b2f5946",
   "metadata": {},
   "outputs": [
    {
     "data": {
      "text/plain": [
       "SVR()"
      ]
     },
     "execution_count": 139,
     "metadata": {},
     "output_type": "execute_result"
    }
   ],
   "source": [
    "svr.fit(x_train,y_train)"
   ]
  },
  {
   "cell_type": "code",
   "execution_count": 140,
   "id": "00c2557f",
   "metadata": {},
   "outputs": [],
   "source": [
    "y_pred4=svr.predict(x_test)"
   ]
  },
  {
   "cell_type": "code",
   "execution_count": 141,
   "id": "7c949020",
   "metadata": {},
   "outputs": [
    {
     "name": "stdout",
     "output_type": "stream",
     "text": [
      "Errors:\n",
      "Mean Squared Error : 0.5632976651055783\n",
      "Mean Absolute Error : 0.4569602563910138\n",
      "Root Mean Squared Error: 0.7505315883462723\n"
     ]
    }
   ],
   "source": [
    "print('Errors:')\n",
    "print('Mean Squared Error :',mean_squared_error(y_test,y_pred4))\n",
    "print('Mean Absolute Error :',mean_absolute_error(y_test,y_pred4))\n",
    "print('Root Mean Squared Error:',np.sqrt(mean_squared_error(y_test,y_pred4)))"
   ]
  }
 ],
 "metadata": {
  "kernelspec": {
   "display_name": "Python 3 (ipykernel)",
   "language": "python",
   "name": "python3"
  },
  "language_info": {
   "codemirror_mode": {
    "name": "ipython",
    "version": 3
   },
   "file_extension": ".py",
   "mimetype": "text/x-python",
   "name": "python",
   "nbconvert_exporter": "python",
   "pygments_lexer": "ipython3",
   "version": "3.9.7"
  }
 },
 "nbformat": 4,
 "nbformat_minor": 5
}
