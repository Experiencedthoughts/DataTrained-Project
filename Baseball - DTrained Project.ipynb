{
 "cells": [
  {
   "cell_type": "markdown",
   "id": "80b8f352",
   "metadata": {},
   "source": [
    "# Baseball - Case Study"
   ]
  },
  {
   "cell_type": "markdown",
   "id": "d1dd5fa3",
   "metadata": {},
   "source": [
    "Problem Statement"
   ]
  },
  {
   "cell_type": "markdown",
   "id": "5b882798",
   "metadata": {},
   "source": [
    "This dataset utilizes data from 2014 Major League Baseball seasons in order to develop an algorithm \n",
    "that predicts the number of wins for a given team in the 2015 season based on several different \n",
    "indicators of success. There are 16 different features that will be used as the inputs to the machine \n",
    "learning and the output will be a value that represents the number of wins. \n"
   ]
  },
  {
   "cell_type": "markdown",
   "id": "5c0ad58b",
   "metadata": {},
   "source": [
    "-- Input features: Runs, At Bats, Hits, Doubles, Triples, Homeruns, Walks, Strikeouts, Stolen Bases, Runs Allowed, Earned Runs, Earned Run Average (ERA), Shutouts, Saves, Complete Games and Errors\n",
    "\n",
    "-- Output: Number of predicted wins (W)"
   ]
  },
  {
   "cell_type": "markdown",
   "id": "e84bcaec",
   "metadata": {},
   "source": [
    "# Importing Required Libraries"
   ]
  },
  {
   "cell_type": "code",
   "execution_count": null,
   "id": "b27b309a",
   "metadata": {},
   "outputs": [],
   "source": [
    "import numpy as np\n",
    "import pandas as pd\n",
    "import matplotlib.pyplot as plt\n",
    "import warnings\n",
    "warnings.filterwarnings('ignore')\n",
    "import seaborn as sns"
   ]
  },
  {
   "cell_type": "markdown",
   "id": "f7248d80",
   "metadata": {},
   "source": [
    "# Loading the Dataset"
   ]
  },
  {
   "cell_type": "code",
   "execution_count": null,
   "id": "30b04357",
   "metadata": {},
   "outputs": [],
   "source": [
    "df=pd.read_csv('baseball.csv')"
   ]
  },
  {
   "cell_type": "code",
   "execution_count": null,
   "id": "dce3959c",
   "metadata": {},
   "outputs": [],
   "source": [
    "df"
   ]
  },
  {
   "cell_type": "markdown",
   "id": "3421d23a",
   "metadata": {},
   "source": [
    "# Exploratory data analysis -  EDA"
   ]
  },
  {
   "cell_type": "code",
   "execution_count": null,
   "id": "ca4d5c9d",
   "metadata": {},
   "outputs": [],
   "source": [
    "df.shape"
   ]
  },
  {
   "cell_type": "markdown",
   "id": "e5e879dc",
   "metadata": {},
   "source": [
    "Therefore we have a dataset which contains 30 rows and 17 columns"
   ]
  },
  {
   "cell_type": "code",
   "execution_count": null,
   "id": "eaf5f5bb",
   "metadata": {},
   "outputs": [],
   "source": [
    "df.sample()"
   ]
  },
  {
   "cell_type": "markdown",
   "id": "3ea4ed70",
   "metadata": {},
   "source": [
    "Sample function shows random row of the baseball dataset"
   ]
  },
  {
   "cell_type": "code",
   "execution_count": null,
   "id": "a422a745",
   "metadata": {},
   "outputs": [],
   "source": [
    "df.head()"
   ]
  },
  {
   "cell_type": "markdown",
   "id": "ede6813e",
   "metadata": {},
   "source": [
    "Head function shows the 1st 5 rows of baseball dataset"
   ]
  },
  {
   "cell_type": "code",
   "execution_count": null,
   "id": "49842373",
   "metadata": {},
   "outputs": [],
   "source": [
    "df.tail()"
   ]
  },
  {
   "cell_type": "markdown",
   "id": "665ea632",
   "metadata": {},
   "source": [
    "Tail function shows last 5 rows of baseball dataset"
   ]
  },
  {
   "cell_type": "markdown",
   "id": "89c449f2",
   "metadata": {},
   "source": [
    "Statistical Summary"
   ]
  },
  {
   "cell_type": "code",
   "execution_count": null,
   "id": "7971d97b",
   "metadata": {},
   "outputs": [],
   "source": [
    "df.describe(include='all')"
   ]
  },
  {
   "cell_type": "markdown",
   "id": "fb589e49",
   "metadata": {},
   "source": [
    "There are less difference between the 1st and 2nd quartile, but huge difference between the 1st and \n",
    "3rd quartile"
   ]
  },
  {
   "cell_type": "code",
   "execution_count": null,
   "id": "8c49fede",
   "metadata": {},
   "outputs": [],
   "source": [
    "pd.set_option('display.max_columns',500)"
   ]
  },
  {
   "cell_type": "code",
   "execution_count": null,
   "id": "5fd453d2",
   "metadata": {},
   "outputs": [],
   "source": [
    "df.describe()"
   ]
  },
  {
   "cell_type": "markdown",
   "id": "eb08abb0",
   "metadata": {},
   "source": [
    "To display null values through heatmap"
   ]
  },
  {
   "cell_type": "code",
   "execution_count": null,
   "id": "50efbde4",
   "metadata": {},
   "outputs": [],
   "source": [
    "sns.heatmap(df.isnull())\n",
    "plt.title('Null Values')\n",
    "plt.show() "
   ]
  },
  {
   "cell_type": "markdown",
   "id": "697f32c8",
   "metadata": {},
   "source": [
    "Heatmap clearly depicts Null values is  not presented. Lets see another example"
   ]
  },
  {
   "cell_type": "code",
   "execution_count": null,
   "id": "8709e6a0",
   "metadata": {},
   "outputs": [],
   "source": [
    "df.isnull().sum().sum()"
   ]
  },
  {
   "cell_type": "code",
   "execution_count": null,
   "id": "744dd166",
   "metadata": {},
   "outputs": [],
   "source": [
    "df.info()"
   ]
  },
  {
   "cell_type": "markdown",
   "id": "1ff8c363",
   "metadata": {},
   "source": [
    "So we shall conclude that our dataset is free from null values"
   ]
  },
  {
   "cell_type": "markdown",
   "id": "2baf9fd1",
   "metadata": {},
   "source": [
    "Plot the Histogram of target/independent variable (so2) to see distribution"
   ]
  },
  {
   "cell_type": "code",
   "execution_count": null,
   "id": "4dd54b8e",
   "metadata": {},
   "outputs": [],
   "source": [
    "plt.figure(figsize=(10,5))\n",
    "df['W'].plot.hist()"
   ]
  },
  {
   "cell_type": "code",
   "execution_count": null,
   "id": "e408f146",
   "metadata": {},
   "outputs": [],
   "source": [
    "df['W'].value_counts()"
   ]
  },
  {
   "cell_type": "markdown",
   "id": "5858bae3",
   "metadata": {},
   "source": [
    "There is no sign of imbalance "
   ]
  },
  {
   "cell_type": "markdown",
   "id": "bc63f081",
   "metadata": {},
   "source": [
    "Checking Correlation"
   ]
  },
  {
   "cell_type": "code",
   "execution_count": null,
   "id": "23ebf658",
   "metadata": {},
   "outputs": [],
   "source": [
    "df.corr()"
   ]
  },
  {
   "cell_type": "code",
   "execution_count": null,
   "id": "ba444826",
   "metadata": {},
   "outputs": [],
   "source": [
    "corr_mat=df.corr()\n",
    "#size of the canvas\n",
    "plt.figure(figsize=[80,80])\n",
    "# plot the correlation matrix\n",
    "sns.heatmap(corr_mat,annot=True)\n",
    "plt.title(\"Correlation Matrix\")\n",
    "plt.savefig('correlation_matrix.jpg')\n",
    "plt.show()"
   ]
  },
  {
   "cell_type": "markdown",
   "id": "ff9fcf5d",
   "metadata": {},
   "source": [
    "We are unable to identify the correlation in above heatmap due to huge number of columns.\n",
    "Lets print the correlation of independent variables with target variables in target form."
   ]
  },
  {
   "cell_type": "code",
   "execution_count": null,
   "id": "63d141c9",
   "metadata": {},
   "outputs": [],
   "source": [
    "corr_matrix=df.corr()\n",
    "corr_matrix"
   ]
  },
  {
   "cell_type": "code",
   "execution_count": null,
   "id": "f83a4326",
   "metadata": {},
   "outputs": [],
   "source": [
    "type(corr_matrix)"
   ]
  },
  {
   "cell_type": "code",
   "execution_count": null,
   "id": "23b751ae",
   "metadata": {},
   "outputs": [],
   "source": [
    "corr_matrix=df.corr()\n",
    "corr_matrix['W'].sort_values(ascending=False)"
   ]
  },
  {
   "cell_type": "markdown",
   "id": "a6c1622e",
   "metadata": {},
   "source": [
    "Now from the correlation values we can clearly say that highest positive correlation is for the column\n",
    "sv which is save column and lowest positive correlation is for the columns CG and,\n",
    "lowest negative correlation is for column AB and highest negative correlation is for column ERA"
   ]
  },
  {
   "cell_type": "markdown",
   "id": "acc57d46",
   "metadata": {},
   "source": [
    "# Lets check the data distribution among the columns"
   ]
  },
  {
   "cell_type": "code",
   "execution_count": null,
   "id": "b0a02abf",
   "metadata": {},
   "outputs": [],
   "source": [
    "df.plot(kind='density',subplots=True,layout=(6,11),sharex=False,legend=False,fontsize=1,figsize=(18,12))"
   ]
  },
  {
   "cell_type": "markdown",
   "id": "1c1f060a",
   "metadata": {},
   "source": [
    "We can see skewness in few columns.Therefore we can handle skewness in further steps"
   ]
  },
  {
   "cell_type": "markdown",
   "id": "49d02379",
   "metadata": {},
   "source": [
    "Splitting the independent and dependent variables in x and y before removing the skewness"
   ]
  },
  {
   "cell_type": "code",
   "execution_count": null,
   "id": "b8b76431",
   "metadata": {},
   "outputs": [],
   "source": [
    "x=df.drop('W',axis=1)\n",
    "y=df['W']"
   ]
  },
  {
   "cell_type": "code",
   "execution_count": null,
   "id": "96e6659e",
   "metadata": {},
   "outputs": [],
   "source": [
    "x"
   ]
  },
  {
   "cell_type": "code",
   "execution_count": null,
   "id": "fac7c2b7",
   "metadata": {},
   "outputs": [],
   "source": [
    "y"
   ]
  },
  {
   "cell_type": "code",
   "execution_count": null,
   "id": "e55ba9a3",
   "metadata": {},
   "outputs": [],
   "source": [
    "# Checking skewness \n",
    "x.skew().sort_values(ascending=False)"
   ]
  },
  {
   "cell_type": "code",
   "execution_count": null,
   "id": "57d9478b",
   "metadata": {},
   "outputs": [],
   "source": [
    "sns.distplot(df['R'])"
   ]
  },
  {
   "cell_type": "code",
   "execution_count": null,
   "id": "53fca01f",
   "metadata": {},
   "outputs": [],
   "source": [
    "sns.distplot(df['H'])"
   ]
  },
  {
   "cell_type": "code",
   "execution_count": null,
   "id": "c41543c2",
   "metadata": {},
   "outputs": [],
   "source": [
    "sns.distplot(df['HR'])"
   ]
  },
  {
   "cell_type": "code",
   "execution_count": null,
   "id": "26b12c26",
   "metadata": {},
   "outputs": [],
   "source": [
    "sns.distplot(df['CG'])"
   ]
  },
  {
   "cell_type": "code",
   "execution_count": null,
   "id": "10c086d3",
   "metadata": {},
   "outputs": [],
   "source": [
    "sns.distplot(df['E'])"
   ]
  },
  {
   "cell_type": "markdown",
   "id": "8542da30",
   "metadata": {},
   "source": [
    "We can see highest skewness is for the column R has 1.20.. and followed by 0.89, 0.73, 0.67 and so on\n",
    "by the column E, CG, H..."
   ]
  },
  {
   "cell_type": "markdown",
   "id": "b272d3a9",
   "metadata": {},
   "source": [
    "We can remove skewness using the power transform methos of 'Yeo-johnson' method "
   ]
  },
  {
   "cell_type": "code",
   "execution_count": null,
   "id": "39493a81",
   "metadata": {},
   "outputs": [],
   "source": [
    "from sklearn.preprocessing import power_transform\n",
    "x_new=power_transform(x,method='yeo-johnson')"
   ]
  },
  {
   "cell_type": "code",
   "execution_count": null,
   "id": "f24518d9",
   "metadata": {},
   "outputs": [],
   "source": [
    "# Checking skewness\n",
    "pd.DataFrame(x_new).skew().sort_values(ascending=False)"
   ]
  },
  {
   "cell_type": "code",
   "execution_count": null,
   "id": "64971feb",
   "metadata": {},
   "outputs": [],
   "source": [
    "type(x_new)"
   ]
  },
  {
   "cell_type": "code",
   "execution_count": null,
   "id": "b29409a1",
   "metadata": {},
   "outputs": [],
   "source": [
    "x.columns"
   ]
  },
  {
   "cell_type": "code",
   "execution_count": null,
   "id": "e809d3f0",
   "metadata": {},
   "outputs": [],
   "source": [
    "x=pd.DataFrame(x_new,columns=x.columns)"
   ]
  },
  {
   "cell_type": "code",
   "execution_count": null,
   "id": "185fb2d4",
   "metadata": {},
   "outputs": [],
   "source": [
    "x"
   ]
  },
  {
   "cell_type": "code",
   "execution_count": null,
   "id": "57a2fb30",
   "metadata": {},
   "outputs": [],
   "source": [
    "x.skew().sort_values(ascending=False) # Validating that skewness has been removed or not"
   ]
  },
  {
   "cell_type": "code",
   "execution_count": null,
   "id": "8663dc17",
   "metadata": {},
   "outputs": [],
   "source": [
    "sk=x.skew()"
   ]
  },
  {
   "cell_type": "code",
   "execution_count": null,
   "id": "a2e50972",
   "metadata": {},
   "outputs": [],
   "source": [
    "sk"
   ]
  },
  {
   "cell_type": "code",
   "execution_count": null,
   "id": "6477a4f8",
   "metadata": {},
   "outputs": [],
   "source": [
    "sk[np.abs(sk)>0.5].all()"
   ]
  },
  {
   "cell_type": "code",
   "execution_count": null,
   "id": "423cffe9",
   "metadata": {},
   "outputs": [],
   "source": [
    "sk[np.abs(sk)>0.5]"
   ]
  },
  {
   "cell_type": "code",
   "execution_count": null,
   "id": "461eb21c",
   "metadata": {},
   "outputs": [],
   "source": [
    "x.skew()[np.abs(x.skew())<0.25]"
   ]
  },
  {
   "cell_type": "code",
   "execution_count": null,
   "id": "58da31a9",
   "metadata": {},
   "outputs": [],
   "source": [
    "x.skew()[np.abs(x.skew())<0.25].all()"
   ]
  },
  {
   "cell_type": "markdown",
   "id": "9560ff01",
   "metadata": {},
   "source": [
    "Skewness has been removed, now we can proceed with further steps"
   ]
  },
  {
   "cell_type": "markdown",
   "id": "6bd98f87",
   "metadata": {},
   "source": [
    "# Checking Outliers"
   ]
  },
  {
   "cell_type": "code",
   "execution_count": null,
   "id": "6166559c",
   "metadata": {},
   "outputs": [],
   "source": [
    "# Plotting Boxplot for 1st 9 columns\n",
    "x.iloc[:,0:9].boxplot(figsize=[20,8])\n",
    "plt.subplots_adjust(bottom=0.01)\n",
    "plt.show()"
   ]
  },
  {
   "cell_type": "code",
   "execution_count": null,
   "id": "85c0751d",
   "metadata": {},
   "outputs": [],
   "source": [
    "# Plotting Boxplot for 2nd 9 columns\n",
    "x.iloc[:,9:].boxplot(figsize=[20,8])\n",
    "plt.subplots_adjust(bottom=0.01)\n",
    "plt.show()"
   ]
  },
  {
   "cell_type": "markdown",
   "id": "f75eef63",
   "metadata": {},
   "source": [
    "We can see 1 or 2 values of total 2 columns but those are near to whiskers ."
   ]
  },
  {
   "cell_type": "markdown",
   "id": "191362e8",
   "metadata": {},
   "source": [
    "# Removing the outliers"
   ]
  },
  {
   "cell_type": "markdown",
   "id": "e647b581",
   "metadata": {},
   "source": [
    "1. Lets find the Boundary Values"
   ]
  },
  {
   "cell_type": "code",
   "execution_count": null,
   "id": "b517cace",
   "metadata": {},
   "outputs": [],
   "source": [
    "print('Highest allowed',df['SHO'].mean()+3*df['SHO'].std())\n",
    "print('Lowest allowed',df['SHO'].mean()-3*df['SHO'].std())"
   ]
  },
  {
   "cell_type": "markdown",
   "id": "7f53286f",
   "metadata": {},
   "source": [
    "2. Finding Outliers"
   ]
  },
  {
   "cell_type": "code",
   "execution_count": null,
   "id": "bb185261",
   "metadata": {},
   "outputs": [],
   "source": [
    "df[(df['SHO']>23.660) | (df['SHO']<-1.060)]"
   ]
  },
  {
   "cell_type": "markdown",
   "id": "6a21bf2f",
   "metadata": {},
   "source": [
    "3. Trimming the outliers"
   ]
  },
  {
   "cell_type": "code",
   "execution_count": null,
   "id": "0923bdcb",
   "metadata": {},
   "outputs": [],
   "source": [
    "new_df=df[(df['SHO']<23.660)&(df['SHO']>-1.060)]\n",
    "new_df"
   ]
  },
  {
   "cell_type": "markdown",
   "id": "f54d941c",
   "metadata": {},
   "source": [
    "4. Capping on outliers"
   ]
  },
  {
   "cell_type": "code",
   "execution_count": null,
   "id": "9dbfd90b",
   "metadata": {},
   "outputs": [],
   "source": [
    "upper_limit=df['SHO'].mean()+3*df['SHO'].std()\n",
    "lower_limit=df['SHO'].mean()-3*df['SHO'].std()"
   ]
  },
  {
   "cell_type": "markdown",
   "id": "b581ca8a",
   "metadata": {},
   "source": [
    "5. Now apply the capping"
   ]
  },
  {
   "cell_type": "code",
   "execution_count": null,
   "id": "8046700e",
   "metadata": {},
   "outputs": [],
   "source": [
    "df['SHO'] = np.where(\n",
    "    df['SHO']>upper_limit,\n",
    "    upper_limit,\n",
    "    np.where(\n",
    "        df['SHO']<lower_limit,\n",
    "        lower_limit,\n",
    "        df['SHO']\n",
    "    )\n",
    ")"
   ]
  },
  {
   "cell_type": "markdown",
   "id": "01322931",
   "metadata": {},
   "source": [
    "6. Now see the statistics using describe function"
   ]
  },
  {
   "cell_type": "code",
   "execution_count": null,
   "id": "71c7add6",
   "metadata": {},
   "outputs": [],
   "source": [
    "df['SHO'].describe()"
   ]
  },
  {
   "cell_type": "markdown",
   "id": "e7851172",
   "metadata": {},
   "source": [
    "1. Finding the Boundary values"
   ]
  },
  {
   "cell_type": "code",
   "execution_count": null,
   "id": "7d261097",
   "metadata": {},
   "outputs": [],
   "source": [
    "print('Highest allowed',df['E'].mean()+3*df['E'].std())\n",
    "print('Lowest allowed',df['E'].mean()-3*df['E'].std())"
   ]
  },
  {
   "cell_type": "markdown",
   "id": "b616721d",
   "metadata": {},
   "source": [
    "2. Finding the outliers"
   ]
  },
  {
   "cell_type": "code",
   "execution_count": null,
   "id": "3ba67f98",
   "metadata": {},
   "outputs": [],
   "source": [
    "df[(df['E']>136.209) | (df['E']<52.456)]"
   ]
  },
  {
   "cell_type": "markdown",
   "id": "467871d5",
   "metadata": {},
   "source": [
    "3. Trimming the outliers"
   ]
  },
  {
   "cell_type": "code",
   "execution_count": null,
   "id": "299065ff",
   "metadata": {},
   "outputs": [],
   "source": [
    "new_df=df[(df['E']<136.209)&(df['E']>52.456)]\n",
    "new_df"
   ]
  },
  {
   "cell_type": "markdown",
   "id": "a83f1c14",
   "metadata": {},
   "source": [
    "4. Capping the outliers"
   ]
  },
  {
   "cell_type": "code",
   "execution_count": null,
   "id": "ca66b5c4",
   "metadata": {},
   "outputs": [],
   "source": [
    "upper_limit=df['E'].mean()+3*df['E'].std()\n",
    "lower_limit=df['E'].mean()-3*df['E'].std()"
   ]
  },
  {
   "cell_type": "markdown",
   "id": "1d8a9419",
   "metadata": {},
   "source": [
    "5. Now apply the capping "
   ]
  },
  {
   "cell_type": "code",
   "execution_count": null,
   "id": "686b6539",
   "metadata": {},
   "outputs": [],
   "source": [
    "df['E'] = np.where(\n",
    "    df['E']>upper_limit,\n",
    "    upper_limit,\n",
    "    np.where(\n",
    "        df['E']<lower_limit,\n",
    "        lower_limit,\n",
    "        df['E']\n",
    "    )\n",
    ")"
   ]
  },
  {
   "cell_type": "markdown",
   "id": "76e711f5",
   "metadata": {},
   "source": [
    "6. Now see the statistics using the function"
   ]
  },
  {
   "cell_type": "code",
   "execution_count": null,
   "id": "24756ac4",
   "metadata": {},
   "outputs": [],
   "source": [
    "df['E'].describe()"
   ]
  },
  {
   "cell_type": "markdown",
   "id": "f5955b83",
   "metadata": {},
   "source": [
    "# Let's Quantify"
   ]
  },
  {
   "cell_type": "code",
   "execution_count": null,
   "id": "3b79c8b4",
   "metadata": {},
   "outputs": [],
   "source": [
    "from scipy.stats import zscore\n",
    "(np.abs(zscore(x))<3).all()"
   ]
  },
  {
   "cell_type": "markdown",
   "id": "457e9554",
   "metadata": {},
   "source": [
    "Therefore column R, AB, H has outliers"
   ]
  },
  {
   "cell_type": "markdown",
   "id": "9cfb6dbd",
   "metadata": {},
   "source": [
    "1. Finding the Boundary values"
   ]
  },
  {
   "cell_type": "code",
   "execution_count": null,
   "id": "91259f7c",
   "metadata": {},
   "outputs": [],
   "source": [
    "print('Highest allowed',df['R'].mean()+3*df['R'].std())\n",
    "print('Lowest allowed',df['R'].mean()-3*df['R'].std())"
   ]
  },
  {
   "cell_type": "markdown",
   "id": "e33fc237",
   "metadata": {},
   "source": [
    "2. Finding the Outliers"
   ]
  },
  {
   "cell_type": "code",
   "execution_count": null,
   "id": "d5c801a6",
   "metadata": {},
   "outputs": [],
   "source": [
    "df[(df['R']>864.518) | (df['R']<511.948)]"
   ]
  },
  {
   "cell_type": "markdown",
   "id": "760cb5d9",
   "metadata": {},
   "source": [
    "3. Trimming of outliers"
   ]
  },
  {
   "cell_type": "code",
   "execution_count": null,
   "id": "c1e6e005",
   "metadata": {},
   "outputs": [],
   "source": [
    "new_df=df[(df['R']<864.518)&(df['R']>511.948)]\n",
    "new_df"
   ]
  },
  {
   "cell_type": "markdown",
   "id": "2f82087e",
   "metadata": {},
   "source": [
    "4. Capping of outliers"
   ]
  },
  {
   "cell_type": "code",
   "execution_count": null,
   "id": "d4f88de3",
   "metadata": {},
   "outputs": [],
   "source": [
    "upper_limit=df['R'].mean()+3*df['R'].std()\n",
    "lower_limit=df['R'].mean()-3*df['R'].std()"
   ]
  },
  {
   "cell_type": "markdown",
   "id": "958acf22",
   "metadata": {},
   "source": [
    "5. Now apply the capping"
   ]
  },
  {
   "cell_type": "code",
   "execution_count": null,
   "id": "4e323b2e",
   "metadata": {},
   "outputs": [],
   "source": [
    "df['R'] = np.where(\n",
    "    df['R']>upper_limit,\n",
    "    upper_limit,\n",
    "    np.where(\n",
    "        df['R']<lower_limit,\n",
    "        lower_limit,\n",
    "        df['R']\n",
    "    )\n",
    ")"
   ]
  },
  {
   "cell_type": "markdown",
   "id": "c1b36cd2",
   "metadata": {},
   "source": [
    "6. Now see the statistics using describe function"
   ]
  },
  {
   "cell_type": "code",
   "execution_count": null,
   "id": "36306c25",
   "metadata": {},
   "outputs": [],
   "source": [
    "df['R'].describe()"
   ]
  },
  {
   "cell_type": "markdown",
   "id": "697ea50b",
   "metadata": {},
   "source": [
    "1. Finding the boundary values"
   ]
  },
  {
   "cell_type": "code",
   "execution_count": null,
   "id": "b79c499a",
   "metadata": {},
   "outputs": [],
   "source": [
    "print('Highest allowed',df['AB'].mean()+3*df['AB'].std())\n",
    "print('Lowest allowed',df['AB'].mean()-3*df['AB'].std())"
   ]
  },
  {
   "cell_type": "markdown",
   "id": "ccee7e12",
   "metadata": {},
   "source": [
    "2. Finding the outliers"
   ]
  },
  {
   "cell_type": "code",
   "execution_count": null,
   "id": "8999c069",
   "metadata": {},
   "outputs": [],
   "source": [
    "df[(df['AB']>5727.668) | (df['AB']<5304.864)]"
   ]
  },
  {
   "cell_type": "markdown",
   "id": "a5875387",
   "metadata": {},
   "source": [
    "3. Trimming of outliers"
   ]
  },
  {
   "cell_type": "code",
   "execution_count": null,
   "id": "51492a87",
   "metadata": {},
   "outputs": [],
   "source": [
    "new_df=df[(df['AB']<5727.668)&(df['AB']>5304.864)]\n",
    "new_df"
   ]
  },
  {
   "cell_type": "markdown",
   "id": "1dd8904e",
   "metadata": {},
   "source": [
    "4. Capping on outliers "
   ]
  },
  {
   "cell_type": "code",
   "execution_count": null,
   "id": "844986a3",
   "metadata": {},
   "outputs": [],
   "source": [
    "upper_limit=df['AB'].mean()+3*df['AB'].std()\n",
    "lower_limit=df['AB'].mean()-3*df['AB'].std()"
   ]
  },
  {
   "cell_type": "markdown",
   "id": "dacb7f1e",
   "metadata": {},
   "source": [
    "5. Now apply the capping"
   ]
  },
  {
   "cell_type": "code",
   "execution_count": null,
   "id": "fe6e5257",
   "metadata": {},
   "outputs": [],
   "source": [
    "df['AB'] = np.where(\n",
    "    df['AB']>upper_limit,\n",
    "    upper_limit,\n",
    "    np.where(\n",
    "        df['AB']<lower_limit,\n",
    "        lower_limit,\n",
    "        df['AB']\n",
    "    )\n",
    ")"
   ]
  },
  {
   "cell_type": "markdown",
   "id": "e8e303ed",
   "metadata": {},
   "source": [
    "6. Now see the Statistics using describe function"
   ]
  },
  {
   "cell_type": "code",
   "execution_count": null,
   "id": "0d018428",
   "metadata": {},
   "outputs": [],
   "source": [
    "df['AB'].describe()"
   ]
  },
  {
   "cell_type": "markdown",
   "id": "1406e14b",
   "metadata": {},
   "source": [
    "1. Finding the Boundary values"
   ]
  },
  {
   "cell_type": "code",
   "execution_count": null,
   "id": "c0bc572d",
   "metadata": {},
   "outputs": [],
   "source": [
    "print('Highest allowed',df['H'].mean()+3*df['H'].std())\n",
    "print('Lowest allowed',df['H'].mean()-3*df['H'].std())"
   ]
  },
  {
   "cell_type": "markdown",
   "id": "349d6e34",
   "metadata": {},
   "source": [
    "2. finding the outliers"
   ]
  },
  {
   "cell_type": "code",
   "execution_count": null,
   "id": "baf721fa",
   "metadata": {},
   "outputs": [],
   "source": [
    "df[(df['H']>1574.956) | (df['H']<1232.110)]"
   ]
  },
  {
   "cell_type": "markdown",
   "id": "e330437e",
   "metadata": {},
   "source": [
    "3. Trimming of outliers"
   ]
  },
  {
   "cell_type": "code",
   "execution_count": null,
   "id": "9bf9eac9",
   "metadata": {},
   "outputs": [],
   "source": [
    "new_df=df[(df['H']<1574.956)&(df['H']>1232.110)]\n",
    "new_df"
   ]
  },
  {
   "cell_type": "markdown",
   "id": "73f8056e",
   "metadata": {},
   "source": [
    "4. Capping on outliers"
   ]
  },
  {
   "cell_type": "code",
   "execution_count": null,
   "id": "80a226c5",
   "metadata": {},
   "outputs": [],
   "source": [
    "upper_limit=df['H'].mean()+3*df['H'].std()\n",
    "lower_limit=df['H'].mean()-3*df['H'].std()"
   ]
  },
  {
   "cell_type": "markdown",
   "id": "a6db3204",
   "metadata": {},
   "source": [
    "5. Now apply the capping"
   ]
  },
  {
   "cell_type": "code",
   "execution_count": null,
   "id": "cfc3b3cb",
   "metadata": {},
   "outputs": [],
   "source": [
    "df['H'] = np.where(\n",
    "    df['H']>upper_limit,\n",
    "    upper_limit,\n",
    "    np.where(\n",
    "        df['H']<lower_limit,\n",
    "        lower_limit,\n",
    "        df['H']\n",
    "    )\n",
    ")"
   ]
  },
  {
   "cell_type": "markdown",
   "id": "673c2f91",
   "metadata": {},
   "source": [
    "6. Now see the statistics using describe function"
   ]
  },
  {
   "cell_type": "code",
   "execution_count": null,
   "id": "b1dc4659",
   "metadata": {},
   "outputs": [],
   "source": [
    "df['H'].describe()"
   ]
  },
  {
   "cell_type": "markdown",
   "id": "2fa9304f",
   "metadata": {},
   "source": [
    "LET'S Quantify"
   ]
  },
  {
   "cell_type": "code",
   "execution_count": null,
   "id": "c6107cf2",
   "metadata": {},
   "outputs": [],
   "source": [
    "from scipy.stats import zscore\n",
    "(np.abs(zscore(x))<3).all()"
   ]
  },
  {
   "cell_type": "code",
   "execution_count": null,
   "id": "ab03c9fd",
   "metadata": {},
   "outputs": [],
   "source": [
    "np.abs(x)"
   ]
  },
  {
   "cell_type": "code",
   "execution_count": null,
   "id": "b6e93364",
   "metadata": {},
   "outputs": [],
   "source": [
    "(np.abs(zscore(x))<3).all()"
   ]
  },
  {
   "cell_type": "markdown",
   "id": "edc39dc8",
   "metadata": {},
   "source": [
    "Scatter plots"
   ]
  },
  {
   "cell_type": "code",
   "execution_count": null,
   "id": "cd9af5b8",
   "metadata": {},
   "outputs": [],
   "source": [
    "plt.scatter(df['R'],df['W'])\n",
    "plt.xlabel('R')\n",
    "plt.ylabel('W')\n",
    "plt.show()"
   ]
  },
  {
   "cell_type": "code",
   "execution_count": null,
   "id": "0ee19088",
   "metadata": {},
   "outputs": [],
   "source": [
    "plt.scatter(df['AB'],df['W'])\n",
    "plt.xlabel('AB')\n",
    "plt.ylabel('W')\n",
    "plt.show()"
   ]
  },
  {
   "cell_type": "code",
   "execution_count": null,
   "id": "d45adb73",
   "metadata": {},
   "outputs": [],
   "source": [
    "plt.scatter(df['H'],df['W'])\n",
    "plt.xlabel('H')\n",
    "plt.ylabel('W')\n",
    "plt.show()"
   ]
  },
  {
   "cell_type": "code",
   "execution_count": null,
   "id": "9376e5a5",
   "metadata": {},
   "outputs": [],
   "source": [
    "plt.scatter(df['2B'],df['W'])\n",
    "plt.xlabel('2B')\n",
    "plt.ylabel('W')\n",
    "plt.show()"
   ]
  },
  {
   "cell_type": "code",
   "execution_count": null,
   "id": "925d3775",
   "metadata": {},
   "outputs": [],
   "source": [
    "plt.scatter(df['3B'],df['W'])\n",
    "plt.xlabel('3B')\n",
    "plt.ylabel('W')\n",
    "plt.show()"
   ]
  },
  {
   "cell_type": "code",
   "execution_count": null,
   "id": "089a08a0",
   "metadata": {},
   "outputs": [],
   "source": [
    "plt.scatter(df['HR'],df['W'])\n",
    "plt.xlabel('HR')\n",
    "plt.ylabel('W')\n",
    "plt.show()"
   ]
  },
  {
   "cell_type": "code",
   "execution_count": null,
   "id": "52adb97d",
   "metadata": {},
   "outputs": [],
   "source": [
    "plt.scatter(df['BB'],df['W'])\n",
    "plt.xlabel('BB')\n",
    "plt.ylabel('W')\n",
    "plt.show()"
   ]
  },
  {
   "cell_type": "code",
   "execution_count": null,
   "id": "2189edaa",
   "metadata": {},
   "outputs": [],
   "source": [
    "plt.scatter(df['SO'],df['W'])\n",
    "plt.xlabel('SO')\n",
    "plt.ylabel('W')\n",
    "plt.show()"
   ]
  },
  {
   "cell_type": "code",
   "execution_count": null,
   "id": "0bf83200",
   "metadata": {},
   "outputs": [],
   "source": [
    "plt.scatter(df['SB'],df['W'])\n",
    "plt.xlabel('SB')\n",
    "plt.ylabel('W')\n",
    "plt.show()"
   ]
  },
  {
   "cell_type": "code",
   "execution_count": null,
   "id": "ec88c5b6",
   "metadata": {},
   "outputs": [],
   "source": [
    "plt.scatter(df['RA'],df['W'])\n",
    "plt.xlabel('RA')\n",
    "plt.ylabel('W')\n",
    "plt.show()"
   ]
  },
  {
   "cell_type": "code",
   "execution_count": null,
   "id": "80673496",
   "metadata": {},
   "outputs": [],
   "source": [
    "plt.scatter(df['ER'],df['W'])\n",
    "plt.xlabel('ER')\n",
    "plt.ylabel('W')\n",
    "plt.show()"
   ]
  },
  {
   "cell_type": "code",
   "execution_count": null,
   "id": "b23150dc",
   "metadata": {},
   "outputs": [],
   "source": [
    "plt.scatter(df['ERA'],df['W'])\n",
    "plt.xlabel('ERA')\n",
    "plt.ylabel('W')\n",
    "plt.show()"
   ]
  },
  {
   "cell_type": "code",
   "execution_count": null,
   "id": "350ca88c",
   "metadata": {},
   "outputs": [],
   "source": [
    "plt.scatter(df['CG'],df['W'])\n",
    "plt.xlabel('CG')\n",
    "plt.ylabel('W')\n",
    "plt.show()"
   ]
  },
  {
   "cell_type": "code",
   "execution_count": null,
   "id": "377cbc96",
   "metadata": {},
   "outputs": [],
   "source": [
    "plt.scatter(df['SHO'],df['W'])\n",
    "plt.xlabel('SHO')\n",
    "plt.ylabel('W')\n",
    "plt.show()"
   ]
  },
  {
   "cell_type": "code",
   "execution_count": null,
   "id": "51a29c57",
   "metadata": {},
   "outputs": [],
   "source": [
    "plt.scatter(df['SV'],df['W'])\n",
    "plt.xlabel('SV')\n",
    "plt.ylabel('W')\n",
    "plt.show()"
   ]
  },
  {
   "cell_type": "code",
   "execution_count": null,
   "id": "8a178b51",
   "metadata": {},
   "outputs": [],
   "source": [
    "plt.scatter(df['E'],df['W'])\n",
    "plt.xlabel('E')\n",
    "plt.ylabel('W')\n",
    "plt.show()"
   ]
  },
  {
   "cell_type": "markdown",
   "id": "f8a11b18",
   "metadata": {},
   "source": [
    "Regression Plots"
   ]
  },
  {
   "cell_type": "code",
   "execution_count": null,
   "id": "0f3e7cdd",
   "metadata": {},
   "outputs": [],
   "source": [
    "sns.regplot(x='R',y='W',data=df)\n",
    "plt.ylim(60,105)"
   ]
  },
  {
   "cell_type": "code",
   "execution_count": null,
   "id": "eb5b7395",
   "metadata": {},
   "outputs": [],
   "source": [
    "sns.regplot(x='AB',y='W',data=df)\n",
    "plt.ylim(60,105)"
   ]
  },
  {
   "cell_type": "code",
   "execution_count": null,
   "id": "c4e16c4d",
   "metadata": {},
   "outputs": [],
   "source": [
    "sns.regplot(x='H',y='W',data=df)\n",
    "plt.ylim(55,)\n",
    "plt.xlim(1300,)"
   ]
  },
  {
   "cell_type": "code",
   "execution_count": null,
   "id": "8393e27d",
   "metadata": {},
   "outputs": [],
   "source": [
    "sns.regplot(x='2B',y='W',data=df)\n",
    "plt.ylim(55,105)"
   ]
  },
  {
   "cell_type": "code",
   "execution_count": null,
   "id": "b8e5e5dc",
   "metadata": {},
   "outputs": [],
   "source": [
    "sns.regplot(x='3B',y='W',data=df)\n",
    "plt.ylim(60,)"
   ]
  },
  {
   "cell_type": "code",
   "execution_count": null,
   "id": "ebe87397",
   "metadata": {},
   "outputs": [],
   "source": [
    "sns.regplot(x='HR',y='W',data=df)\n",
    "plt.ylim(1,)"
   ]
  },
  {
   "cell_type": "code",
   "execution_count": null,
   "id": "288cdf90",
   "metadata": {},
   "outputs": [],
   "source": [
    "sns.regplot(x='BB',y='W',data=df)\n",
    "plt.ylim(60,105)"
   ]
  },
  {
   "cell_type": "code",
   "execution_count": null,
   "id": "ee2f9836",
   "metadata": {},
   "outputs": [],
   "source": [
    "sns.regplot(x='SO',y='W',data=df)\n",
    "plt.ylim(60,105)"
   ]
  },
  {
   "cell_type": "code",
   "execution_count": null,
   "id": "17ce837d",
   "metadata": {},
   "outputs": [],
   "source": [
    "sns.regplot(x='SB',y='W',data=df)\n",
    "plt.ylim(55,105)"
   ]
  },
  {
   "cell_type": "code",
   "execution_count": null,
   "id": "3376daa4",
   "metadata": {},
   "outputs": [],
   "source": [
    "sns.regplot(x='RA',y='W',data=df)\n",
    "plt.ylim(55,105)"
   ]
  },
  {
   "cell_type": "code",
   "execution_count": null,
   "id": "61efa1d6",
   "metadata": {},
   "outputs": [],
   "source": [
    "sns.regplot(x='ER',y='W',data=df)\n",
    "plt.ylim(60,100)"
   ]
  },
  {
   "cell_type": "code",
   "execution_count": null,
   "id": "30607863",
   "metadata": {},
   "outputs": [],
   "source": [
    "sns.regplot(x='ERA',y='W',data=df)\n",
    "plt.ylim(55,105)"
   ]
  },
  {
   "cell_type": "code",
   "execution_count": null,
   "id": "a2fa5a14",
   "metadata": {},
   "outputs": [],
   "source": [
    "sns.regplot(x='CG',y='W',data=df)\n",
    "plt.ylim(60,100)"
   ]
  },
  {
   "cell_type": "code",
   "execution_count": null,
   "id": "fdfe77ba",
   "metadata": {},
   "outputs": [],
   "source": [
    "sns.regplot(x='SHO',y='W',data=df)\n",
    "plt.ylim(55,100)"
   ]
  },
  {
   "cell_type": "code",
   "execution_count": null,
   "id": "b6da9387",
   "metadata": {},
   "outputs": [],
   "source": [
    "sns.regplot(x='SV',y='W',data=df)\n",
    "plt.ylim(60,100)"
   ]
  },
  {
   "cell_type": "code",
   "execution_count": null,
   "id": "b5751c6c",
   "metadata": {},
   "outputs": [],
   "source": [
    "sns.regplot(x='E',y='W',data=df)\n",
    "plt.ylim(60,110)\n",
    "plt.xlim(70,125)"
   ]
  },
  {
   "cell_type": "markdown",
   "id": "02383db1",
   "metadata": {},
   "source": [
    "Column R, 2B, HR, BB, SO, SHO, SV Shows Positive Correlation and \n",
    "Column RA, ERA, ER shows negative correlation."
   ]
  },
  {
   "cell_type": "code",
   "execution_count": null,
   "id": "013b22be",
   "metadata": {},
   "outputs": [],
   "source": [
    "df.hist(grid=False,figsize=(10,6),bins=30)"
   ]
  },
  {
   "cell_type": "code",
   "execution_count": null,
   "id": "792400d5",
   "metadata": {},
   "outputs": [],
   "source": [
    "df"
   ]
  },
  {
   "cell_type": "code",
   "execution_count": null,
   "id": "8be36185",
   "metadata": {},
   "outputs": [],
   "source": [
    "df.shape"
   ]
  },
  {
   "cell_type": "markdown",
   "id": "2b0990fe",
   "metadata": {},
   "source": [
    "# Splitting the Independent and dependent variable"
   ]
  },
  {
   "cell_type": "code",
   "execution_count": null,
   "id": "80e8d348",
   "metadata": {},
   "outputs": [],
   "source": [
    "x=df.drop('W',axis=1)"
   ]
  },
  {
   "cell_type": "code",
   "execution_count": null,
   "id": "d19f331d",
   "metadata": {},
   "outputs": [],
   "source": [
    "y=df['W']"
   ]
  },
  {
   "cell_type": "code",
   "execution_count": null,
   "id": "8fb862fd",
   "metadata": {},
   "outputs": [],
   "source": [
    "x.shape"
   ]
  },
  {
   "cell_type": "code",
   "execution_count": null,
   "id": "c173c0a5",
   "metadata": {},
   "outputs": [],
   "source": [
    "y.shape"
   ]
  },
  {
   "cell_type": "markdown",
   "id": "1b01069d",
   "metadata": {},
   "source": [
    "Training process began"
   ]
  },
  {
   "cell_type": "code",
   "execution_count": null,
   "id": "cdd4726f",
   "metadata": {},
   "outputs": [],
   "source": [
    "from sklearn.model_selection import train_test_split\n",
    "from sklearn.preprocessing import StandardScaler\n",
    "from sklearn.linear_model import LinearRegression\n",
    "from sklearn.metrics import r2_score,mean_squared_error,mean_absolute_error"
   ]
  },
  {
   "cell_type": "markdown",
   "id": "625219e0",
   "metadata": {},
   "source": [
    "Creating Train_Test_split"
   ]
  },
  {
   "cell_type": "code",
   "execution_count": null,
   "id": "0824fd77",
   "metadata": {},
   "outputs": [],
   "source": [
    "x_train,x_test,y_train,y_test=train_test_split(x,y,test_size=0.20,random_state=1)"
   ]
  },
  {
   "cell_type": "code",
   "execution_count": null,
   "id": "5c8c1a74",
   "metadata": {},
   "outputs": [],
   "source": [
    "x_train"
   ]
  },
  {
   "cell_type": "code",
   "execution_count": null,
   "id": "e1e174ed",
   "metadata": {},
   "outputs": [],
   "source": [
    "x_test"
   ]
  },
  {
   "cell_type": "code",
   "execution_count": null,
   "id": "a782d469",
   "metadata": {},
   "outputs": [],
   "source": [
    "y_train"
   ]
  },
  {
   "cell_type": "code",
   "execution_count": null,
   "id": "2eb5850f",
   "metadata": {},
   "outputs": [],
   "source": [
    "y_test"
   ]
  },
  {
   "cell_type": "code",
   "execution_count": null,
   "id": "7cbdbf23",
   "metadata": {},
   "outputs": [],
   "source": [
    "x_train.shape"
   ]
  },
  {
   "cell_type": "code",
   "execution_count": null,
   "id": "03217201",
   "metadata": {},
   "outputs": [],
   "source": [
    "y_train.shape"
   ]
  },
  {
   "cell_type": "code",
   "execution_count": null,
   "id": "ca7fe6be",
   "metadata": {},
   "outputs": [],
   "source": [
    "x_test.shape"
   ]
  },
  {
   "cell_type": "code",
   "execution_count": null,
   "id": "317af90a",
   "metadata": {},
   "outputs": [],
   "source": [
    "y_test.shape"
   ]
  },
  {
   "cell_type": "markdown",
   "id": "3cdf9106",
   "metadata": {},
   "source": [
    "# Creating Model \n",
    "1. Linear Regressor model"
   ]
  },
  {
   "cell_type": "code",
   "execution_count": null,
   "id": "78518d40",
   "metadata": {},
   "outputs": [],
   "source": [
    "lr=LinearRegression()"
   ]
  },
  {
   "cell_type": "code",
   "execution_count": null,
   "id": "1f8fce36",
   "metadata": {},
   "outputs": [],
   "source": [
    "lr.fit(x_train,y_train)"
   ]
  },
  {
   "cell_type": "code",
   "execution_count": null,
   "id": "bdf7df83",
   "metadata": {},
   "outputs": [],
   "source": [
    "predlr=lr.predict(x_test)"
   ]
  },
  {
   "cell_type": "code",
   "execution_count": null,
   "id": "a88c3f3b",
   "metadata": {},
   "outputs": [],
   "source": [
    "coeff_df=pd.DataFrame(lr.coef_,x.columns,columns=['Coefficient'])\n",
    "coeff_df"
   ]
  },
  {
   "cell_type": "code",
   "execution_count": null,
   "id": "a414083a",
   "metadata": {},
   "outputs": [],
   "source": [
    "lr.intercept_"
   ]
  },
  {
   "cell_type": "markdown",
   "id": "592b84a3",
   "metadata": {},
   "source": [
    "We got that coefficient for every individual columns and also intercept"
   ]
  },
  {
   "cell_type": "code",
   "execution_count": null,
   "id": "e1500ff6",
   "metadata": {},
   "outputs": [],
   "source": [
    "y_pred=lr.predict(x_test)"
   ]
  },
  {
   "cell_type": "code",
   "execution_count": null,
   "id": "df2572c6",
   "metadata": {},
   "outputs": [],
   "source": [
    "com_df=pd.DataFrame({'Actual W ':y_test,'Predicted W ':y_pred})\n",
    "com_df"
   ]
  },
  {
   "cell_type": "code",
   "execution_count": null,
   "id": "4b228c50",
   "metadata": {},
   "outputs": [],
   "source": [
    "print('Error:')\n",
    "print('Mean Squared Error : ',mean_squared_error(y_test,y_pred))\n",
    "print('Mean Absolute Error : ',mean_absolute_error(y_test,y_pred))\n",
    "print('Root Mean Squared Error : ',np.sqrt(mean_squared_error(y_test,y_pred)))"
   ]
  },
  {
   "cell_type": "code",
   "execution_count": null,
   "id": "4bfc519d",
   "metadata": {},
   "outputs": [],
   "source": [
    "df.describe(include='all')"
   ]
  },
  {
   "cell_type": "markdown",
   "id": "e2ed6df9",
   "metadata": {},
   "source": [
    "Rmse value is 8.7459 which is lower than the mean of column W ie 80.97 therefore,\"Lower the Rmse\n",
    "better the given model is able to fit a dataset\"."
   ]
  },
  {
   "cell_type": "markdown",
   "id": "69d86244",
   "metadata": {},
   "source": [
    "Mean absolute error is 4.637 and we can certainly interpret that average difference between the \n",
    "predicted and actual wins therefore average difference is 4.637 and it is not so high"
   ]
  },
  {
   "cell_type": "code",
   "execution_count": null,
   "id": "808d729c",
   "metadata": {},
   "outputs": [],
   "source": [
    "print('Coefficient of Determination :',r2_score(y_test,y_pred))"
   ]
  },
  {
   "cell_type": "markdown",
   "id": "76b8258a",
   "metadata": {},
   "source": [
    "Random Forest Regressor"
   ]
  },
  {
   "cell_type": "code",
   "execution_count": null,
   "id": "20b45ba9",
   "metadata": {},
   "outputs": [],
   "source": [
    "from sklearn.ensemble import RandomForestRegressor\n",
    "rf=RandomForestRegressor()"
   ]
  },
  {
   "cell_type": "code",
   "execution_count": null,
   "id": "603e6051",
   "metadata": {},
   "outputs": [],
   "source": [
    "rf.fit(x_train,y_train)"
   ]
  },
  {
   "cell_type": "code",
   "execution_count": null,
   "id": "9d4693cc",
   "metadata": {},
   "outputs": [],
   "source": [
    "y_pred=rf.predict(x_test)\n",
    "y_pred"
   ]
  },
  {
   "cell_type": "code",
   "execution_count": null,
   "id": "e5ef4a01",
   "metadata": {},
   "outputs": [],
   "source": [
    "com_df2=pd.DataFrame({'Actual W ':y_test,'Predicted W ':y_pred})\n",
    "com_df2"
   ]
  },
  {
   "cell_type": "code",
   "execution_count": null,
   "id": "4fa0258a",
   "metadata": {},
   "outputs": [],
   "source": [
    "print('Mean Squared error :',mean_squared_error(y_test,y_pred))\n",
    "print('Root mean squared error :',np.sqrt(mean_squared_error(y_test,y_pred)))"
   ]
  },
  {
   "cell_type": "markdown",
   "id": "fe96baba",
   "metadata": {},
   "source": [
    "Decision tree regressor"
   ]
  },
  {
   "cell_type": "code",
   "execution_count": null,
   "id": "1dc1b60b",
   "metadata": {},
   "outputs": [],
   "source": [
    "from sklearn.tree import DecisionTreeRegressor"
   ]
  },
  {
   "cell_type": "code",
   "execution_count": null,
   "id": "c40f093b",
   "metadata": {},
   "outputs": [],
   "source": [
    "dt=DecisionTreeRegressor(max_depth=4,min_samples_leaf=0.2,random_state=1)"
   ]
  },
  {
   "cell_type": "code",
   "execution_count": null,
   "id": "bfba5396",
   "metadata": {},
   "outputs": [],
   "source": [
    "dt.fit(x_train,y_train)"
   ]
  },
  {
   "cell_type": "code",
   "execution_count": null,
   "id": "c9cf0445",
   "metadata": {},
   "outputs": [],
   "source": [
    "y_pred=dt.predict(x_test)"
   ]
  },
  {
   "cell_type": "code",
   "execution_count": null,
   "id": "3d916c41",
   "metadata": {},
   "outputs": [],
   "source": [
    "y_pred"
   ]
  },
  {
   "cell_type": "code",
   "execution_count": null,
   "id": "14ca2f1e",
   "metadata": {},
   "outputs": [],
   "source": [
    "com_df3=pd.DataFrame({'Actual W ':y_test,'Predicted W ':y_pred})\n",
    "com_df3"
   ]
  },
  {
   "cell_type": "code",
   "execution_count": null,
   "id": "3f368582",
   "metadata": {},
   "outputs": [],
   "source": [
    "print('Mean Squared Error :',mean_squared_error(y_test,y_pred))\n",
    "print('Root Mean Squared Error :',np.sqrt(mean_squared_error(y_test,y_pred)))"
   ]
  },
  {
   "cell_type": "markdown",
   "id": "604da97e",
   "metadata": {},
   "source": [
    "Support Vector Regressor"
   ]
  },
  {
   "cell_type": "code",
   "execution_count": null,
   "id": "0ce44e3d",
   "metadata": {},
   "outputs": [],
   "source": [
    "from sklearn.svm import SVR"
   ]
  },
  {
   "cell_type": "code",
   "execution_count": null,
   "id": "5aeae5fe",
   "metadata": {},
   "outputs": [],
   "source": [
    "sv_regressor=SVR()"
   ]
  },
  {
   "cell_type": "code",
   "execution_count": null,
   "id": "36ced250",
   "metadata": {},
   "outputs": [],
   "source": [
    "sv_regressor.fit(x_train,y_train)"
   ]
  },
  {
   "cell_type": "code",
   "execution_count": null,
   "id": "3f1899f0",
   "metadata": {},
   "outputs": [],
   "source": [
    "y_pred=sv_regressor.predict(x_test)"
   ]
  },
  {
   "cell_type": "code",
   "execution_count": null,
   "id": "b5907247",
   "metadata": {},
   "outputs": [],
   "source": [
    "y_pred"
   ]
  },
  {
   "cell_type": "code",
   "execution_count": null,
   "id": "0f06622e",
   "metadata": {},
   "outputs": [],
   "source": [
    "com_df4=pd.DataFrame({'Actual W ':y_test,'Predicted W ':y_pred})\n",
    "com_df4"
   ]
  },
  {
   "cell_type": "code",
   "execution_count": null,
   "id": "e3886bb4",
   "metadata": {},
   "outputs": [],
   "source": [
    "print('Mean Squared Error :',mean_squared_error(y_test,y_pred))\n",
    "print('Root Mean Squared Error :',np.sqrt(mean_squared_error(y_test,y_pred)))"
   ]
  },
  {
   "cell_type": "markdown",
   "id": "55a822bc",
   "metadata": {},
   "source": [
    "Out of these model Linear Regressor model shows good accuracy and also rmse value is low than the\n",
    "others.Therefore we shall go with Linear Regressor "
   ]
  },
  {
   "cell_type": "markdown",
   "id": "5fa6b4d2",
   "metadata": {},
   "source": [
    "# Tuning the Model"
   ]
  },
  {
   "cell_type": "code",
   "execution_count": null,
   "id": "bdc3bb6f",
   "metadata": {},
   "outputs": [],
   "source": [
    "from sklearn.model_selection import cross_val_score\n",
    "scr=cross_val_score(lr,x,y,cv=5)\n",
    "print(\"Cross Validation Score of Linear Regressor model :\",scr.mean())"
   ]
  },
  {
   "cell_type": "code",
   "execution_count": null,
   "id": "eb988d78",
   "metadata": {},
   "outputs": [],
   "source": [
    "scr2=cross_val_score(rf,x,y,cv=5)\n",
    "print(\"Cross Validation Score of Random Forest model :\",scr2.mean())"
   ]
  },
  {
   "cell_type": "code",
   "execution_count": null,
   "id": "82455fc8",
   "metadata": {},
   "outputs": [],
   "source": [
    "scr3=cross_val_score(sv_regressor,x,y,cv=5)\n",
    "print(\"Cross Validation Score of Support Vector model :\",scr3.mean())"
   ]
  },
  {
   "cell_type": "markdown",
   "id": "1688f8cf",
   "metadata": {},
   "source": [
    "Cross validation score of Linear regressor model is giving better results than the other models"
   ]
  },
  {
   "cell_type": "markdown",
   "id": "5ff1aed9",
   "metadata": {},
   "source": [
    "# Gradient Descent Algorithm"
   ]
  },
  {
   "cell_type": "code",
   "execution_count": null,
   "id": "84425477",
   "metadata": {},
   "outputs": [],
   "source": [
    "from sklearn.linear_model import SGDRegressor\n",
    "from sklearn.decomposition import PCA\n",
    "from sklearn.model_selection import cross_val_score\n",
    "from sklearn.pipeline import Pipeline"
   ]
  },
  {
   "cell_type": "code",
   "execution_count": null,
   "id": "11f2a4cc",
   "metadata": {},
   "outputs": [],
   "source": [
    "pipe=[]\n",
    "pipe.append(('PCA',PCA(n_components=8)))\n",
    "pipe.append(('SGD',SGDRegressor(alpha=0.1,learning_rate='optimal',max_iter=40)))\n",
    "model=Pipeline(pipe)\n",
    "cv_results=cross_val_score(model,df,y,cv=5)\n",
    "msg=\"%s:%f(%f)\"%('SGDRegressor',cv_results.mean(),cv_results.std())\n",
    "print(msg)"
   ]
  },
  {
   "cell_type": "code",
   "execution_count": null,
   "id": "21f3af48",
   "metadata": {},
   "outputs": [],
   "source": []
  },
  {
   "cell_type": "code",
   "execution_count": null,
   "id": "f664169e",
   "metadata": {},
   "outputs": [],
   "source": []
  },
  {
   "cell_type": "code",
   "execution_count": null,
   "id": "9a4725a8",
   "metadata": {},
   "outputs": [],
   "source": []
  },
  {
   "cell_type": "code",
   "execution_count": null,
   "id": "18a07eec",
   "metadata": {},
   "outputs": [],
   "source": []
  },
  {
   "cell_type": "code",
   "execution_count": null,
   "id": "6740ba82",
   "metadata": {},
   "outputs": [],
   "source": []
  },
  {
   "cell_type": "code",
   "execution_count": null,
   "id": "cfbab3a2",
   "metadata": {},
   "outputs": [],
   "source": []
  },
  {
   "cell_type": "code",
   "execution_count": null,
   "id": "466bd11b",
   "metadata": {},
   "outputs": [],
   "source": []
  },
  {
   "cell_type": "code",
   "execution_count": null,
   "id": "00a502bc",
   "metadata": {},
   "outputs": [],
   "source": []
  },
  {
   "cell_type": "code",
   "execution_count": null,
   "id": "b34a319d",
   "metadata": {},
   "outputs": [],
   "source": []
  },
  {
   "cell_type": "code",
   "execution_count": null,
   "id": "7a93bdce",
   "metadata": {},
   "outputs": [],
   "source": []
  },
  {
   "cell_type": "code",
   "execution_count": null,
   "id": "0393f61f",
   "metadata": {},
   "outputs": [],
   "source": []
  },
  {
   "cell_type": "code",
   "execution_count": null,
   "id": "b74cd233",
   "metadata": {},
   "outputs": [],
   "source": []
  },
  {
   "cell_type": "code",
   "execution_count": null,
   "id": "efe78cd6",
   "metadata": {},
   "outputs": [],
   "source": []
  },
  {
   "cell_type": "code",
   "execution_count": null,
   "id": "3bfae904",
   "metadata": {},
   "outputs": [],
   "source": []
  }
 ],
 "metadata": {
  "kernelspec": {
   "display_name": "Python 3 (ipykernel)",
   "language": "python",
   "name": "python3"
  },
  "language_info": {
   "codemirror_mode": {
    "name": "ipython",
    "version": 3
   },
   "file_extension": ".py",
   "mimetype": "text/x-python",
   "name": "python",
   "nbconvert_exporter": "python",
   "pygments_lexer": "ipython3",
   "version": "3.9.7"
  }
 },
 "nbformat": 4,
 "nbformat_minor": 5
}
