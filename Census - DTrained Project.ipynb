{
 "cells": [
  {
   "cell_type": "markdown",
   "id": "ad4715bb",
   "metadata": {},
   "source": [
    "# Census Income Project\n"
   ]
  },
  {
   "cell_type": "markdown",
   "id": "b9ef3ec1",
   "metadata": {},
   "source": [
    "Problem Statement:\n",
    "\n",
    "\n",
    "This data was extracted from the 1994 Census bureau database by Ronny Kohavi and Barry Becker (Data Mining and Visualization, Silicon Graphics). A set of reasonably clean records was extracted using the following conditions: ((AAGE>16) && (AGI>100) && (AFNLWGT>1) && (HRSWK>0)). The prediction task is to determine whether a person makes over $50K a year.\n"
   ]
  },
  {
   "cell_type": "markdown",
   "id": "169bb31c",
   "metadata": {},
   "source": [
    "Description of fnlwgt (final weight):\n",
    "\n",
    "\n",
    "The weights on the Current Population Survey (CPS) files are controlled to independent estimates of the civilian non-institutional population of the US. These are prepared monthly for us by Population Division here at the Census Bureau. We use 3 sets of controls. These are:\n",
    "\n",
    "1. A single cell estimate of the population 16+ for each state.\n",
    "\n",
    "2. Controls for Hispanic Origin by age and sex.\n",
    "\n",
    "3. Controls by Race, age and sex."
   ]
  },
  {
   "cell_type": "markdown",
   "id": "0d6ab2c7",
   "metadata": {},
   "source": [
    "We use all three sets of controls in our weighting program and \"rake\" through them 6 times so that by the end we come back to all the controls we used. The term estimate refers to population totals derived from CPS by creating \"weighted tallies\" of any specified socio-economic characteristics of the population. People with similar demographic characteristics should have similar weights. There is one important caveat to remember about this statement. That is that since the CPS sample is actually a collection of 51 state samples, each with its own probability of selection, the statement only applies within state.\n",
    "\n"
   ]
  },
  {
   "cell_type": "markdown",
   "id": "bc40944e",
   "metadata": {},
   "source": [
    "# Importing Required Libraries"
   ]
  },
  {
   "cell_type": "code",
   "execution_count": 24,
   "id": "1e85330c",
   "metadata": {},
   "outputs": [],
   "source": [
    "import pandas as pd\n",
    "import numpy as np\n",
    "import sklearn\n",
    "import matplotlib.pyplot as plt\n",
    "import seaborn as sns\n",
    "import warnings\n",
    "warnings.filterwarnings('ignore')"
   ]
  },
  {
   "cell_type": "markdown",
   "id": "67a14da1",
   "metadata": {},
   "source": [
    "# Loading Dataset"
   ]
  },
  {
   "cell_type": "code",
   "execution_count": 2,
   "id": "d2ae355b",
   "metadata": {},
   "outputs": [],
   "source": [
    "df_n=pd.read_csv('census_income.csv')"
   ]
  },
  {
   "cell_type": "code",
   "execution_count": 3,
   "id": "d2776153",
   "metadata": {},
   "outputs": [
    {
     "data": {
      "text/html": [
       "<div>\n",
       "<style scoped>\n",
       "    .dataframe tbody tr th:only-of-type {\n",
       "        vertical-align: middle;\n",
       "    }\n",
       "\n",
       "    .dataframe tbody tr th {\n",
       "        vertical-align: top;\n",
       "    }\n",
       "\n",
       "    .dataframe thead th {\n",
       "        text-align: right;\n",
       "    }\n",
       "</style>\n",
       "<table border=\"1\" class=\"dataframe\">\n",
       "  <thead>\n",
       "    <tr style=\"text-align: right;\">\n",
       "      <th></th>\n",
       "      <th>Age</th>\n",
       "      <th>Workclass</th>\n",
       "      <th>Fnlwgt</th>\n",
       "      <th>Education</th>\n",
       "      <th>Education_num</th>\n",
       "      <th>Marital_status</th>\n",
       "      <th>Occupation</th>\n",
       "      <th>Relationship</th>\n",
       "      <th>Race</th>\n",
       "      <th>Sex</th>\n",
       "      <th>Capital_gain</th>\n",
       "      <th>Capital_loss</th>\n",
       "      <th>Hours_per_week</th>\n",
       "      <th>Native_country</th>\n",
       "      <th>Income</th>\n",
       "    </tr>\n",
       "  </thead>\n",
       "  <tbody>\n",
       "    <tr>\n",
       "      <th>0</th>\n",
       "      <td>50</td>\n",
       "      <td>Self-emp-not-inc</td>\n",
       "      <td>83311</td>\n",
       "      <td>Bachelors</td>\n",
       "      <td>13</td>\n",
       "      <td>Married-civ-spouse</td>\n",
       "      <td>Exec-managerial</td>\n",
       "      <td>Husband</td>\n",
       "      <td>White</td>\n",
       "      <td>Male</td>\n",
       "      <td>0</td>\n",
       "      <td>0</td>\n",
       "      <td>13</td>\n",
       "      <td>United-States</td>\n",
       "      <td>&lt;=50K</td>\n",
       "    </tr>\n",
       "    <tr>\n",
       "      <th>1</th>\n",
       "      <td>38</td>\n",
       "      <td>Private</td>\n",
       "      <td>215646</td>\n",
       "      <td>HS-grad</td>\n",
       "      <td>9</td>\n",
       "      <td>Divorced</td>\n",
       "      <td>Handlers-cleaners</td>\n",
       "      <td>Not-in-family</td>\n",
       "      <td>White</td>\n",
       "      <td>Male</td>\n",
       "      <td>0</td>\n",
       "      <td>0</td>\n",
       "      <td>40</td>\n",
       "      <td>United-States</td>\n",
       "      <td>&lt;=50K</td>\n",
       "    </tr>\n",
       "    <tr>\n",
       "      <th>2</th>\n",
       "      <td>53</td>\n",
       "      <td>Private</td>\n",
       "      <td>234721</td>\n",
       "      <td>11th</td>\n",
       "      <td>7</td>\n",
       "      <td>Married-civ-spouse</td>\n",
       "      <td>Handlers-cleaners</td>\n",
       "      <td>Husband</td>\n",
       "      <td>Black</td>\n",
       "      <td>Male</td>\n",
       "      <td>0</td>\n",
       "      <td>0</td>\n",
       "      <td>40</td>\n",
       "      <td>United-States</td>\n",
       "      <td>&lt;=50K</td>\n",
       "    </tr>\n",
       "    <tr>\n",
       "      <th>3</th>\n",
       "      <td>28</td>\n",
       "      <td>Private</td>\n",
       "      <td>338409</td>\n",
       "      <td>Bachelors</td>\n",
       "      <td>13</td>\n",
       "      <td>Married-civ-spouse</td>\n",
       "      <td>Prof-specialty</td>\n",
       "      <td>Wife</td>\n",
       "      <td>Black</td>\n",
       "      <td>Female</td>\n",
       "      <td>0</td>\n",
       "      <td>0</td>\n",
       "      <td>40</td>\n",
       "      <td>Cuba</td>\n",
       "      <td>&lt;=50K</td>\n",
       "    </tr>\n",
       "    <tr>\n",
       "      <th>4</th>\n",
       "      <td>37</td>\n",
       "      <td>Private</td>\n",
       "      <td>284582</td>\n",
       "      <td>Masters</td>\n",
       "      <td>14</td>\n",
       "      <td>Married-civ-spouse</td>\n",
       "      <td>Exec-managerial</td>\n",
       "      <td>Wife</td>\n",
       "      <td>White</td>\n",
       "      <td>Female</td>\n",
       "      <td>0</td>\n",
       "      <td>0</td>\n",
       "      <td>40</td>\n",
       "      <td>United-States</td>\n",
       "      <td>&lt;=50K</td>\n",
       "    </tr>\n",
       "    <tr>\n",
       "      <th>...</th>\n",
       "      <td>...</td>\n",
       "      <td>...</td>\n",
       "      <td>...</td>\n",
       "      <td>...</td>\n",
       "      <td>...</td>\n",
       "      <td>...</td>\n",
       "      <td>...</td>\n",
       "      <td>...</td>\n",
       "      <td>...</td>\n",
       "      <td>...</td>\n",
       "      <td>...</td>\n",
       "      <td>...</td>\n",
       "      <td>...</td>\n",
       "      <td>...</td>\n",
       "      <td>...</td>\n",
       "    </tr>\n",
       "    <tr>\n",
       "      <th>32555</th>\n",
       "      <td>27</td>\n",
       "      <td>Private</td>\n",
       "      <td>257302</td>\n",
       "      <td>Assoc-acdm</td>\n",
       "      <td>12</td>\n",
       "      <td>Married-civ-spouse</td>\n",
       "      <td>Tech-support</td>\n",
       "      <td>Wife</td>\n",
       "      <td>White</td>\n",
       "      <td>Female</td>\n",
       "      <td>0</td>\n",
       "      <td>0</td>\n",
       "      <td>38</td>\n",
       "      <td>United-States</td>\n",
       "      <td>&lt;=50K</td>\n",
       "    </tr>\n",
       "    <tr>\n",
       "      <th>32556</th>\n",
       "      <td>40</td>\n",
       "      <td>Private</td>\n",
       "      <td>154374</td>\n",
       "      <td>HS-grad</td>\n",
       "      <td>9</td>\n",
       "      <td>Married-civ-spouse</td>\n",
       "      <td>Machine-op-inspct</td>\n",
       "      <td>Husband</td>\n",
       "      <td>White</td>\n",
       "      <td>Male</td>\n",
       "      <td>0</td>\n",
       "      <td>0</td>\n",
       "      <td>40</td>\n",
       "      <td>United-States</td>\n",
       "      <td>&gt;50K</td>\n",
       "    </tr>\n",
       "    <tr>\n",
       "      <th>32557</th>\n",
       "      <td>58</td>\n",
       "      <td>Private</td>\n",
       "      <td>151910</td>\n",
       "      <td>HS-grad</td>\n",
       "      <td>9</td>\n",
       "      <td>Widowed</td>\n",
       "      <td>Adm-clerical</td>\n",
       "      <td>Unmarried</td>\n",
       "      <td>White</td>\n",
       "      <td>Female</td>\n",
       "      <td>0</td>\n",
       "      <td>0</td>\n",
       "      <td>40</td>\n",
       "      <td>United-States</td>\n",
       "      <td>&lt;=50K</td>\n",
       "    </tr>\n",
       "    <tr>\n",
       "      <th>32558</th>\n",
       "      <td>22</td>\n",
       "      <td>Private</td>\n",
       "      <td>201490</td>\n",
       "      <td>HS-grad</td>\n",
       "      <td>9</td>\n",
       "      <td>Never-married</td>\n",
       "      <td>Adm-clerical</td>\n",
       "      <td>Own-child</td>\n",
       "      <td>White</td>\n",
       "      <td>Male</td>\n",
       "      <td>0</td>\n",
       "      <td>0</td>\n",
       "      <td>20</td>\n",
       "      <td>United-States</td>\n",
       "      <td>&lt;=50K</td>\n",
       "    </tr>\n",
       "    <tr>\n",
       "      <th>32559</th>\n",
       "      <td>52</td>\n",
       "      <td>Self-emp-inc</td>\n",
       "      <td>287927</td>\n",
       "      <td>HS-grad</td>\n",
       "      <td>9</td>\n",
       "      <td>Married-civ-spouse</td>\n",
       "      <td>Exec-managerial</td>\n",
       "      <td>Wife</td>\n",
       "      <td>White</td>\n",
       "      <td>Female</td>\n",
       "      <td>15024</td>\n",
       "      <td>0</td>\n",
       "      <td>40</td>\n",
       "      <td>United-States</td>\n",
       "      <td>&gt;50K</td>\n",
       "    </tr>\n",
       "  </tbody>\n",
       "</table>\n",
       "<p>32560 rows × 15 columns</p>\n",
       "</div>"
      ],
      "text/plain": [
       "       Age          Workclass  Fnlwgt    Education  Education_num  \\\n",
       "0       50   Self-emp-not-inc   83311    Bachelors             13   \n",
       "1       38            Private  215646      HS-grad              9   \n",
       "2       53            Private  234721         11th              7   \n",
       "3       28            Private  338409    Bachelors             13   \n",
       "4       37            Private  284582      Masters             14   \n",
       "...    ...                ...     ...          ...            ...   \n",
       "32555   27            Private  257302   Assoc-acdm             12   \n",
       "32556   40            Private  154374      HS-grad              9   \n",
       "32557   58            Private  151910      HS-grad              9   \n",
       "32558   22            Private  201490      HS-grad              9   \n",
       "32559   52       Self-emp-inc  287927      HS-grad              9   \n",
       "\n",
       "            Marital_status          Occupation    Relationship    Race  \\\n",
       "0       Married-civ-spouse     Exec-managerial         Husband   White   \n",
       "1                 Divorced   Handlers-cleaners   Not-in-family   White   \n",
       "2       Married-civ-spouse   Handlers-cleaners         Husband   Black   \n",
       "3       Married-civ-spouse      Prof-specialty            Wife   Black   \n",
       "4       Married-civ-spouse     Exec-managerial            Wife   White   \n",
       "...                    ...                 ...             ...     ...   \n",
       "32555   Married-civ-spouse        Tech-support            Wife   White   \n",
       "32556   Married-civ-spouse   Machine-op-inspct         Husband   White   \n",
       "32557              Widowed        Adm-clerical       Unmarried   White   \n",
       "32558        Never-married        Adm-clerical       Own-child   White   \n",
       "32559   Married-civ-spouse     Exec-managerial            Wife   White   \n",
       "\n",
       "           Sex  Capital_gain  Capital_loss  Hours_per_week  Native_country  \\\n",
       "0         Male             0             0              13   United-States   \n",
       "1         Male             0             0              40   United-States   \n",
       "2         Male             0             0              40   United-States   \n",
       "3       Female             0             0              40            Cuba   \n",
       "4       Female             0             0              40   United-States   \n",
       "...        ...           ...           ...             ...             ...   \n",
       "32555   Female             0             0              38   United-States   \n",
       "32556     Male             0             0              40   United-States   \n",
       "32557   Female             0             0              40   United-States   \n",
       "32558     Male             0             0              20   United-States   \n",
       "32559   Female         15024             0              40   United-States   \n",
       "\n",
       "       Income  \n",
       "0       <=50K  \n",
       "1       <=50K  \n",
       "2       <=50K  \n",
       "3       <=50K  \n",
       "4       <=50K  \n",
       "...       ...  \n",
       "32555   <=50K  \n",
       "32556    >50K  \n",
       "32557   <=50K  \n",
       "32558   <=50K  \n",
       "32559    >50K  \n",
       "\n",
       "[32560 rows x 15 columns]"
      ]
     },
     "execution_count": 3,
     "metadata": {},
     "output_type": "execute_result"
    }
   ],
   "source": [
    "df_n"
   ]
  },
  {
   "cell_type": "code",
   "execution_count": 4,
   "id": "d2570f2c",
   "metadata": {},
   "outputs": [
    {
     "data": {
      "text/plain": [
       "Index(['Age', 'Workclass', 'Fnlwgt', 'Education', 'Education_num',\n",
       "       'Marital_status', 'Occupation', 'Relationship', 'Race', 'Sex',\n",
       "       'Capital_gain', 'Capital_loss', 'Hours_per_week', 'Native_country',\n",
       "       'Income'],\n",
       "      dtype='object')"
      ]
     },
     "execution_count": 4,
     "metadata": {},
     "output_type": "execute_result"
    }
   ],
   "source": [
    "df_n.columns"
   ]
  },
  {
   "cell_type": "markdown",
   "id": "ccca98df",
   "metadata": {},
   "source": [
    "# Exploratory Data Analysis"
   ]
  },
  {
   "cell_type": "code",
   "execution_count": 5,
   "id": "b2ec6053",
   "metadata": {},
   "outputs": [
    {
     "data": {
      "text/plain": [
       "<bound method DataFrame.info of        Age          Workclass  Fnlwgt    Education  Education_num  \\\n",
       "0       50   Self-emp-not-inc   83311    Bachelors             13   \n",
       "1       38            Private  215646      HS-grad              9   \n",
       "2       53            Private  234721         11th              7   \n",
       "3       28            Private  338409    Bachelors             13   \n",
       "4       37            Private  284582      Masters             14   \n",
       "...    ...                ...     ...          ...            ...   \n",
       "32555   27            Private  257302   Assoc-acdm             12   \n",
       "32556   40            Private  154374      HS-grad              9   \n",
       "32557   58            Private  151910      HS-grad              9   \n",
       "32558   22            Private  201490      HS-grad              9   \n",
       "32559   52       Self-emp-inc  287927      HS-grad              9   \n",
       "\n",
       "            Marital_status          Occupation    Relationship    Race  \\\n",
       "0       Married-civ-spouse     Exec-managerial         Husband   White   \n",
       "1                 Divorced   Handlers-cleaners   Not-in-family   White   \n",
       "2       Married-civ-spouse   Handlers-cleaners         Husband   Black   \n",
       "3       Married-civ-spouse      Prof-specialty            Wife   Black   \n",
       "4       Married-civ-spouse     Exec-managerial            Wife   White   \n",
       "...                    ...                 ...             ...     ...   \n",
       "32555   Married-civ-spouse        Tech-support            Wife   White   \n",
       "32556   Married-civ-spouse   Machine-op-inspct         Husband   White   \n",
       "32557              Widowed        Adm-clerical       Unmarried   White   \n",
       "32558        Never-married        Adm-clerical       Own-child   White   \n",
       "32559   Married-civ-spouse     Exec-managerial            Wife   White   \n",
       "\n",
       "           Sex  Capital_gain  Capital_loss  Hours_per_week  Native_country  \\\n",
       "0         Male             0             0              13   United-States   \n",
       "1         Male             0             0              40   United-States   \n",
       "2         Male             0             0              40   United-States   \n",
       "3       Female             0             0              40            Cuba   \n",
       "4       Female             0             0              40   United-States   \n",
       "...        ...           ...           ...             ...             ...   \n",
       "32555   Female             0             0              38   United-States   \n",
       "32556     Male             0             0              40   United-States   \n",
       "32557   Female             0             0              40   United-States   \n",
       "32558     Male             0             0              20   United-States   \n",
       "32559   Female         15024             0              40   United-States   \n",
       "\n",
       "       Income  \n",
       "0       <=50K  \n",
       "1       <=50K  \n",
       "2       <=50K  \n",
       "3       <=50K  \n",
       "4       <=50K  \n",
       "...       ...  \n",
       "32555   <=50K  \n",
       "32556    >50K  \n",
       "32557   <=50K  \n",
       "32558   <=50K  \n",
       "32559    >50K  \n",
       "\n",
       "[32560 rows x 15 columns]>"
      ]
     },
     "execution_count": 5,
     "metadata": {},
     "output_type": "execute_result"
    }
   ],
   "source": [
    "df_n.info"
   ]
  },
  {
   "cell_type": "code",
   "execution_count": 6,
   "id": "b62dcbc1",
   "metadata": {},
   "outputs": [
    {
     "data": {
      "text/plain": [
       "<bound method IndexOpsMixin.value_counts of 0         White\n",
       "1         White\n",
       "2         Black\n",
       "3         Black\n",
       "4         White\n",
       "          ...  \n",
       "32555     White\n",
       "32556     White\n",
       "32557     White\n",
       "32558     White\n",
       "32559     White\n",
       "Name: Race, Length: 32560, dtype: object>"
      ]
     },
     "execution_count": 6,
     "metadata": {},
     "output_type": "execute_result"
    }
   ],
   "source": [
    "df_n['Race'].value_counts"
   ]
  },
  {
   "cell_type": "code",
   "execution_count": 7,
   "id": "f5af0bf4",
   "metadata": {},
   "outputs": [
    {
     "data": {
      "image/png": "[encoded data removed]",
      "text/plain": [
       "<Figure size 432x288 with 1 Axes>"
      ]
     },
     "metadata": {
      "needs_background": "light"
     },
     "output_type": "display_data"
    }
   ],
   "source": [
    "df_n['Race'].hist(grid=False)\n",
    "plt.title('White vs Black')\n",
    "plt.show()"
   ]
  },
  {
   "cell_type": "code",
   "execution_count": 8,
   "id": "b8c25dab",
   "metadata": {},
   "outputs": [],
   "source": [
    "df1=df_n.drop(['Age','Workclass','Education','Education_num','Marital_status','Occupation',\n",
    "               'Relationship','Race','Sex','Native_country'],axis=1)"
   ]
  },
  {
   "cell_type": "code",
   "execution_count": 9,
   "id": "b5e937ad",
   "metadata": {},
   "outputs": [
    {
     "data": {
      "text/html": [
       "<div>\n",
       "<style scoped>\n",
       "    .dataframe tbody tr th:only-of-type {\n",
       "        vertical-align: middle;\n",
       "    }\n",
       "\n",
       "    .dataframe tbody tr th {\n",
       "        vertical-align: top;\n",
       "    }\n",
       "\n",
       "    .dataframe thead th {\n",
       "        text-align: right;\n",
       "    }\n",
       "</style>\n",
       "<table border=\"1\" class=\"dataframe\">\n",
       "  <thead>\n",
       "    <tr style=\"text-align: right;\">\n",
       "      <th></th>\n",
       "      <th>Fnlwgt</th>\n",
       "      <th>Capital_gain</th>\n",
       "      <th>Capital_loss</th>\n",
       "      <th>Hours_per_week</th>\n",
       "      <th>Income</th>\n",
       "    </tr>\n",
       "  </thead>\n",
       "  <tbody>\n",
       "    <tr>\n",
       "      <th>0</th>\n",
       "      <td>83311</td>\n",
       "      <td>0</td>\n",
       "      <td>0</td>\n",
       "      <td>13</td>\n",
       "      <td>&lt;=50K</td>\n",
       "    </tr>\n",
       "    <tr>\n",
       "      <th>1</th>\n",
       "      <td>215646</td>\n",
       "      <td>0</td>\n",
       "      <td>0</td>\n",
       "      <td>40</td>\n",
       "      <td>&lt;=50K</td>\n",
       "    </tr>\n",
       "    <tr>\n",
       "      <th>2</th>\n",
       "      <td>234721</td>\n",
       "      <td>0</td>\n",
       "      <td>0</td>\n",
       "      <td>40</td>\n",
       "      <td>&lt;=50K</td>\n",
       "    </tr>\n",
       "    <tr>\n",
       "      <th>3</th>\n",
       "      <td>338409</td>\n",
       "      <td>0</td>\n",
       "      <td>0</td>\n",
       "      <td>40</td>\n",
       "      <td>&lt;=50K</td>\n",
       "    </tr>\n",
       "    <tr>\n",
       "      <th>4</th>\n",
       "      <td>284582</td>\n",
       "      <td>0</td>\n",
       "      <td>0</td>\n",
       "      <td>40</td>\n",
       "      <td>&lt;=50K</td>\n",
       "    </tr>\n",
       "    <tr>\n",
       "      <th>...</th>\n",
       "      <td>...</td>\n",
       "      <td>...</td>\n",
       "      <td>...</td>\n",
       "      <td>...</td>\n",
       "      <td>...</td>\n",
       "    </tr>\n",
       "    <tr>\n",
       "      <th>32555</th>\n",
       "      <td>257302</td>\n",
       "      <td>0</td>\n",
       "      <td>0</td>\n",
       "      <td>38</td>\n",
       "      <td>&lt;=50K</td>\n",
       "    </tr>\n",
       "    <tr>\n",
       "      <th>32556</th>\n",
       "      <td>154374</td>\n",
       "      <td>0</td>\n",
       "      <td>0</td>\n",
       "      <td>40</td>\n",
       "      <td>&gt;50K</td>\n",
       "    </tr>\n",
       "    <tr>\n",
       "      <th>32557</th>\n",
       "      <td>151910</td>\n",
       "      <td>0</td>\n",
       "      <td>0</td>\n",
       "      <td>40</td>\n",
       "      <td>&lt;=50K</td>\n",
       "    </tr>\n",
       "    <tr>\n",
       "      <th>32558</th>\n",
       "      <td>201490</td>\n",
       "      <td>0</td>\n",
       "      <td>0</td>\n",
       "      <td>20</td>\n",
       "      <td>&lt;=50K</td>\n",
       "    </tr>\n",
       "    <tr>\n",
       "      <th>32559</th>\n",
       "      <td>287927</td>\n",
       "      <td>15024</td>\n",
       "      <td>0</td>\n",
       "      <td>40</td>\n",
       "      <td>&gt;50K</td>\n",
       "    </tr>\n",
       "  </tbody>\n",
       "</table>\n",
       "<p>32560 rows × 5 columns</p>\n",
       "</div>"
      ],
      "text/plain": [
       "       Fnlwgt  Capital_gain  Capital_loss  Hours_per_week  Income\n",
       "0       83311             0             0              13   <=50K\n",
       "1      215646             0             0              40   <=50K\n",
       "2      234721             0             0              40   <=50K\n",
       "3      338409             0             0              40   <=50K\n",
       "4      284582             0             0              40   <=50K\n",
       "...       ...           ...           ...             ...     ...\n",
       "32555  257302             0             0              38   <=50K\n",
       "32556  154374             0             0              40    >50K\n",
       "32557  151910             0             0              40   <=50K\n",
       "32558  201490             0             0              20   <=50K\n",
       "32559  287927         15024             0              40    >50K\n",
       "\n",
       "[32560 rows x 5 columns]"
      ]
     },
     "execution_count": 9,
     "metadata": {},
     "output_type": "execute_result"
    }
   ],
   "source": [
    "df1"
   ]
  },
  {
   "cell_type": "code",
   "execution_count": 10,
   "id": "8b1caffd",
   "metadata": {},
   "outputs": [
    {
     "data": {
      "text/plain": [
       " <=50K    24719\n",
       " >50K      7841\n",
       "Name: Income, dtype: int64"
      ]
     },
     "execution_count": 10,
     "metadata": {},
     "output_type": "execute_result"
    }
   ],
   "source": [
    "df1['Income'].value_counts()"
   ]
  },
  {
   "cell_type": "code",
   "execution_count": 13,
   "id": "7a3f7aaf",
   "metadata": {},
   "outputs": [
    {
     "data": {
      "text/plain": [
       "0         <=50K\n",
       "1         <=50K\n",
       "2         <=50K\n",
       "3         <=50K\n",
       "4         <=50K\n",
       "          ...  \n",
       "32555     <=50K\n",
       "32556      >50K\n",
       "32557     <=50K\n",
       "32558     <=50K\n",
       "32559      >50K\n",
       "Name: Income, Length: 32560, dtype: category\n",
       "Categories (2, object): [' <=50K', ' >50K']"
      ]
     },
     "execution_count": 13,
     "metadata": {},
     "output_type": "execute_result"
    }
   ],
   "source": [
    "df1['Income'].astype('category')"
   ]
  },
  {
   "cell_type": "code",
   "execution_count": 14,
   "id": "f15b6a63",
   "metadata": {},
   "outputs": [],
   "source": [
    "from sklearn.preprocessing import LabelEncoder"
   ]
  },
  {
   "cell_type": "code",
   "execution_count": 15,
   "id": "c805803f",
   "metadata": {},
   "outputs": [],
   "source": [
    "le=LabelEncoder()\n",
    "df1['Income']=le.fit_transform(df1['Income'])"
   ]
  },
  {
   "cell_type": "code",
   "execution_count": 16,
   "id": "0bedba7a",
   "metadata": {},
   "outputs": [
    {
     "data": {
      "text/plain": [
       "0    24719\n",
       "1     7841\n",
       "Name: Income, dtype: int64"
      ]
     },
     "execution_count": 16,
     "metadata": {},
     "output_type": "execute_result"
    }
   ],
   "source": [
    "df1['Income'].value_counts()"
   ]
  },
  {
   "cell_type": "code",
   "execution_count": 17,
   "id": "d599bd8e",
   "metadata": {},
   "outputs": [
    {
     "data": {
      "text/html": [
       "<div>\n",
       "<style scoped>\n",
       "    .dataframe tbody tr th:only-of-type {\n",
       "        vertical-align: middle;\n",
       "    }\n",
       "\n",
       "    .dataframe tbody tr th {\n",
       "        vertical-align: top;\n",
       "    }\n",
       "\n",
       "    .dataframe thead th {\n",
       "        text-align: right;\n",
       "    }\n",
       "</style>\n",
       "<table border=\"1\" class=\"dataframe\">\n",
       "  <thead>\n",
       "    <tr style=\"text-align: right;\">\n",
       "      <th></th>\n",
       "      <th>Fnlwgt</th>\n",
       "      <th>Capital_gain</th>\n",
       "      <th>Capital_loss</th>\n",
       "      <th>Hours_per_week</th>\n",
       "      <th>Income</th>\n",
       "    </tr>\n",
       "  </thead>\n",
       "  <tbody>\n",
       "    <tr>\n",
       "      <th>0</th>\n",
       "      <td>83311</td>\n",
       "      <td>0</td>\n",
       "      <td>0</td>\n",
       "      <td>13</td>\n",
       "      <td>0</td>\n",
       "    </tr>\n",
       "    <tr>\n",
       "      <th>1</th>\n",
       "      <td>215646</td>\n",
       "      <td>0</td>\n",
       "      <td>0</td>\n",
       "      <td>40</td>\n",
       "      <td>0</td>\n",
       "    </tr>\n",
       "    <tr>\n",
       "      <th>2</th>\n",
       "      <td>234721</td>\n",
       "      <td>0</td>\n",
       "      <td>0</td>\n",
       "      <td>40</td>\n",
       "      <td>0</td>\n",
       "    </tr>\n",
       "    <tr>\n",
       "      <th>3</th>\n",
       "      <td>338409</td>\n",
       "      <td>0</td>\n",
       "      <td>0</td>\n",
       "      <td>40</td>\n",
       "      <td>0</td>\n",
       "    </tr>\n",
       "    <tr>\n",
       "      <th>4</th>\n",
       "      <td>284582</td>\n",
       "      <td>0</td>\n",
       "      <td>0</td>\n",
       "      <td>40</td>\n",
       "      <td>0</td>\n",
       "    </tr>\n",
       "  </tbody>\n",
       "</table>\n",
       "</div>"
      ],
      "text/plain": [
       "   Fnlwgt  Capital_gain  Capital_loss  Hours_per_week  Income\n",
       "0   83311             0             0              13       0\n",
       "1  215646             0             0              40       0\n",
       "2  234721             0             0              40       0\n",
       "3  338409             0             0              40       0\n",
       "4  284582             0             0              40       0"
      ]
     },
     "execution_count": 17,
     "metadata": {},
     "output_type": "execute_result"
    }
   ],
   "source": [
    "df1.head()"
   ]
  },
  {
   "cell_type": "code",
   "execution_count": 18,
   "id": "e3539250",
   "metadata": {},
   "outputs": [
    {
     "data": {
      "text/html": [
       "<div>\n",
       "<style scoped>\n",
       "    .dataframe tbody tr th:only-of-type {\n",
       "        vertical-align: middle;\n",
       "    }\n",
       "\n",
       "    .dataframe tbody tr th {\n",
       "        vertical-align: top;\n",
       "    }\n",
       "\n",
       "    .dataframe thead th {\n",
       "        text-align: right;\n",
       "    }\n",
       "</style>\n",
       "<table border=\"1\" class=\"dataframe\">\n",
       "  <thead>\n",
       "    <tr style=\"text-align: right;\">\n",
       "      <th></th>\n",
       "      <th>Fnlwgt</th>\n",
       "      <th>Capital_gain</th>\n",
       "      <th>Capital_loss</th>\n",
       "      <th>Hours_per_week</th>\n",
       "      <th>Income</th>\n",
       "    </tr>\n",
       "  </thead>\n",
       "  <tbody>\n",
       "    <tr>\n",
       "      <th>32555</th>\n",
       "      <td>257302</td>\n",
       "      <td>0</td>\n",
       "      <td>0</td>\n",
       "      <td>38</td>\n",
       "      <td>0</td>\n",
       "    </tr>\n",
       "    <tr>\n",
       "      <th>32556</th>\n",
       "      <td>154374</td>\n",
       "      <td>0</td>\n",
       "      <td>0</td>\n",
       "      <td>40</td>\n",
       "      <td>1</td>\n",
       "    </tr>\n",
       "    <tr>\n",
       "      <th>32557</th>\n",
       "      <td>151910</td>\n",
       "      <td>0</td>\n",
       "      <td>0</td>\n",
       "      <td>40</td>\n",
       "      <td>0</td>\n",
       "    </tr>\n",
       "    <tr>\n",
       "      <th>32558</th>\n",
       "      <td>201490</td>\n",
       "      <td>0</td>\n",
       "      <td>0</td>\n",
       "      <td>20</td>\n",
       "      <td>0</td>\n",
       "    </tr>\n",
       "    <tr>\n",
       "      <th>32559</th>\n",
       "      <td>287927</td>\n",
       "      <td>15024</td>\n",
       "      <td>0</td>\n",
       "      <td>40</td>\n",
       "      <td>1</td>\n",
       "    </tr>\n",
       "  </tbody>\n",
       "</table>\n",
       "</div>"
      ],
      "text/plain": [
       "       Fnlwgt  Capital_gain  Capital_loss  Hours_per_week  Income\n",
       "32555  257302             0             0              38       0\n",
       "32556  154374             0             0              40       1\n",
       "32557  151910             0             0              40       0\n",
       "32558  201490             0             0              20       0\n",
       "32559  287927         15024             0              40       1"
      ]
     },
     "execution_count": 18,
     "metadata": {},
     "output_type": "execute_result"
    }
   ],
   "source": [
    "df1.tail()"
   ]
  },
  {
   "cell_type": "code",
   "execution_count": 19,
   "id": "28ea9c85",
   "metadata": {},
   "outputs": [
    {
     "data": {
      "text/html": [
       "<div>\n",
       "<style scoped>\n",
       "    .dataframe tbody tr th:only-of-type {\n",
       "        vertical-align: middle;\n",
       "    }\n",
       "\n",
       "    .dataframe tbody tr th {\n",
       "        vertical-align: top;\n",
       "    }\n",
       "\n",
       "    .dataframe thead th {\n",
       "        text-align: right;\n",
       "    }\n",
       "</style>\n",
       "<table border=\"1\" class=\"dataframe\">\n",
       "  <thead>\n",
       "    <tr style=\"text-align: right;\">\n",
       "      <th></th>\n",
       "      <th>Fnlwgt</th>\n",
       "      <th>Capital_gain</th>\n",
       "      <th>Capital_loss</th>\n",
       "      <th>Hours_per_week</th>\n",
       "      <th>Income</th>\n",
       "    </tr>\n",
       "  </thead>\n",
       "  <tbody>\n",
       "    <tr>\n",
       "      <th>19652</th>\n",
       "      <td>32779</td>\n",
       "      <td>0</td>\n",
       "      <td>419</td>\n",
       "      <td>12</td>\n",
       "      <td>0</td>\n",
       "    </tr>\n",
       "  </tbody>\n",
       "</table>\n",
       "</div>"
      ],
      "text/plain": [
       "       Fnlwgt  Capital_gain  Capital_loss  Hours_per_week  Income\n",
       "19652   32779             0           419              12       0"
      ]
     },
     "execution_count": 19,
     "metadata": {},
     "output_type": "execute_result"
    }
   ],
   "source": [
    "df1.sample()"
   ]
  },
  {
   "cell_type": "markdown",
   "id": "08230c79",
   "metadata": {},
   "source": [
    "# Checking Correlation"
   ]
  },
  {
   "cell_type": "code",
   "execution_count": 21,
   "id": "ccd89fc4",
   "metadata": {},
   "outputs": [
    {
     "data": {
      "text/html": [
       "<div>\n",
       "<style scoped>\n",
       "    .dataframe tbody tr th:only-of-type {\n",
       "        vertical-align: middle;\n",
       "    }\n",
       "\n",
       "    .dataframe tbody tr th {\n",
       "        vertical-align: top;\n",
       "    }\n",
       "\n",
       "    .dataframe thead th {\n",
       "        text-align: right;\n",
       "    }\n",
       "</style>\n",
       "<table border=\"1\" class=\"dataframe\">\n",
       "  <thead>\n",
       "    <tr style=\"text-align: right;\">\n",
       "      <th></th>\n",
       "      <th>Fnlwgt</th>\n",
       "      <th>Capital_gain</th>\n",
       "      <th>Capital_loss</th>\n",
       "      <th>Hours_per_week</th>\n",
       "      <th>Income</th>\n",
       "    </tr>\n",
       "  </thead>\n",
       "  <tbody>\n",
       "    <tr>\n",
       "      <th>Fnlwgt</th>\n",
       "      <td>1.000000</td>\n",
       "      <td>0.000437</td>\n",
       "      <td>-0.010259</td>\n",
       "      <td>-0.018770</td>\n",
       "      <td>-0.009481</td>\n",
       "    </tr>\n",
       "    <tr>\n",
       "      <th>Capital_gain</th>\n",
       "      <td>0.000437</td>\n",
       "      <td>1.000000</td>\n",
       "      <td>-0.031614</td>\n",
       "      <td>0.078409</td>\n",
       "      <td>0.223333</td>\n",
       "    </tr>\n",
       "    <tr>\n",
       "      <th>Capital_loss</th>\n",
       "      <td>-0.010259</td>\n",
       "      <td>-0.031614</td>\n",
       "      <td>1.000000</td>\n",
       "      <td>0.054256</td>\n",
       "      <td>0.150523</td>\n",
       "    </tr>\n",
       "    <tr>\n",
       "      <th>Hours_per_week</th>\n",
       "      <td>-0.018770</td>\n",
       "      <td>0.078409</td>\n",
       "      <td>0.054256</td>\n",
       "      <td>1.000000</td>\n",
       "      <td>0.229690</td>\n",
       "    </tr>\n",
       "    <tr>\n",
       "      <th>Income</th>\n",
       "      <td>-0.009481</td>\n",
       "      <td>0.223333</td>\n",
       "      <td>0.150523</td>\n",
       "      <td>0.229690</td>\n",
       "      <td>1.000000</td>\n",
       "    </tr>\n",
       "  </tbody>\n",
       "</table>\n",
       "</div>"
      ],
      "text/plain": [
       "                  Fnlwgt  Capital_gain  Capital_loss  Hours_per_week    Income\n",
       "Fnlwgt          1.000000      0.000437     -0.010259       -0.018770 -0.009481\n",
       "Capital_gain    0.000437      1.000000     -0.031614        0.078409  0.223333\n",
       "Capital_loss   -0.010259     -0.031614      1.000000        0.054256  0.150523\n",
       "Hours_per_week -0.018770      0.078409      0.054256        1.000000  0.229690\n",
       "Income         -0.009481      0.223333      0.150523        0.229690  1.000000"
      ]
     },
     "execution_count": 21,
     "metadata": {},
     "output_type": "execute_result"
    }
   ],
   "source": [
    "df1.corr()"
   ]
  },
  {
   "cell_type": "code",
   "execution_count": 25,
   "id": "e8234d30",
   "metadata": {},
   "outputs": [
    {
     "data": {
      "image/png": "[encoded data removed]",
      "text/plain": [
       "<Figure size 5760x5760 with 2 Axes>"
      ]
     },
     "metadata": {
      "needs_background": "light"
     },
     "output_type": "display_data"
    }
   ],
   "source": [
    "corr_mat=df1.corr()\n",
    "# size of the canvas\n",
    "plt.figure(figsize=[80,80])\n",
    "# plot the correlation matrix\n",
    "sns.heatmap(corr_mat,annot=True)\n",
    "plt.title('Correlation Matrix')\n",
    "plt.savefig('Census Correlation_Matrix.jpg')\n",
    "plt.show()"
   ]
  },
  {
   "cell_type": "code",
   "execution_count": 26,
   "id": "824fa138",
   "metadata": {},
   "outputs": [
    {
     "data": {
      "text/html": [
       "<div>\n",
       "<style scoped>\n",
       "    .dataframe tbody tr th:only-of-type {\n",
       "        vertical-align: middle;\n",
       "    }\n",
       "\n",
       "    .dataframe tbody tr th {\n",
       "        vertical-align: top;\n",
       "    }\n",
       "\n",
       "    .dataframe thead th {\n",
       "        text-align: right;\n",
       "    }\n",
       "</style>\n",
       "<table border=\"1\" class=\"dataframe\">\n",
       "  <thead>\n",
       "    <tr style=\"text-align: right;\">\n",
       "      <th></th>\n",
       "      <th>Fnlwgt</th>\n",
       "      <th>Capital_gain</th>\n",
       "      <th>Capital_loss</th>\n",
       "      <th>Hours_per_week</th>\n",
       "      <th>Income</th>\n",
       "    </tr>\n",
       "  </thead>\n",
       "  <tbody>\n",
       "    <tr>\n",
       "      <th>Fnlwgt</th>\n",
       "      <td>1.000000</td>\n",
       "      <td>0.000437</td>\n",
       "      <td>-0.010259</td>\n",
       "      <td>-0.018770</td>\n",
       "      <td>-0.009481</td>\n",
       "    </tr>\n",
       "    <tr>\n",
       "      <th>Capital_gain</th>\n",
       "      <td>0.000437</td>\n",
       "      <td>1.000000</td>\n",
       "      <td>-0.031614</td>\n",
       "      <td>0.078409</td>\n",
       "      <td>0.223333</td>\n",
       "    </tr>\n",
       "    <tr>\n",
       "      <th>Capital_loss</th>\n",
       "      <td>-0.010259</td>\n",
       "      <td>-0.031614</td>\n",
       "      <td>1.000000</td>\n",
       "      <td>0.054256</td>\n",
       "      <td>0.150523</td>\n",
       "    </tr>\n",
       "    <tr>\n",
       "      <th>Hours_per_week</th>\n",
       "      <td>-0.018770</td>\n",
       "      <td>0.078409</td>\n",
       "      <td>0.054256</td>\n",
       "      <td>1.000000</td>\n",
       "      <td>0.229690</td>\n",
       "    </tr>\n",
       "    <tr>\n",
       "      <th>Income</th>\n",
       "      <td>-0.009481</td>\n",
       "      <td>0.223333</td>\n",
       "      <td>0.150523</td>\n",
       "      <td>0.229690</td>\n",
       "      <td>1.000000</td>\n",
       "    </tr>\n",
       "  </tbody>\n",
       "</table>\n",
       "</div>"
      ],
      "text/plain": [
       "                  Fnlwgt  Capital_gain  Capital_loss  Hours_per_week    Income\n",
       "Fnlwgt          1.000000      0.000437     -0.010259       -0.018770 -0.009481\n",
       "Capital_gain    0.000437      1.000000     -0.031614        0.078409  0.223333\n",
       "Capital_loss   -0.010259     -0.031614      1.000000        0.054256  0.150523\n",
       "Hours_per_week -0.018770      0.078409      0.054256        1.000000  0.229690\n",
       "Income         -0.009481      0.223333      0.150523        0.229690  1.000000"
      ]
     },
     "execution_count": 26,
     "metadata": {},
     "output_type": "execute_result"
    }
   ],
   "source": [
    "corr_matrix=df1.corr()\n",
    "corr_matrix"
   ]
  },
  {
   "cell_type": "code",
   "execution_count": 27,
   "id": "f63a1301",
   "metadata": {},
   "outputs": [
    {
     "data": {
      "text/plain": [
       "pandas.core.frame.DataFrame"
      ]
     },
     "execution_count": 27,
     "metadata": {},
     "output_type": "execute_result"
    }
   ],
   "source": [
    "type(corr_matrix)"
   ]
  },
  {
   "cell_type": "code",
   "execution_count": 29,
   "id": "e10b526b",
   "metadata": {},
   "outputs": [
    {
     "data": {
      "text/plain": [
       "Income            1.000000\n",
       "Hours_per_week    0.229690\n",
       "Capital_gain      0.223333\n",
       "Capital_loss      0.150523\n",
       "Fnlwgt           -0.009481\n",
       "Name: Income, dtype: float64"
      ]
     },
     "execution_count": 29,
     "metadata": {},
     "output_type": "execute_result"
    }
   ],
   "source": [
    "corr_matrix=df1.corr()\n",
    "corr_matrix['Income'].sort_values(ascending=False)"
   ]
  },
  {
   "cell_type": "markdown",
   "id": "841f21ef",
   "metadata": {},
   "source": [
    "There is a strong positive correlation between Hours per week and income and week positive correlation\n",
    "is between capital_loss and income also there is a strong negative correlation is between fnlwgt and\n",
    "income"
   ]
  },
  {
   "cell_type": "markdown",
   "id": "fbffc943",
   "metadata": {},
   "source": [
    "Lets Check the data distribution among the columns"
   ]
  },
  {
   "cell_type": "code",
   "execution_count": 30,
   "id": "af5d79f7",
   "metadata": {},
   "outputs": [
    {
     "data": {
      "image/png": "[encoded data removed]",
      "text/plain": [
       "<Figure size 1296x864 with 66 Axes>"
      ]
     },
     "metadata": {
      "needs_background": "light"
     },
     "output_type": "display_data"
    }
   ],
   "source": [
    "df1.plot(kind='density',subplots=True,layout=(6,11),sharex=False,legend=False,fontsize=1,figsize=(18,12))\n",
    "plt.show()"
   ]
  },
  {
   "cell_type": "markdown",
   "id": "36fd5aee",
   "metadata": {},
   "source": [
    "We can see skewness in multiple column will handle skewness in further steps"
   ]
  },
  {
   "cell_type": "markdown",
   "id": "369def2b",
   "metadata": {},
   "source": [
    "Splitting Independent and Dependent Variables"
   ]
  },
  {
   "cell_type": "code",
   "execution_count": 31,
   "id": "f01bf3c3",
   "metadata": {},
   "outputs": [],
   "source": [
    "x=df1.drop('Income',axis=1)\n",
    "y=df1['Income']"
   ]
  },
  {
   "cell_type": "code",
   "execution_count": 32,
   "id": "6340b747",
   "metadata": {},
   "outputs": [
    {
     "data": {
      "text/plain": [
       "Capital_gain      11.953690\n",
       "Capital_loss       4.594549\n",
       "Fnlwgt             1.446972\n",
       "Hours_per_week     0.227636\n",
       "dtype: float64"
      ]
     },
     "execution_count": 32,
     "metadata": {},
     "output_type": "execute_result"
    }
   ],
   "source": [
    "# Checking Skewness\n",
    "x.skew().sort_values(ascending=False)"
   ]
  },
  {
   "cell_type": "markdown",
   "id": "6cc09882",
   "metadata": {},
   "source": [
    "We can skewness in most of our column of our dataset, we will remove skewness using Power Transform\n",
    "technique"
   ]
  },
  {
   "cell_type": "code",
   "execution_count": 33,
   "id": "b614f344",
   "metadata": {},
   "outputs": [],
   "source": [
    "from sklearn.preprocessing import power_transform"
   ]
  },
  {
   "cell_type": "code",
   "execution_count": 34,
   "id": "3cac50cf",
   "metadata": {},
   "outputs": [],
   "source": [
    "x_new=power_transform(x)"
   ]
  },
  {
   "cell_type": "code",
   "execution_count": 35,
   "id": "5e2b4d79",
   "metadata": {},
   "outputs": [
    {
     "data": {
      "text/plain": [
       "2    4.299511\n",
       "1    3.016951\n",
       "3    0.229556\n",
       "0    0.016914\n",
       "dtype: float64"
      ]
     },
     "execution_count": 35,
     "metadata": {},
     "output_type": "execute_result"
    }
   ],
   "source": [
    "pd.DataFrame(x_new).skew().sort_values(ascending=False)"
   ]
  },
  {
   "cell_type": "code",
   "execution_count": 36,
   "id": "706dcf22",
   "metadata": {},
   "outputs": [
    {
     "data": {
      "text/plain": [
       "numpy.ndarray"
      ]
     },
     "execution_count": 36,
     "metadata": {},
     "output_type": "execute_result"
    }
   ],
   "source": [
    "type(x_new)"
   ]
  },
  {
   "cell_type": "code",
   "execution_count": 37,
   "id": "dbca573c",
   "metadata": {},
   "outputs": [
    {
     "data": {
      "text/plain": [
       "Index(['Fnlwgt', 'Capital_gain', 'Capital_loss', 'Hours_per_week'], dtype='object')"
      ]
     },
     "execution_count": 37,
     "metadata": {},
     "output_type": "execute_result"
    }
   ],
   "source": [
    "x.columns"
   ]
  },
  {
   "cell_type": "code",
   "execution_count": 38,
   "id": "4219bbcc",
   "metadata": {},
   "outputs": [],
   "source": [
    "x=pd.DataFrame(x_new,columns=x.columns)"
   ]
  },
  {
   "cell_type": "code",
   "execution_count": 39,
   "id": "6c24e6b6",
   "metadata": {},
   "outputs": [
    {
     "data": {
      "text/html": [
       "<div>\n",
       "<style scoped>\n",
       "    .dataframe tbody tr th:only-of-type {\n",
       "        vertical-align: middle;\n",
       "    }\n",
       "\n",
       "    .dataframe tbody tr th {\n",
       "        vertical-align: top;\n",
       "    }\n",
       "\n",
       "    .dataframe thead th {\n",
       "        text-align: right;\n",
       "    }\n",
       "</style>\n",
       "<table border=\"1\" class=\"dataframe\">\n",
       "  <thead>\n",
       "    <tr style=\"text-align: right;\">\n",
       "      <th></th>\n",
       "      <th>Fnlwgt</th>\n",
       "      <th>Capital_gain</th>\n",
       "      <th>Capital_loss</th>\n",
       "      <th>Hours_per_week</th>\n",
       "    </tr>\n",
       "  </thead>\n",
       "  <tbody>\n",
       "    <tr>\n",
       "      <th>0</th>\n",
       "      <td>-1.089889</td>\n",
       "      <td>-0.301370</td>\n",
       "      <td>-0.221213</td>\n",
       "      <td>-2.221515</td>\n",
       "    </tr>\n",
       "    <tr>\n",
       "      <th>1</th>\n",
       "      <td>0.398743</td>\n",
       "      <td>-0.301370</td>\n",
       "      <td>-0.221213</td>\n",
       "      <td>-0.035570</td>\n",
       "    </tr>\n",
       "    <tr>\n",
       "      <th>2</th>\n",
       "      <td>0.562540</td>\n",
       "      <td>-0.301370</td>\n",
       "      <td>-0.221213</td>\n",
       "      <td>-0.035570</td>\n",
       "    </tr>\n",
       "    <tr>\n",
       "      <th>3</th>\n",
       "      <td>1.340398</td>\n",
       "      <td>-0.301370</td>\n",
       "      <td>-0.221213</td>\n",
       "      <td>-0.035570</td>\n",
       "    </tr>\n",
       "    <tr>\n",
       "      <th>4</th>\n",
       "      <td>0.957182</td>\n",
       "      <td>-0.301370</td>\n",
       "      <td>-0.221213</td>\n",
       "      <td>-0.035570</td>\n",
       "    </tr>\n",
       "    <tr>\n",
       "      <th>...</th>\n",
       "      <td>...</td>\n",
       "      <td>...</td>\n",
       "      <td>...</td>\n",
       "      <td>...</td>\n",
       "    </tr>\n",
       "    <tr>\n",
       "      <th>32555</th>\n",
       "      <td>0.746749</td>\n",
       "      <td>-0.301370</td>\n",
       "      <td>-0.221213</td>\n",
       "      <td>-0.197550</td>\n",
       "    </tr>\n",
       "    <tr>\n",
       "      <th>32556</th>\n",
       "      <td>-0.193298</td>\n",
       "      <td>-0.301370</td>\n",
       "      <td>-0.221213</td>\n",
       "      <td>-0.035570</td>\n",
       "    </tr>\n",
       "    <tr>\n",
       "      <th>32557</th>\n",
       "      <td>-0.219755</td>\n",
       "      <td>-0.301370</td>\n",
       "      <td>-0.221213</td>\n",
       "      <td>-0.035570</td>\n",
       "    </tr>\n",
       "    <tr>\n",
       "      <th>32558</th>\n",
       "      <td>0.271668</td>\n",
       "      <td>-0.301370</td>\n",
       "      <td>-0.221213</td>\n",
       "      <td>-1.654992</td>\n",
       "    </tr>\n",
       "    <tr>\n",
       "      <th>32559</th>\n",
       "      <td>0.982165</td>\n",
       "      <td>3.318234</td>\n",
       "      <td>-0.221213</td>\n",
       "      <td>-0.035570</td>\n",
       "    </tr>\n",
       "  </tbody>\n",
       "</table>\n",
       "<p>32560 rows × 4 columns</p>\n",
       "</div>"
      ],
      "text/plain": [
       "         Fnlwgt  Capital_gain  Capital_loss  Hours_per_week\n",
       "0     -1.089889     -0.301370     -0.221213       -2.221515\n",
       "1      0.398743     -0.301370     -0.221213       -0.035570\n",
       "2      0.562540     -0.301370     -0.221213       -0.035570\n",
       "3      1.340398     -0.301370     -0.221213       -0.035570\n",
       "4      0.957182     -0.301370     -0.221213       -0.035570\n",
       "...         ...           ...           ...             ...\n",
       "32555  0.746749     -0.301370     -0.221213       -0.197550\n",
       "32556 -0.193298     -0.301370     -0.221213       -0.035570\n",
       "32557 -0.219755     -0.301370     -0.221213       -0.035570\n",
       "32558  0.271668     -0.301370     -0.221213       -1.654992\n",
       "32559  0.982165      3.318234     -0.221213       -0.035570\n",
       "\n",
       "[32560 rows x 4 columns]"
      ]
     },
     "execution_count": 39,
     "metadata": {},
     "output_type": "execute_result"
    }
   ],
   "source": [
    "x"
   ]
  },
  {
   "cell_type": "code",
   "execution_count": 40,
   "id": "75425c7e",
   "metadata": {},
   "outputs": [
    {
     "data": {
      "text/plain": [
       "Capital_loss      4.299511\n",
       "Capital_gain      3.016951\n",
       "Hours_per_week    0.229556\n",
       "Fnlwgt            0.016914\n",
       "dtype: float64"
      ]
     },
     "execution_count": 40,
     "metadata": {},
     "output_type": "execute_result"
    }
   ],
   "source": [
    "x.skew().sort_values(ascending=False)"
   ]
  },
  {
   "cell_type": "code",
   "execution_count": 41,
   "id": "0b60f874",
   "metadata": {},
   "outputs": [],
   "source": [
    "sk=x.skew()"
   ]
  },
  {
   "cell_type": "code",
   "execution_count": 42,
   "id": "119e8977",
   "metadata": {},
   "outputs": [
    {
     "data": {
      "text/plain": [
       "Fnlwgt            0.016914\n",
       "Capital_gain      3.016951\n",
       "Capital_loss      4.299511\n",
       "Hours_per_week    0.229556\n",
       "dtype: float64"
      ]
     },
     "execution_count": 42,
     "metadata": {},
     "output_type": "execute_result"
    }
   ],
   "source": [
    "sk"
   ]
  },
  {
   "cell_type": "code",
   "execution_count": 43,
   "id": "d9fc578b",
   "metadata": {},
   "outputs": [
    {
     "data": {
      "text/plain": [
       "True"
      ]
     },
     "execution_count": 43,
     "metadata": {},
     "output_type": "execute_result"
    }
   ],
   "source": [
    "sk[np.abs(sk)>0.5].all()"
   ]
  },
  {
   "cell_type": "code",
   "execution_count": 44,
   "id": "f7ef6cb0",
   "metadata": {},
   "outputs": [
    {
     "data": {
      "text/plain": [
       "Capital_gain    3.016951\n",
       "Capital_loss    4.299511\n",
       "dtype: float64"
      ]
     },
     "execution_count": 44,
     "metadata": {},
     "output_type": "execute_result"
    }
   ],
   "source": [
    "sk[np.abs(sk)>0.5]"
   ]
  },
  {
   "cell_type": "code",
   "execution_count": 45,
   "id": "04ac93ef",
   "metadata": {},
   "outputs": [
    {
     "data": {
      "text/plain": [
       "True"
      ]
     },
     "execution_count": 45,
     "metadata": {},
     "output_type": "execute_result"
    }
   ],
   "source": [
    "x.skew()[np.abs(x.skew())<0.25].all()"
   ]
  },
  {
   "cell_type": "markdown",
   "id": "b787c77b",
   "metadata": {},
   "source": [
    "Skewness has been removed "
   ]
  },
  {
   "cell_type": "markdown",
   "id": "e85b3143",
   "metadata": {},
   "source": [
    "# Checking Outliers"
   ]
  },
  {
   "cell_type": "code",
   "execution_count": 46,
   "id": "7852c20f",
   "metadata": {},
   "outputs": [
    {
     "data": {
      "image/png": "[encoded data removed]",
      "text/plain": [
       "<Figure size 1440x576 with 1 Axes>"
      ]
     },
     "metadata": {
      "needs_background": "light"
     },
     "output_type": "display_data"
    }
   ],
   "source": [
    "x.iloc[:,0:5].boxplot(figsize=[20,8])\n",
    "plt.subplots_adjust(bottom=0.25)\n",
    "plt.show()"
   ]
  },
  {
   "cell_type": "code",
   "execution_count": 47,
   "id": "e14712c9",
   "metadata": {},
   "outputs": [
    {
     "data": {
      "text/plain": [
       "Index(['Fnlwgt', 'Capital_gain', 'Capital_loss', 'Hours_per_week', 'Income'], dtype='object')"
      ]
     },
     "execution_count": 47,
     "metadata": {},
     "output_type": "execute_result"
    }
   ],
   "source": [
    "df1.columns"
   ]
  },
  {
   "cell_type": "code",
   "execution_count": 51,
   "id": "c2022f66",
   "metadata": {},
   "outputs": [],
   "source": [
    "feature=['Fnlwgt','Capital_gain','Capital_loss','Hours_per_week']"
   ]
  },
  {
   "cell_type": "code",
   "execution_count": 52,
   "id": "d9b222b8",
   "metadata": {},
   "outputs": [],
   "source": [
    "def outliers(df,ft):\n",
    "    q1=df[ft].quantile(0.25)\n",
    "    q3=df[ft].quantile(0.75)\n",
    "    iqr=q3-q1\n",
    "    lower_limit=q1-1.5*iqr\n",
    "    upper_limit=q3+1.5*iqr\n",
    "    ls=df.index[(df[ft]<lower_limit) | (df[ft]>upper_limit)]\n",
    "    return ls"
   ]
  },
  {
   "cell_type": "code",
   "execution_count": 53,
   "id": "80d733ec",
   "metadata": {},
   "outputs": [],
   "source": [
    "index_list=[]\n",
    "for i in feature:\n",
    "    index_list.extend(outliers(df1,i))"
   ]
  },
  {
   "cell_type": "code",
   "execution_count": 54,
   "id": "a16076d1",
   "metadata": {},
   "outputs": [
    {
     "data": {
      "text/plain": [
       "[36,\n",
       " 39,\n",
       " 79,\n",
       " 109,\n",
       " 156,\n",
       " 172,\n",
       " 176,\n",
       " 181,\n",
       " 191,\n",
       " 214,\n",
       " 229,\n",
       " 274,\n",
       " 284,\n",
       " 311,\n",
       " 317,\n",
       " 368,\n",
       " 399,\n",
       " 404,\n",
       " 413,\n",
       " 416,\n",
       " 507,\n",
       " 566,\n",
       " 620,\n",
       " 650,\n",
       " 682,\n",
       " 698,\n",
       " 760,\n",
       " 826,\n",
       " 835,\n",
       " 913,\n",
       " 940,\n",
       " 962,\n",
       " 1011,\n",
       " 1033,\n",
       " 1150,\n",
       " 1156,\n",
       " 1181,\n",
       " 1192,\n",
       " 1235,\n",
       " 1288,\n",
       " 1290,\n",
       " 1300,\n",
       " 1313,\n",
       " 1349,\n",
       " 1368,\n",
       " 1376,\n",
       " 1435,\n",
       " 1453,\n",
       " 1507,\n",
       " 1508,\n",
       " 1543,\n",
       " 1596,\n",
       " 1605,\n",
       " 1627,\n",
       " 1653,\n",
       " 1663,\n",
       " 1678,\n",
       " 1745,\n",
       " 1796,\n",
       " 1821,\n",
       " 1846,\n",
       " 1882,\n",
       " 1894,\n",
       " 1949,\n",
       " 1964,\n",
       " 1970,\n",
       " 1978,\n",
       " 1984,\n",
       " 2017,\n",
       " 2034,\n",
       " 2064,\n",
       " 2122,\n",
       " 2181,\n",
       " 2192,\n",
       " 2265,\n",
       " 2321,\n",
       " 2341,\n",
       " 2346,\n",
       " 2356,\n",
       " 2368,\n",
       " 2398,\n",
       " 2471,\n",
       " 2513,\n",
       " 2532,\n",
       " 2574,\n",
       " 2672,\n",
       " 2674,\n",
       " 2759,\n",
       " 2766,\n",
       " 2769,\n",
       " 2771,\n",
       " 2819,\n",
       " 2821,\n",
       " 2823,\n",
       " 2849,\n",
       " 2875,\n",
       " 2899,\n",
       " 2935,\n",
       " 2941,\n",
       " 2945,\n",
       " 2976,\n",
       " 3025,\n",
       " 3149,\n",
       " 3192,\n",
       " 3193,\n",
       " 3236,\n",
       " 3257,\n",
       " 3280,\n",
       " 3285,\n",
       " 3302,\n",
       " 3375,\n",
       " 3408,\n",
       " 3426,\n",
       " 3457,\n",
       " 3476,\n",
       " 3501,\n",
       " 3568,\n",
       " 3570,\n",
       " 3611,\n",
       " 3705,\n",
       " 3718,\n",
       " 3737,\n",
       " 3743,\n",
       " 3746,\n",
       " 3797,\n",
       " 3804,\n",
       " 3807,\n",
       " 3827,\n",
       " 3869,\n",
       " 3900,\n",
       " 3902,\n",
       " 3905,\n",
       " 3943,\n",
       " 3963,\n",
       " 3982,\n",
       " 4059,\n",
       " 4088,\n",
       " 4097,\n",
       " 4106,\n",
       " 4123,\n",
       " 4164,\n",
       " 4194,\n",
       " 4240,\n",
       " 4244,\n",
       " 4277,\n",
       " 4279,\n",
       " 4299,\n",
       " 4318,\n",
       " 4390,\n",
       " 4422,\n",
       " 4453,\n",
       " 4482,\n",
       " 4548,\n",
       " 4557,\n",
       " 4572,\n",
       " 4696,\n",
       " 4728,\n",
       " 4790,\n",
       " 4822,\n",
       " 4917,\n",
       " 4972,\n",
       " 4978,\n",
       " 5018,\n",
       " 5027,\n",
       " 5048,\n",
       " 5070,\n",
       " 5195,\n",
       " 5213,\n",
       " 5277,\n",
       " 5345,\n",
       " 5349,\n",
       " 5368,\n",
       " 5422,\n",
       " 5439,\n",
       " 5504,\n",
       " 5529,\n",
       " 5552,\n",
       " 5606,\n",
       " 5614,\n",
       " 5621,\n",
       " 5705,\n",
       " 5726,\n",
       " 5767,\n",
       " 5768,\n",
       " 5786,\n",
       " 5856,\n",
       " 5857,\n",
       " 5924,\n",
       " 5934,\n",
       " 6013,\n",
       " 6017,\n",
       " 6066,\n",
       " 6143,\n",
       " 6166,\n",
       " 6171,\n",
       " 6188,\n",
       " 6217,\n",
       " 6242,\n",
       " 6256,\n",
       " 6257,\n",
       " 6286,\n",
       " 6305,\n",
       " 6399,\n",
       " 6459,\n",
       " 6487,\n",
       " 6488,\n",
       " 6521,\n",
       " 6541,\n",
       " 6624,\n",
       " 6648,\n",
       " 6661,\n",
       " 6685,\n",
       " 6701,\n",
       " 6731,\n",
       " 6749,\n",
       " 6782,\n",
       " 6799,\n",
       " 6845,\n",
       " 6851,\n",
       " 6878,\n",
       " 6960,\n",
       " 7018,\n",
       " 7032,\n",
       " 7039,\n",
       " 7112,\n",
       " 7120,\n",
       " 7156,\n",
       " 7165,\n",
       " 7166,\n",
       " 7205,\n",
       " 7231,\n",
       " 7273,\n",
       " 7331,\n",
       " 7337,\n",
       " 7350,\n",
       " 7403,\n",
       " 7427,\n",
       " 7432,\n",
       " 7447,\n",
       " 7454,\n",
       " 7503,\n",
       " 7547,\n",
       " 7550,\n",
       " 7597,\n",
       " 7618,\n",
       " 7640,\n",
       " 7662,\n",
       " 7679,\n",
       " 7691,\n",
       " 7699,\n",
       " 7718,\n",
       " 7753,\n",
       " 7761,\n",
       " 7763,\n",
       " 7875,\n",
       " 7899,\n",
       " 7933,\n",
       " 7965,\n",
       " 7996,\n",
       " 8035,\n",
       " 8218,\n",
       " 8226,\n",
       " 8236,\n",
       " 8257,\n",
       " 8275,\n",
       " 8278,\n",
       " 8286,\n",
       " 8302,\n",
       " 8344,\n",
       " 8404,\n",
       " 8432,\n",
       " 8484,\n",
       " 8485,\n",
       " 8488,\n",
       " 8504,\n",
       " 8547,\n",
       " 8554,\n",
       " 8611,\n",
       " 8639,\n",
       " 8657,\n",
       " 8676,\n",
       " 8728,\n",
       " 8750,\n",
       " 8781,\n",
       " 8810,\n",
       " 8822,\n",
       " 8920,\n",
       " 8966,\n",
       " 8997,\n",
       " 9017,\n",
       " 9045,\n",
       " 9077,\n",
       " 9093,\n",
       " 9122,\n",
       " 9205,\n",
       " 9247,\n",
       " 9321,\n",
       " 9354,\n",
       " 9401,\n",
       " 9409,\n",
       " 9425,\n",
       " 9477,\n",
       " 9518,\n",
       " 9548,\n",
       " 9593,\n",
       " 9615,\n",
       " 9699,\n",
       " 9714,\n",
       " 9735,\n",
       " 9747,\n",
       " 9753,\n",
       " 9755,\n",
       " 9774,\n",
       " 9799,\n",
       " 9809,\n",
       " 9857,\n",
       " 9894,\n",
       " 9903,\n",
       " 9913,\n",
       " 9995,\n",
       " 10006,\n",
       " 10010,\n",
       " 10120,\n",
       " 10191,\n",
       " 10205,\n",
       " 10289,\n",
       " 10323,\n",
       " 10399,\n",
       " 10436,\n",
       " 10441,\n",
       " 10461,\n",
       " 10508,\n",
       " 10525,\n",
       " 10603,\n",
       " 10641,\n",
       " 10677,\n",
       " 10682,\n",
       " 10705,\n",
       " 10706,\n",
       " 10718,\n",
       " 10752,\n",
       " 10864,\n",
       " 10887,\n",
       " 10892,\n",
       " 10913,\n",
       " 10925,\n",
       " 11030,\n",
       " 11038,\n",
       " 11055,\n",
       " 11061,\n",
       " 11070,\n",
       " 11089,\n",
       " 11205,\n",
       " 11265,\n",
       " 11294,\n",
       " 11327,\n",
       " 11335,\n",
       " 11338,\n",
       " 11460,\n",
       " 11694,\n",
       " 11729,\n",
       " 11835,\n",
       " 11873,\n",
       " 11883,\n",
       " 11903,\n",
       " 11976,\n",
       " 12027,\n",
       " 12059,\n",
       " 12077,\n",
       " 12094,\n",
       " 12106,\n",
       " 12115,\n",
       " 12129,\n",
       " 12131,\n",
       " 12148,\n",
       " 12152,\n",
       " 12174,\n",
       " 12183,\n",
       " 12201,\n",
       " 12262,\n",
       " 12290,\n",
       " 12331,\n",
       " 12377,\n",
       " 12380,\n",
       " 12384,\n",
       " 12386,\n",
       " 12411,\n",
       " 12476,\n",
       " 12478,\n",
       " 12485,\n",
       " 12510,\n",
       " 12557,\n",
       " 12659,\n",
       " 12665,\n",
       " 12701,\n",
       " 12759,\n",
       " 12782,\n",
       " 12830,\n",
       " 12841,\n",
       " 12846,\n",
       " 12898,\n",
       " 12965,\n",
       " 13016,\n",
       " 13060,\n",
       " 13093,\n",
       " 13108,\n",
       " 13116,\n",
       " 13118,\n",
       " 13145,\n",
       " 13186,\n",
       " 13229,\n",
       " 13239,\n",
       " 13252,\n",
       " 13304,\n",
       " 13306,\n",
       " 13367,\n",
       " 13374,\n",
       " 13443,\n",
       " 13455,\n",
       " 13500,\n",
       " 13519,\n",
       " 13544,\n",
       " 13637,\n",
       " 13642,\n",
       " 13678,\n",
       " 13701,\n",
       " 13732,\n",
       " 13766,\n",
       " 13771,\n",
       " 13795,\n",
       " 13819,\n",
       " 13836,\n",
       " 13912,\n",
       " 13914,\n",
       " 13970,\n",
       " 14050,\n",
       " 14051,\n",
       " 14131,\n",
       " 14160,\n",
       " 14166,\n",
       " 14280,\n",
       " 14321,\n",
       " 14413,\n",
       " 14419,\n",
       " 14448,\n",
       " 14496,\n",
       " 14595,\n",
       " 14645,\n",
       " 14680,\n",
       " 14715,\n",
       " 14772,\n",
       " 14792,\n",
       " 14820,\n",
       " 14839,\n",
       " 14903,\n",
       " 14938,\n",
       " 15007,\n",
       " 15043,\n",
       " 15086,\n",
       " 15098,\n",
       " 15104,\n",
       " 15153,\n",
       " 15203,\n",
       " 15215,\n",
       " 15226,\n",
       " 15341,\n",
       " 15349,\n",
       " 15352,\n",
       " 15359,\n",
       " 15394,\n",
       " 15409,\n",
       " 15414,\n",
       " 15427,\n",
       " 15496,\n",
       " 15508,\n",
       " 15510,\n",
       " 15521,\n",
       " 15550,\n",
       " 15553,\n",
       " 15568,\n",
       " 15668,\n",
       " 15709,\n",
       " 15714,\n",
       " 15727,\n",
       " 15735,\n",
       " 15830,\n",
       " 15898,\n",
       " 15952,\n",
       " 15956,\n",
       " 16054,\n",
       " 16103,\n",
       " 16120,\n",
       " 16161,\n",
       " 16186,\n",
       " 16199,\n",
       " 16235,\n",
       " 16419,\n",
       " 16434,\n",
       " 16440,\n",
       " 16450,\n",
       " 16471,\n",
       " 16481,\n",
       " 16501,\n",
       " 16638,\n",
       " 16664,\n",
       " 16670,\n",
       " 16723,\n",
       " 16731,\n",
       " 16738,\n",
       " 16739,\n",
       " 16767,\n",
       " 16783,\n",
       " 16844,\n",
       " 16891,\n",
       " 16938,\n",
       " 16990,\n",
       " 17030,\n",
       " 17052,\n",
       " 17081,\n",
       " 17118,\n",
       " 17125,\n",
       " 17183,\n",
       " 17249,\n",
       " 17295,\n",
       " 17316,\n",
       " 17320,\n",
       " 17341,\n",
       " 17342,\n",
       " 17356,\n",
       " 17388,\n",
       " 17399,\n",
       " 17424,\n",
       " 17435,\n",
       " 17447,\n",
       " 17454,\n",
       " 17478,\n",
       " 17513,\n",
       " 17534,\n",
       " 17556,\n",
       " 17583,\n",
       " 17592,\n",
       " 17657,\n",
       " 17673,\n",
       " 17695,\n",
       " 17714,\n",
       " 17737,\n",
       " 17742,\n",
       " 17782,\n",
       " 18057,\n",
       " 18073,\n",
       " 18096,\n",
       " 18126,\n",
       " 18137,\n",
       " 18138,\n",
       " 18141,\n",
       " 18147,\n",
       " 18153,\n",
       " 18193,\n",
       " 18238,\n",
       " 18256,\n",
       " 18274,\n",
       " 18280,\n",
       " 18306,\n",
       " 18313,\n",
       " 18335,\n",
       " 18343,\n",
       " 18348,\n",
       " 18518,\n",
       " 18629,\n",
       " 18637,\n",
       " 18762,\n",
       " 18763,\n",
       " 18774,\n",
       " 18858,\n",
       " 18859,\n",
       " 18873,\n",
       " 18881,\n",
       " 18905,\n",
       " 18909,\n",
       " 18988,\n",
       " 18993,\n",
       " 19006,\n",
       " 19154,\n",
       " 19168,\n",
       " 19223,\n",
       " 19251,\n",
       " 19253,\n",
       " 19310,\n",
       " 19316,\n",
       " 19346,\n",
       " 19363,\n",
       " 19429,\n",
       " 19453,\n",
       " 19629,\n",
       " 19651,\n",
       " 19688,\n",
       " 19701,\n",
       " 19775,\n",
       " 19799,\n",
       " 19804,\n",
       " 19831,\n",
       " 19872,\n",
       " 19998,\n",
       " 20015,\n",
       " 20205,\n",
       " 20217,\n",
       " 20227,\n",
       " 20253,\n",
       " 20282,\n",
       " 20286,\n",
       " 20293,\n",
       " 20308,\n",
       " 20317,\n",
       " 20334,\n",
       " 20384,\n",
       " 20439,\n",
       " 20470,\n",
       " 20483,\n",
       " 20487,\n",
       " 20495,\n",
       " 20530,\n",
       " 20535,\n",
       " 20559,\n",
       " 20595,\n",
       " 20666,\n",
       " 20837,\n",
       " 20939,\n",
       " 20942,\n",
       " 20960,\n",
       " 20972,\n",
       " 21024,\n",
       " 21056,\n",
       " 21065,\n",
       " 21081,\n",
       " 21116,\n",
       " 21177,\n",
       " 21185,\n",
       " 21264,\n",
       " 21292,\n",
       " 21315,\n",
       " 21323,\n",
       " 21380,\n",
       " 21385,\n",
       " 21477,\n",
       " 21510,\n",
       " 21520,\n",
       " 21529,\n",
       " 21565,\n",
       " 21596,\n",
       " 21755,\n",
       " 21789,\n",
       " 21803,\n",
       " 21824,\n",
       " 21908,\n",
       " 21921,\n",
       " 21952,\n",
       " 21960,\n",
       " 21968,\n",
       " 21969,\n",
       " 21990,\n",
       " 22048,\n",
       " 22076,\n",
       " 22081,\n",
       " 22106,\n",
       " 22139,\n",
       " 22155,\n",
       " 22207,\n",
       " 22218,\n",
       " 22247,\n",
       " 22358,\n",
       " 22371,\n",
       " 22382,\n",
       " 22407,\n",
       " 22422,\n",
       " 22569,\n",
       " 22652,\n",
       " 22705,\n",
       " 22745,\n",
       " 22804,\n",
       " 22830,\n",
       " 22859,\n",
       " 22887,\n",
       " 22889,\n",
       " 22913,\n",
       " 22931,\n",
       " 22941,\n",
       " 22991,\n",
       " 23031,\n",
       " 23053,\n",
       " 23070,\n",
       " 23142,\n",
       " 23152,\n",
       " 23155,\n",
       " 23178,\n",
       " 23207,\n",
       " 23231,\n",
       " 23265,\n",
       " 23266,\n",
       " 23285,\n",
       " 23358,\n",
       " 23372,\n",
       " 23400,\n",
       " 23431,\n",
       " 23443,\n",
       " 23452,\n",
       " 23522,\n",
       " 23534,\n",
       " 23599,\n",
       " 23638,\n",
       " 23639,\n",
       " 23657,\n",
       " 23662,\n",
       " 23676,\n",
       " 23700,\n",
       " 23730,\n",
       " 23744,\n",
       " 23766,\n",
       " 23804,\n",
       " 23816,\n",
       " 23882,\n",
       " 23902,\n",
       " 23920,\n",
       " 23926,\n",
       " 23933,\n",
       " 24006,\n",
       " 24015,\n",
       " 24049,\n",
       " 24066,\n",
       " 24089,\n",
       " 24095,\n",
       " 24097,\n",
       " 24098,\n",
       " 24199,\n",
       " 24212,\n",
       " 24352,\n",
       " 24460,\n",
       " 24479,\n",
       " 24520,\n",
       " 24530,\n",
       " 24557,\n",
       " 24562,\n",
       " 24572,\n",
       " 24576,\n",
       " 24636,\n",
       " 24748,\n",
       " 24754,\n",
       " 24777,\n",
       " 24859,\n",
       " 24916,\n",
       " 24940,\n",
       " 24997,\n",
       " 25013,\n",
       " 25074,\n",
       " 25097,\n",
       " 25185,\n",
       " 25208,\n",
       " 25277,\n",
       " 25319,\n",
       " 25348,\n",
       " 25356,\n",
       " 25430,\n",
       " 25449,\n",
       " 25494,\n",
       " 25515,\n",
       " 25532,\n",
       " 25547,\n",
       " 25668,\n",
       " 25710,\n",
       " 25715,\n",
       " 25733,\n",
       " 25749,\n",
       " 25760,\n",
       " 25781,\n",
       " 25795,\n",
       " 25802,\n",
       " 25850,\n",
       " 25859,\n",
       " 25887,\n",
       " 25924,\n",
       " 25933,\n",
       " 25937,\n",
       " 25986,\n",
       " 26061,\n",
       " 26098,\n",
       " 26180,\n",
       " 26185,\n",
       " 26212,\n",
       " 26225,\n",
       " 26254,\n",
       " 26273,\n",
       " 26296,\n",
       " 26353,\n",
       " 26381,\n",
       " 26432,\n",
       " 26452,\n",
       " 26503,\n",
       " 26527,\n",
       " 26572,\n",
       " 26668,\n",
       " 26701,\n",
       " 26772,\n",
       " 26789,\n",
       " 26879,\n",
       " 26923,\n",
       " 26933,\n",
       " 26937,\n",
       " 26955,\n",
       " 26958,\n",
       " 26979,\n",
       " 27012,\n",
       " 27038,\n",
       " 27101,\n",
       " 27130,\n",
       " 27166,\n",
       " 27232,\n",
       " 27242,\n",
       " 27294,\n",
       " 27343,\n",
       " 27364,\n",
       " 27370,\n",
       " 27375,\n",
       " 27387,\n",
       " 27404,\n",
       " 27418,\n",
       " 27427,\n",
       " 27443,\n",
       " 27462,\n",
       " 27471,\n",
       " 27487,\n",
       " 27530,\n",
       " 27550,\n",
       " 27564,\n",
       " 27576,\n",
       " 27607,\n",
       " 27623,\n",
       " 27627,\n",
       " 27630,\n",
       " 27667,\n",
       " 27681,\n",
       " 27741,\n",
       " 27771,\n",
       " 27830,\n",
       " 27886,\n",
       " 27914,\n",
       " 27936,\n",
       " 27972,\n",
       " 28043,\n",
       " 28107,\n",
       " 28153,\n",
       " 28162,\n",
       " 28166,\n",
       " 28186,\n",
       " 28189,\n",
       " 28220,\n",
       " 28319,\n",
       " 28344,\n",
       " 28361,\n",
       " 28376,\n",
       " 28382,\n",
       " 28423,\n",
       " 28428,\n",
       " 28452,\n",
       " 28471,\n",
       " 28498,\n",
       " 28573,\n",
       " 28595,\n",
       " 28601,\n",
       " 28640,\n",
       " 28656,\n",
       " 28712,\n",
       " 28721,\n",
       " 28744,\n",
       " 28774,\n",
       " 28859,\n",
       " 28895,\n",
       " 28956,\n",
       " 29005,\n",
       " 29010,\n",
       " 29076,\n",
       " 29092,\n",
       " 29109,\n",
       " 29149,\n",
       " 29154,\n",
       " 29163,\n",
       " 29200,\n",
       " 29238,\n",
       " 29321,\n",
       " 29345,\n",
       " 29346,\n",
       " 29406,\n",
       " 29411,\n",
       " 29412,\n",
       " 29430,\n",
       " 29436,\n",
       " 29446,\n",
       " 29484,\n",
       " 29501,\n",
       " 29533,\n",
       " 29598,\n",
       " 29628,\n",
       " 29648,\n",
       " 29694,\n",
       " 29836,\n",
       " 29891,\n",
       " 29898,\n",
       " 29906,\n",
       " 29913,\n",
       " 29916,\n",
       " 29946,\n",
       " 29985,\n",
       " 29987,\n",
       " 30006,\n",
       " 30015,\n",
       " 30062,\n",
       " 30077,\n",
       " 30089,\n",
       " 30115,\n",
       " 30116,\n",
       " 30125,\n",
       " 30126,\n",
       " 30195,\n",
       " 30206,\n",
       " 30236,\n",
       " 30293,\n",
       " 30334,\n",
       " 30354,\n",
       " 30359,\n",
       " 30360,\n",
       " 30372,\n",
       " 30420,\n",
       " 30448,\n",
       " 30497,\n",
       " 30509,\n",
       " 30519,\n",
       " 30577,\n",
       " 30654,\n",
       " 30717,\n",
       " 30729,\n",
       " 30759,\n",
       " 30805,\n",
       " 30830,\n",
       " 30931,\n",
       " 30936,\n",
       " 30947,\n",
       " 30999,\n",
       " 31115,\n",
       " 31214,\n",
       " 31219,\n",
       " 31249,\n",
       " 31257,\n",
       " 31273,\n",
       " 31274,\n",
       " 31293,\n",
       " 31315,\n",
       " 31346,\n",
       " 31389,\n",
       " 31406,\n",
       " 31427,\n",
       " 31435,\n",
       " 31453,\n",
       " 31478,\n",
       " 31495,\n",
       " 31540,\n",
       " 31542,\n",
       " 31569,\n",
       " 31571,\n",
       " 31581,\n",
       " 31601,\n",
       " 31629,\n",
       " 31674,\n",
       " 31690,\n",
       " 31708,\n",
       " 31761,\n",
       " 31789,\n",
       " 31791,\n",
       " 31807,\n",
       " 31810,\n",
       " 31819,\n",
       " 31861,\n",
       " 31956,\n",
       " 32034,\n",
       " 32144,\n",
       " 32193,\n",
       " 32204,\n",
       " 32207,\n",
       " 32271,\n",
       " 32285,\n",
       " 32305,\n",
       " 32328,\n",
       " 32469,\n",
       " 32495,\n",
       " 32510,\n",
       " 7,\n",
       " 8,\n",
       " 58,\n",
       " 59,\n",
       " 83,\n",
       " 100,\n",
       " 104,\n",
       " 105,\n",
       " ...]"
      ]
     },
     "execution_count": 54,
     "metadata": {},
     "output_type": "execute_result"
    }
   ],
   "source": [
    "index_list"
   ]
  },
  {
   "cell_type": "code",
   "execution_count": 56,
   "id": "7623087b",
   "metadata": {},
   "outputs": [],
   "source": [
    "# define a function called remove which returns a cleaned dataframe without outliers\n",
    "def remove(df,ls):\n",
    "    ls=sorted(set(ls))\n",
    "    df=df.drop(ls)\n",
    "    return df"
   ]
  },
  {
   "cell_type": "code",
   "execution_count": 57,
   "id": "9bf81f98",
   "metadata": {},
   "outputs": [],
   "source": [
    "df_cleaned=remove(df1,index_list)"
   ]
  },
  {
   "cell_type": "code",
   "execution_count": 58,
   "id": "c60fc189",
   "metadata": {},
   "outputs": [
    {
     "data": {
      "text/plain": [
       "(19766, 5)"
      ]
     },
     "execution_count": 58,
     "metadata": {},
     "output_type": "execute_result"
    }
   ],
   "source": [
    "df_cleaned.shape"
   ]
  },
  {
   "cell_type": "code",
   "execution_count": 59,
   "id": "2e508080",
   "metadata": {},
   "outputs": [],
   "source": [
    "x=df_cleaned.drop('Income',axis=1)\n",
    "y=df_cleaned['Income']"
   ]
  },
  {
   "cell_type": "code",
   "execution_count": 65,
   "id": "dd070880",
   "metadata": {},
   "outputs": [
    {
     "data": {
      "image/png": "[encoded data removed]",
      "text/plain": [
       "<Figure size 1440x576 with 1 Axes>"
      ]
     },
     "metadata": {
      "needs_background": "light"
     },
     "output_type": "display_data"
    }
   ],
   "source": [
    "x.iloc[:,0:5].boxplot(figsize=[20,8])\n",
    "plt.subplots_adjust(bottom=0.1)\n",
    "plt.show()"
   ]
  },
  {
   "cell_type": "markdown",
   "id": "b0dc7df8",
   "metadata": {},
   "source": [
    "Therefore we have removed most of the outliers"
   ]
  },
  {
   "cell_type": "markdown",
   "id": "5419e1d1",
   "metadata": {},
   "source": [
    "# Training Process Began"
   ]
  },
  {
   "cell_type": "code",
   "execution_count": 66,
   "id": "2d90db53",
   "metadata": {},
   "outputs": [],
   "source": [
    "from sklearn.linear_model import LogisticRegression\n",
    "from sklearn.metrics import accuracy_score\n",
    "from sklearn.metrics import confusion_matrix,classification_report\n",
    "from sklearn.model_selection import train_test_split"
   ]
  },
  {
   "cell_type": "markdown",
   "id": "2902ec42",
   "metadata": {},
   "source": [
    "Best Random State"
   ]
  },
  {
   "cell_type": "code",
   "execution_count": 68,
   "id": "5abd34cf",
   "metadata": {},
   "outputs": [
    {
     "name": "stdout",
     "output_type": "stream",
     "text": [
      "Accuracy 0.7964087000505817 random_state 1\n",
      "Accuracy 0.7964087000505817 Random_state 1\n",
      "Accuracy 0.7910976226605969 random_state 2\n",
      "Accuracy 0.7931208902377339 random_state 3\n",
      "Accuracy 0.7964087000505817 random_state 4\n",
      "Accuracy 0.7981790591805766 random_state 5\n",
      "Accuracy 0.7981790591805766 Random_state 5\n",
      "Accuracy 0.7916034395548811 random_state 6\n",
      "Accuracy 0.7964087000505817 random_state 7\n",
      "Accuracy 0.7984319676277187 random_state 8\n",
      "Accuracy 0.7984319676277187 Random_state 8\n",
      "Accuracy 0.7860394537177542 random_state 9\n",
      "Accuracy 0.7969145169448659 random_state 10\n",
      "Accuracy 0.7971674253920081 random_state 11\n",
      "Accuracy 0.7862923621648963 random_state 12\n",
      "Accuracy 0.8032372281234194 random_state 13\n",
      "Accuracy 0.8032372281234194 Random_state 13\n",
      "Accuracy 0.7994436014162873 random_state 14\n",
      "Accuracy 0.7845220030349014 random_state 15\n",
      "Accuracy 0.7918563480020233 random_state 16\n",
      "Accuracy 0.7961557916034395 random_state 17\n",
      "Accuracy 0.7981790591805766 random_state 18\n",
      "Accuracy 0.7885685381891755 random_state 19\n",
      "Accuracy 0.7862923621648963 random_state 20\n",
      "Accuracy 0.7855336368234699 random_state 21\n",
      "Accuracy 0.8014668689934243 random_state 22\n",
      "Accuracy 0.7938796155791603 random_state 23\n",
      "Accuracy 0.7903388973191705 random_state 24\n",
      "Accuracy 0.7953970662620131 random_state 25\n",
      "Accuracy 0.7946383409205867 random_state 26\n",
      "Accuracy 0.7830045523520486 random_state 27\n",
      "Accuracy 0.7964087000505817 random_state 28\n",
      "Accuracy 0.7994436014162873 random_state 29\n",
      "Accuracy 0.7999494183105715 random_state 30\n",
      "Accuracy 0.7862923621648963 random_state 31\n",
      "Accuracy 0.7946383409205867 random_state 32\n",
      "Accuracy 0.7961557916034395 random_state 33\n",
      "Accuracy 0.7976732422862923 random_state 34\n",
      "Accuracy 0.8032372281234194 random_state 35\n",
      "Accuracy 0.7928679817905918 random_state 36\n",
      "Accuracy 0.8022255943348507 random_state 37\n",
      "Accuracy 0.7862923621648963 random_state 38\n",
      "Accuracy 0.7865452706120385 random_state 39\n",
      "Accuracy 0.7885685381891755 random_state 40\n",
      "Accuracy 0.8002023267577137 random_state 41\n",
      "Accuracy 0.7926150733434497 random_state 42\n",
      "Accuracy 0.7964087000505817 random_state 43\n",
      "Accuracy 0.8080424886191199 random_state 44\n",
      "Accuracy 0.8080424886191199 Random_state 44\n",
      "Accuracy 0.8032372281234194 random_state 45\n",
      "Accuracy 0.7910976226605969 random_state 46\n",
      "Accuracy 0.7895801719777441 random_state 47\n",
      "Accuracy 0.7918563480020233 random_state 48\n",
      "Accuracy 0.7974203338391502 random_state 49\n",
      "Accuracy 0.7873039959534649 random_state 50\n",
      "Accuracy 0.7870510875063227 random_state 51\n",
      "Accuracy 0.7926150733434497 random_state 52\n",
      "Accuracy 0.7931208902377339 random_state 53\n",
      "Accuracy 0.7976732422862923 random_state 54\n",
      "Accuracy 0.7938796155791603 random_state 55\n",
      "Accuracy 0.7946383409205867 random_state 56\n",
      "Accuracy 0.7938796155791603 random_state 57\n",
      "Accuracy 0.7976732422862923 random_state 58\n",
      "Accuracy 0.8037430450177036 random_state 59\n",
      "Accuracy 0.7933737986848761 random_state 60\n",
      "Accuracy 0.7984319676277187 random_state 61\n",
      "Accuracy 0.8032372281234194 random_state 62\n",
      "Accuracy 0.7928679817905918 random_state 63\n",
      "Accuracy 0.8002023267577137 random_state 64\n",
      "Accuracy 0.795144157814871 random_state 65\n",
      "Accuracy 0.7991906929691451 random_state 66\n",
      "Accuracy 0.7880627212948913 random_state 67\n",
      "Accuracy 0.7976732422862923 random_state 68\n",
      "Accuracy 0.7986848760748609 random_state 69\n",
      "Accuracy 0.7814871016691958 random_state 70\n",
      "Accuracy 0.7948912493677289 random_state 71\n",
      "Accuracy 0.791350531107739 random_state 72\n",
      "Accuracy 0.7966616084977238 random_state 73\n",
      "Accuracy 0.795144157814871 random_state 74\n",
      "Accuracy 0.8009610520991401 random_state 75\n",
      "Accuracy 0.7865452706120385 random_state 76\n",
      "Accuracy 0.7923621648963075 random_state 77\n",
      "Accuracy 0.7999494183105715 random_state 78\n",
      "Accuracy 0.7979261507334345 random_state 79\n",
      "Accuracy 0.7898330804248862 random_state 80\n",
      "Accuracy 0.7941325240263025 random_state 81\n",
      "Accuracy 0.7996965098634294 random_state 82\n",
      "Accuracy 0.7976732422862923 random_state 83\n",
      "Accuracy 0.7888214466363177 random_state 84\n",
      "Accuracy 0.7948912493677289 random_state 85\n",
      "Accuracy 0.7923621648963075 random_state 86\n",
      "Accuracy 0.7966616084977238 random_state 87\n",
      "Accuracy 0.7928679817905918 random_state 88\n",
      "Accuracy 0.8012139605462822 random_state 89\n",
      "Accuracy 0.7885685381891755 random_state 90\n",
      "Accuracy 0.7991906929691451 random_state 91\n",
      "Accuracy 0.8007081436519979 random_state 92\n",
      "Accuracy 0.7903388973191705 random_state 93\n",
      "Accuracy 0.7900859888720283 random_state 94\n",
      "Accuracy 0.8002023267577137 random_state 95\n",
      "Accuracy 0.8002023267577137 random_state 96\n",
      "Accuracy 0.7885685381891755 random_state 97\n",
      "Accuracy 0.7893272635306019 random_state 98\n",
      "Accuracy 0.7845220030349014 random_state 99\n",
      "Accuracy 0.7895801719777441 random_state 100\n",
      "Accuracy 0.7895801719777441 random_state 101\n",
      "Accuracy 0.7931208902377339 random_state 102\n",
      "Accuracy 0.7921092564491654 random_state 103\n",
      "Accuracy 0.7933737986848761 random_state 104\n",
      "Accuracy 0.7979261507334345 random_state 105\n",
      "Accuracy 0.7880627212948913 random_state 106\n",
      "Accuracy 0.7933737986848761 random_state 107\n",
      "Accuracy 0.8019726858877086 random_state 108\n",
      "Accuracy 0.8090541224076884 random_state 109\n",
      "Accuracy 0.8090541224076884 Random_state 109\n",
      "Accuracy 0.7910976226605969 random_state 110\n",
      "Accuracy 0.80450177035913 random_state 111\n",
      "Accuracy 0.7857865452706121 random_state 112\n",
      "Accuracy 0.8029843196762771 random_state 113\n",
      "Accuracy 0.7961557916034395 random_state 114\n",
      "Accuracy 0.7936267071320182 random_state 115\n",
      "Accuracy 0.7867981790591806 random_state 116\n",
      "Accuracy 0.7946383409205867 random_state 117\n",
      "Accuracy 0.8012139605462822 random_state 118\n",
      "Accuracy 0.798937784522003 random_state 119\n",
      "Accuracy 0.8042488619119879 random_state 120\n",
      "Accuracy 0.7946383409205867 random_state 121\n",
      "Accuracy 0.7908447142134547 random_state 122\n",
      "Accuracy 0.7936267071320182 random_state 123\n",
      "Accuracy 0.7943854324734446 random_state 124\n",
      "Accuracy 0.7969145169448659 random_state 125\n",
      "Accuracy 0.7966616084977238 random_state 126\n",
      "Accuracy 0.8002023267577137 random_state 127\n",
      "Accuracy 0.8072837632776935 random_state 128\n",
      "Accuracy 0.8009610520991401 random_state 129\n",
      "Accuracy 0.7956499747091553 random_state 130\n",
      "Accuracy 0.7953970662620131 random_state 131\n",
      "Accuracy 0.8017197774405666 random_state 132\n",
      "Accuracy 0.7931208902377339 random_state 133\n",
      "Accuracy 0.7956499747091553 random_state 134\n",
      "Accuracy 0.7959028831562974 random_state 135\n",
      "Accuracy 0.7903388973191705 random_state 136\n",
      "Accuracy 0.7941325240263025 random_state 137\n",
      "Accuracy 0.7890743550834598 random_state 138\n",
      "Accuracy 0.7926150733434497 random_state 139\n",
      "Accuracy 0.787556904400607 random_state 140\n",
      "Accuracy 0.7900859888720283 random_state 141\n",
      "Accuracy 0.7928679817905918 random_state 142\n",
      "Accuracy 0.8017197774405666 random_state 143\n",
      "Accuracy 0.7941325240263025 random_state 144\n",
      "Accuracy 0.7890743550834598 random_state 145\n",
      "Accuracy 0.7921092564491654 random_state 146\n",
      "Accuracy 0.798937784522003 random_state 147\n",
      "Accuracy 0.7961557916034395 random_state 148\n",
      "Accuracy 0.7941325240263025 random_state 149\n",
      "Accuracy 0.7948912493677289 random_state 150\n",
      "Accuracy 0.7873039959534649 random_state 151\n",
      "Accuracy 0.7857865452706121 random_state 152\n",
      "Accuracy 0.7845220030349014 random_state 153\n",
      "Accuracy 0.7910976226605969 random_state 154\n",
      "Accuracy 0.8009610520991401 random_state 155\n",
      "Accuracy 0.7974203338391502 random_state 156\n",
      "Accuracy 0.7918563480020233 random_state 157\n",
      "Accuracy 0.8029843196762771 random_state 158\n",
      "Accuracy 0.8007081436519979 random_state 159\n",
      "Accuracy 0.7991906929691451 random_state 160\n",
      "Accuracy 0.7981790591805766 random_state 161\n",
      "Accuracy 0.7964087000505817 random_state 162\n",
      "Accuracy 0.7981790591805766 random_state 163\n",
      "Accuracy 0.7974203338391502 random_state 164\n",
      "Accuracy 0.7900859888720283 random_state 165\n",
      "Accuracy 0.7916034395548811 random_state 166\n",
      "Accuracy 0.7908447142134547 random_state 167\n",
      "Accuracy 0.7966616084977238 random_state 168\n",
      "Accuracy 0.8037430450177036 random_state 169\n",
      "Accuracy 0.7900859888720283 random_state 170\n",
      "Accuracy 0.7961557916034395 random_state 171\n",
      "Accuracy 0.7908447142134547 random_state 172\n",
      "Accuracy 0.8060192210419828 random_state 173\n",
      "Accuracy 0.7953970662620131 random_state 174\n",
      "Accuracy 0.7857865452706121 random_state 175\n",
      "Accuracy 0.7873039959534649 random_state 176\n",
      "Accuracy 0.7918563480020233 random_state 177\n",
      "Accuracy 0.7895801719777441 random_state 178\n",
      "Accuracy 0.7984319676277187 random_state 179\n",
      "Accuracy 0.7974203338391502 random_state 180\n"
     ]
    },
    {
     "name": "stdout",
     "output_type": "stream",
     "text": [
      "Accuracy 0.7928679817905918 random_state 181\n",
      "Accuracy 0.8060192210419828 random_state 182\n",
      "Accuracy 0.7867981790591806 random_state 183\n",
      "Accuracy 0.795144157814871 random_state 184\n",
      "Accuracy 0.7974203338391502 random_state 185\n",
      "Accuracy 0.7921092564491654 random_state 186\n",
      "Accuracy 0.7971674253920081 random_state 187\n",
      "Accuracy 0.7908447142134547 random_state 188\n",
      "Accuracy 0.802731411229135 random_state 189\n",
      "Accuracy 0.7905918057663126 random_state 190\n",
      "Accuracy 0.7900859888720283 random_state 191\n",
      "Accuracy 0.8009610520991401 random_state 192\n",
      "Accuracy 0.7873039959534649 random_state 193\n",
      "Accuracy 0.791350531107739 random_state 194\n",
      "Accuracy 0.7941325240263025 random_state 195\n",
      "Accuracy 0.8050075872534143 random_state 196\n",
      "Accuracy 0.7883156297420334 random_state 197\n",
      "Accuracy 0.802731411229135 random_state 198\n",
      "Accuracy 0.7938796155791603 random_state 199\n"
     ]
    }
   ],
   "source": [
    "maxaccu=0\n",
    "maxrs=0\n",
    "for i in range(1,200):\n",
    "    x_train,x_test,y_train,y_test=train_test_split(x,y,test_size=0.20,random_state=i)\n",
    "    lr=LogisticRegression()\n",
    "    lr.fit(x_train,y_train)\n",
    "    y_pred=lr.predict(x_test)\n",
    "    acc=accuracy_score(y_test,y_pred)\n",
    "    print('Accuracy',acc,'random_state',i)\n",
    "    if acc>maxaccu:\n",
    "        maxaccu=acc\n",
    "        maxrs=i\n",
    "        print('Accuracy',maxaccu,'Random_state',i)"
   ]
  },
  {
   "cell_type": "code",
   "execution_count": 69,
   "id": "0613b315",
   "metadata": {},
   "outputs": [
    {
     "name": "stdout",
     "output_type": "stream",
     "text": [
      "Best accuracy is 0.8090541224076884 on random state 109\n"
     ]
    }
   ],
   "source": [
    "print('Best accuracy is',maxaccu,'on random state',maxrs)"
   ]
  },
  {
   "cell_type": "markdown",
   "id": "c8680156",
   "metadata": {},
   "source": [
    "We have found the best random state value as 109. we will create train_test_split using this random\n",
    "state"
   ]
  },
  {
   "cell_type": "code",
   "execution_count": 70,
   "id": "1886f6a5",
   "metadata": {},
   "outputs": [],
   "source": [
    "x_train,x_test,y_train,y_test=train_test_split(x,y,test_size=0.20,random_state=109)"
   ]
  },
  {
   "cell_type": "code",
   "execution_count": 71,
   "id": "d4cb2d98",
   "metadata": {},
   "outputs": [
    {
     "data": {
      "text/html": [
       "<div>\n",
       "<style scoped>\n",
       "    .dataframe tbody tr th:only-of-type {\n",
       "        vertical-align: middle;\n",
       "    }\n",
       "\n",
       "    .dataframe tbody tr th {\n",
       "        vertical-align: top;\n",
       "    }\n",
       "\n",
       "    .dataframe thead th {\n",
       "        text-align: right;\n",
       "    }\n",
       "</style>\n",
       "<table border=\"1\" class=\"dataframe\">\n",
       "  <thead>\n",
       "    <tr style=\"text-align: right;\">\n",
       "      <th></th>\n",
       "      <th>Fnlwgt</th>\n",
       "      <th>Capital_gain</th>\n",
       "      <th>Capital_loss</th>\n",
       "      <th>Hours_per_week</th>\n",
       "    </tr>\n",
       "  </thead>\n",
       "  <tbody>\n",
       "    <tr>\n",
       "      <th>17365</th>\n",
       "      <td>48779</td>\n",
       "      <td>0</td>\n",
       "      <td>0</td>\n",
       "      <td>40</td>\n",
       "    </tr>\n",
       "    <tr>\n",
       "      <th>1648</th>\n",
       "      <td>143372</td>\n",
       "      <td>0</td>\n",
       "      <td>0</td>\n",
       "      <td>40</td>\n",
       "    </tr>\n",
       "    <tr>\n",
       "      <th>16342</th>\n",
       "      <td>188436</td>\n",
       "      <td>0</td>\n",
       "      <td>0</td>\n",
       "      <td>48</td>\n",
       "    </tr>\n",
       "    <tr>\n",
       "      <th>4540</th>\n",
       "      <td>264936</td>\n",
       "      <td>0</td>\n",
       "      <td>0</td>\n",
       "      <td>40</td>\n",
       "    </tr>\n",
       "    <tr>\n",
       "      <th>31533</th>\n",
       "      <td>232586</td>\n",
       "      <td>0</td>\n",
       "      <td>0</td>\n",
       "      <td>50</td>\n",
       "    </tr>\n",
       "    <tr>\n",
       "      <th>...</th>\n",
       "      <td>...</td>\n",
       "      <td>...</td>\n",
       "      <td>...</td>\n",
       "      <td>...</td>\n",
       "    </tr>\n",
       "    <tr>\n",
       "      <th>26878</th>\n",
       "      <td>178431</td>\n",
       "      <td>0</td>\n",
       "      <td>0</td>\n",
       "      <td>40</td>\n",
       "    </tr>\n",
       "    <tr>\n",
       "      <th>27149</th>\n",
       "      <td>94809</td>\n",
       "      <td>0</td>\n",
       "      <td>0</td>\n",
       "      <td>45</td>\n",
       "    </tr>\n",
       "    <tr>\n",
       "      <th>13077</th>\n",
       "      <td>238638</td>\n",
       "      <td>0</td>\n",
       "      <td>0</td>\n",
       "      <td>40</td>\n",
       "    </tr>\n",
       "    <tr>\n",
       "      <th>32448</th>\n",
       "      <td>71556</td>\n",
       "      <td>0</td>\n",
       "      <td>0</td>\n",
       "      <td>50</td>\n",
       "    </tr>\n",
       "    <tr>\n",
       "      <th>18935</th>\n",
       "      <td>211184</td>\n",
       "      <td>0</td>\n",
       "      <td>0</td>\n",
       "      <td>52</td>\n",
       "    </tr>\n",
       "  </tbody>\n",
       "</table>\n",
       "<p>15812 rows × 4 columns</p>\n",
       "</div>"
      ],
      "text/plain": [
       "       Fnlwgt  Capital_gain  Capital_loss  Hours_per_week\n",
       "17365   48779             0             0              40\n",
       "1648   143372             0             0              40\n",
       "16342  188436             0             0              48\n",
       "4540   264936             0             0              40\n",
       "31533  232586             0             0              50\n",
       "...       ...           ...           ...             ...\n",
       "26878  178431             0             0              40\n",
       "27149   94809             0             0              45\n",
       "13077  238638             0             0              40\n",
       "32448   71556             0             0              50\n",
       "18935  211184             0             0              52\n",
       "\n",
       "[15812 rows x 4 columns]"
      ]
     },
     "execution_count": 71,
     "metadata": {},
     "output_type": "execute_result"
    }
   ],
   "source": [
    "x_train"
   ]
  },
  {
   "cell_type": "code",
   "execution_count": 72,
   "id": "9814b7af",
   "metadata": {},
   "outputs": [
    {
     "data": {
      "text/plain": [
       "17365    1\n",
       "1648     0\n",
       "16342    0\n",
       "4540     0\n",
       "31533    1\n",
       "        ..\n",
       "26878    0\n",
       "27149    1\n",
       "13077    0\n",
       "32448    1\n",
       "18935    0\n",
       "Name: Income, Length: 15812, dtype: int32"
      ]
     },
     "execution_count": 72,
     "metadata": {},
     "output_type": "execute_result"
    }
   ],
   "source": [
    "y_train"
   ]
  },
  {
   "cell_type": "code",
   "execution_count": 73,
   "id": "a961858b",
   "metadata": {},
   "outputs": [
    {
     "data": {
      "text/html": [
       "<div>\n",
       "<style scoped>\n",
       "    .dataframe tbody tr th:only-of-type {\n",
       "        vertical-align: middle;\n",
       "    }\n",
       "\n",
       "    .dataframe tbody tr th {\n",
       "        vertical-align: top;\n",
       "    }\n",
       "\n",
       "    .dataframe thead th {\n",
       "        text-align: right;\n",
       "    }\n",
       "</style>\n",
       "<table border=\"1\" class=\"dataframe\">\n",
       "  <thead>\n",
       "    <tr style=\"text-align: right;\">\n",
       "      <th></th>\n",
       "      <th>Fnlwgt</th>\n",
       "      <th>Capital_gain</th>\n",
       "      <th>Capital_loss</th>\n",
       "      <th>Hours_per_week</th>\n",
       "    </tr>\n",
       "  </thead>\n",
       "  <tbody>\n",
       "    <tr>\n",
       "      <th>23120</th>\n",
       "      <td>105617</td>\n",
       "      <td>0</td>\n",
       "      <td>0</td>\n",
       "      <td>40</td>\n",
       "    </tr>\n",
       "    <tr>\n",
       "      <th>19644</th>\n",
       "      <td>174051</td>\n",
       "      <td>0</td>\n",
       "      <td>0</td>\n",
       "      <td>48</td>\n",
       "    </tr>\n",
       "    <tr>\n",
       "      <th>14196</th>\n",
       "      <td>201197</td>\n",
       "      <td>0</td>\n",
       "      <td>0</td>\n",
       "      <td>45</td>\n",
       "    </tr>\n",
       "    <tr>\n",
       "      <th>3475</th>\n",
       "      <td>304169</td>\n",
       "      <td>0</td>\n",
       "      <td>0</td>\n",
       "      <td>35</td>\n",
       "    </tr>\n",
       "    <tr>\n",
       "      <th>12039</th>\n",
       "      <td>326886</td>\n",
       "      <td>0</td>\n",
       "      <td>0</td>\n",
       "      <td>40</td>\n",
       "    </tr>\n",
       "    <tr>\n",
       "      <th>...</th>\n",
       "      <td>...</td>\n",
       "      <td>...</td>\n",
       "      <td>...</td>\n",
       "      <td>...</td>\n",
       "    </tr>\n",
       "    <tr>\n",
       "      <th>14852</th>\n",
       "      <td>398931</td>\n",
       "      <td>0</td>\n",
       "      <td>0</td>\n",
       "      <td>40</td>\n",
       "    </tr>\n",
       "    <tr>\n",
       "      <th>2202</th>\n",
       "      <td>34021</td>\n",
       "      <td>0</td>\n",
       "      <td>0</td>\n",
       "      <td>50</td>\n",
       "    </tr>\n",
       "    <tr>\n",
       "      <th>10331</th>\n",
       "      <td>329530</td>\n",
       "      <td>0</td>\n",
       "      <td>0</td>\n",
       "      <td>45</td>\n",
       "    </tr>\n",
       "    <tr>\n",
       "      <th>19824</th>\n",
       "      <td>198546</td>\n",
       "      <td>0</td>\n",
       "      <td>0</td>\n",
       "      <td>38</td>\n",
       "    </tr>\n",
       "    <tr>\n",
       "      <th>22539</th>\n",
       "      <td>244172</td>\n",
       "      <td>0</td>\n",
       "      <td>0</td>\n",
       "      <td>35</td>\n",
       "    </tr>\n",
       "  </tbody>\n",
       "</table>\n",
       "<p>3954 rows × 4 columns</p>\n",
       "</div>"
      ],
      "text/plain": [
       "       Fnlwgt  Capital_gain  Capital_loss  Hours_per_week\n",
       "23120  105617             0             0              40\n",
       "19644  174051             0             0              48\n",
       "14196  201197             0             0              45\n",
       "3475   304169             0             0              35\n",
       "12039  326886             0             0              40\n",
       "...       ...           ...           ...             ...\n",
       "14852  398931             0             0              40\n",
       "2202    34021             0             0              50\n",
       "10331  329530             0             0              45\n",
       "19824  198546             0             0              38\n",
       "22539  244172             0             0              35\n",
       "\n",
       "[3954 rows x 4 columns]"
      ]
     },
     "execution_count": 73,
     "metadata": {},
     "output_type": "execute_result"
    }
   ],
   "source": [
    "x_test"
   ]
  },
  {
   "cell_type": "code",
   "execution_count": 74,
   "id": "46e4f57d",
   "metadata": {},
   "outputs": [
    {
     "data": {
      "text/plain": [
       "23120    0\n",
       "19644    0\n",
       "14196    1\n",
       "3475     0\n",
       "12039    0\n",
       "        ..\n",
       "14852    0\n",
       "2202     0\n",
       "10331    0\n",
       "19824    0\n",
       "22539    0\n",
       "Name: Income, Length: 3954, dtype: int32"
      ]
     },
     "execution_count": 74,
     "metadata": {},
     "output_type": "execute_result"
    }
   ],
   "source": [
    "y_test"
   ]
  },
  {
   "cell_type": "code",
   "execution_count": 75,
   "id": "ea452f17",
   "metadata": {},
   "outputs": [
    {
     "data": {
      "text/plain": [
       "(15812, 4)"
      ]
     },
     "execution_count": 75,
     "metadata": {},
     "output_type": "execute_result"
    }
   ],
   "source": [
    "x_train.shape"
   ]
  },
  {
   "cell_type": "code",
   "execution_count": 76,
   "id": "bb80cb50",
   "metadata": {},
   "outputs": [
    {
     "data": {
      "text/plain": [
       "(3954, 4)"
      ]
     },
     "execution_count": 76,
     "metadata": {},
     "output_type": "execute_result"
    }
   ],
   "source": [
    "x_test.shape"
   ]
  },
  {
   "cell_type": "code",
   "execution_count": 77,
   "id": "c86cfef8",
   "metadata": {},
   "outputs": [
    {
     "data": {
      "text/plain": [
       "(15812,)"
      ]
     },
     "execution_count": 77,
     "metadata": {},
     "output_type": "execute_result"
    }
   ],
   "source": [
    "y_train.shape"
   ]
  },
  {
   "cell_type": "code",
   "execution_count": 78,
   "id": "6b1d8a2b",
   "metadata": {},
   "outputs": [
    {
     "data": {
      "text/plain": [
       "(3954,)"
      ]
     },
     "execution_count": 78,
     "metadata": {},
     "output_type": "execute_result"
    }
   ],
   "source": [
    "y_test.shape"
   ]
  },
  {
   "cell_type": "markdown",
   "id": "684b564c",
   "metadata": {},
   "source": [
    "# Model Evaluation"
   ]
  },
  {
   "cell_type": "markdown",
   "id": "1a25f89c",
   "metadata": {},
   "source": [
    "1. Logistic Regression"
   ]
  },
  {
   "cell_type": "code",
   "execution_count": 79,
   "id": "eecce9a0",
   "metadata": {},
   "outputs": [],
   "source": [
    "from sklearn.linear_model import LogisticRegression"
   ]
  },
  {
   "cell_type": "code",
   "execution_count": 80,
   "id": "7625e75a",
   "metadata": {},
   "outputs": [
    {
     "name": "stdout",
     "output_type": "stream",
     "text": [
      "Accuracy 80.90541224076884\n",
      "[[3199    0]\n",
      " [ 755    0]]\n",
      "              precision    recall  f1-score   support\n",
      "\n",
      "           0       0.81      1.00      0.89      3199\n",
      "           1       0.00      0.00      0.00       755\n",
      "\n",
      "    accuracy                           0.81      3954\n",
      "   macro avg       0.40      0.50      0.45      3954\n",
      "weighted avg       0.65      0.81      0.72      3954\n",
      "\n"
     ]
    }
   ],
   "source": [
    "lr=LogisticRegression()\n",
    "lr.fit(x_train,y_train)\n",
    "y_pred=lr.predict(x_test)\n",
    "print('Accuracy',accuracy_score(y_test,y_pred)*100)\n",
    "print(confusion_matrix(y_test,y_pred))\n",
    "print(classification_report(y_test,y_pred))"
   ]
  },
  {
   "cell_type": "markdown",
   "id": "453ef7a5",
   "metadata": {},
   "source": [
    "2. Decision Tree Classifier"
   ]
  },
  {
   "cell_type": "code",
   "execution_count": 81,
   "id": "596df62d",
   "metadata": {},
   "outputs": [],
   "source": [
    "from sklearn.tree import DecisionTreeClassifier"
   ]
  },
  {
   "cell_type": "code",
   "execution_count": 82,
   "id": "6a852f4b",
   "metadata": {},
   "outputs": [
    {
     "name": "stdout",
     "output_type": "stream",
     "text": [
      "Accuracy 71.11785533636822\n",
      "[[2623  576]\n",
      " [ 566  189]]\n",
      "              precision    recall  f1-score   support\n",
      "\n",
      "           0       0.82      0.82      0.82      3199\n",
      "           1       0.25      0.25      0.25       755\n",
      "\n",
      "    accuracy                           0.71      3954\n",
      "   macro avg       0.53      0.54      0.53      3954\n",
      "weighted avg       0.71      0.71      0.71      3954\n",
      "\n"
     ]
    }
   ],
   "source": [
    "dt=DecisionTreeClassifier()\n",
    "dt.fit(x_train,y_train)\n",
    "y_pred2=dt.predict(x_test)\n",
    "print('Accuracy',accuracy_score(y_test,y_pred2)*100)\n",
    "print(confusion_matrix(y_test,y_pred2))\n",
    "print(classification_report(y_test,y_pred2))"
   ]
  },
  {
   "cell_type": "markdown",
   "id": "483cdf88",
   "metadata": {},
   "source": [
    "3. Random Forest Classifier"
   ]
  },
  {
   "cell_type": "code",
   "execution_count": 83,
   "id": "c19fda14",
   "metadata": {},
   "outputs": [
    {
     "name": "stdout",
     "output_type": "stream",
     "text": [
      "Accuracy 0.7101669195751138\n",
      "[[2616  583]\n",
      " [ 563  192]]\n",
      "              precision    recall  f1-score   support\n",
      "\n",
      "           0       0.82      0.82      0.82      3199\n",
      "           1       0.25      0.25      0.25       755\n",
      "\n",
      "    accuracy                           0.71      3954\n",
      "   macro avg       0.54      0.54      0.54      3954\n",
      "weighted avg       0.71      0.71      0.71      3954\n",
      "\n"
     ]
    }
   ],
   "source": [
    "from sklearn.ensemble import RandomForestClassifier\n",
    "rf=RandomForestClassifier()\n",
    "rf.fit(x_train,y_train)\n",
    "y_pred3=rf.predict(x_test)\n",
    "print('Accuracy',accuracy_score(y_test,y_pred3)*100)\n",
    "print(confusion_matrix(y_test,y_pred3))\n",
    "print(classification_report(y_test,y_pred3))"
   ]
  },
  {
   "cell_type": "markdown",
   "id": "b010f02c",
   "metadata": {},
   "source": [
    "Support Vector Classifier model"
   ]
  },
  {
   "cell_type": "code",
   "execution_count": 84,
   "id": "5caf0676",
   "metadata": {},
   "outputs": [
    {
     "name": "stdout",
     "output_type": "stream",
     "text": [
      "Accuracy 80.90541224076884\n",
      "[[3199    0]\n",
      " [ 755    0]]\n",
      "              precision    recall  f1-score   support\n",
      "\n",
      "           0       0.81      1.00      0.89      3199\n",
      "           1       0.00      0.00      0.00       755\n",
      "\n",
      "    accuracy                           0.81      3954\n",
      "   macro avg       0.40      0.50      0.45      3954\n",
      "weighted avg       0.65      0.81      0.72      3954\n",
      "\n"
     ]
    }
   ],
   "source": [
    "from sklearn.svm import SVC\n",
    "svc=SVC()\n",
    "svc.fit(x_train,y_train)\n",
    "y_pred4=svc.predict(x_test)\n",
    "print('Accuracy',accuracy_score(y_test,y_pred4)*100)\n",
    "print(confusion_matrix(y_test,y_pred4))\n",
    "print(classification_report(y_test,y_pred4))"
   ]
  },
  {
   "cell_type": "markdown",
   "id": "8033b6b2",
   "metadata": {},
   "source": [
    "Cross Validation "
   ]
  },
  {
   "cell_type": "code",
   "execution_count": 85,
   "id": "7e7a142c",
   "metadata": {},
   "outputs": [
    {
     "name": "stdout",
     "output_type": "stream",
     "text": [
      "Cross Validation Score of Logistic Regression model: 0.7945967802509021\n"
     ]
    }
   ],
   "source": [
    "from sklearn.model_selection import cross_val_score\n",
    "scr=cross_val_score(lr,x,y,cv=5)\n",
    "print('Cross Validation Score of Logistic Regression model:',scr.mean())"
   ]
  },
  {
   "cell_type": "code",
   "execution_count": 86,
   "id": "0739ba43",
   "metadata": {},
   "outputs": [
    {
     "name": "stdout",
     "output_type": "stream",
     "text": [
      "Cross Validation Score of Decision Tree model: 0.7047962010886387\n"
     ]
    }
   ],
   "source": [
    "scr2=cross_val_score(dt,x,y,cv=5)\n",
    "print('Cross Validation Score of Decision Tree model:',scr2.mean())"
   ]
  },
  {
   "cell_type": "code",
   "execution_count": 87,
   "id": "5e48f0c1",
   "metadata": {},
   "outputs": [
    {
     "name": "stdout",
     "output_type": "stream",
     "text": [
      "Cross Validation Score of Random Forest model: 0.7045432158668604\n"
     ]
    }
   ],
   "source": [
    "scr3=cross_val_score(rf,x,y,cv=5)\n",
    "print('Cross Validation Score of Random Forest model:',scr3.mean())"
   ]
  },
  {
   "cell_type": "code",
   "execution_count": 88,
   "id": "8029f204",
   "metadata": {},
   "outputs": [
    {
     "name": "stdout",
     "output_type": "stream",
     "text": [
      "Cross Validation Score of Support Vector model: 0.7945967802509021\n"
     ]
    }
   ],
   "source": [
    "scr4=cross_val_score(svc,x,y,cv=5)\n",
    "print('Cross Validation Score of Support Vector model:',scr4.mean())"
   ]
  },
  {
   "cell_type": "markdown",
   "id": "5513e70e",
   "metadata": {},
   "source": [
    "Logistic Regression is performing better among all the other models"
   ]
  },
  {
   "cell_type": "code",
   "execution_count": null,
   "id": "ec7e86fb",
   "metadata": {},
   "outputs": [],
   "source": []
  }
 ],
 "metadata": {
  "kernelspec": {
   "display_name": "Python 3 (ipykernel)",
   "language": "python",
   "name": "python3"
  },
  "language_info": {
   "codemirror_mode": {
    "name": "ipython",
    "version": 3
   },
   "file_extension": ".py",
   "mimetype": "text/x-python",
   "name": "python",
   "nbconvert_exporter": "python",
   "pygments_lexer": "ipython3",
   "version": "3.9.7"
  }
 },
 "nbformat": 4,
 "nbformat_minor": 5
}
